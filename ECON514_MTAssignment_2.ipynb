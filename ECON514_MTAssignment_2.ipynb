{
 "cells": [
  {
   "cell_type": "markdown",
   "id": "diagnostic-noise",
   "metadata": {},
   "source": [
    "# Problem Three\n",
    "*In the directed search model with incomplete infromation, use the jupyter-notebook (if you need it) and prove theoretically that if there is an equilibrium in firms' wages, and the revenue of firm 1 is strictly larger than firm 2, then in the equilibrium firm 1 must set a strictly higher wage than firm 2 and that the wage that firm 1 sets will be such that $\\lambda w_1 + (1-\\lambda) \\leq w_2$. Use octave (or sagemath if you can figure out how to do it) to compute the equilibrium in firms wages numerically.*"
   ]
  },
  {
   "cell_type": "markdown",
   "id": "numerous-issue",
   "metadata": {},
   "source": [
    "### General Plan\n",
    "#### Assume\n",
    "- firms are in equilibirum in wages\n",
    "- revenue of firm 1 ( $\\Pi _1$) is strictly larger than revenue of firm 2 ( $\\Pi _2$)\n",
    "    - that is, $\\Pi _1 > \\Pi _2$\n",
    "\n",
    "#### Want to Show\n",
    "- firm 1's wage ( $w_1$) is strictly higher than firm 2's ( $w_2$)\n",
    "    - that is, $w_1 > w_2$\n",
    "- firm 1's wage is such that $\\lambda w_1 + (1-\\lambda) \\leq w_2$ where $\\lambda$ is the probability with which a worker applies to firm 1\n",
    "\n",
    "#### Plan\n",
    "- establish correct payoff functions\n",
    "- figure out worker responses and behaviour in equlibirum\n",
    "- show that if $w_2 > w_1$ then the equlibirium cannot hold\n",
    "- assume $w_1 > w_2$, and show that if $\\lambda w_1 + (1-\\lambda) \\geq w_2$, then the eqilibirium cannot hold"
   ]
  },
  {
   "cell_type": "markdown",
   "id": "balanced-edgar",
   "metadata": {},
   "source": [
    "## Correct Payoff Functions"
   ]
  },
  {
   "cell_type": "markdown",
   "id": "express-facing",
   "metadata": {},
   "source": [
    "### Setup\n",
    "We have two workers, $W_1$ and $W_2$, they can each be one of two types, high ($h$) or low ($l$)\\\n",
    "There are two firms, $F_1$ and $F_2$ which offer wages $w_1$ and $w_2$ respectively.\\\n",
    "$\\lambda$ (denoted $\\gamma$ in the code) is the probability of a worker being the high type.\\\n",
    "Let $\\pi_t$ be the probability with which worker of type $t$ ($t = h, l$) chooses to apply to firm 1.\\\n",
    "Let $P_i$ be the expected payoff for worker $i$\n",
    "Initially we assume nothing about the relationship of $w_1$ and $w_2$ but we do assume in equilibrium that firm 1's revenue ($\\Pi_1$) is greater than firm 2's ($\\Pi_2$).\n",
    "\n",
    "If only one worker (eg worker $i$) applies to a firm, they will be hired and paid that firm's wage. If two workers apply to the same firm the firm will choose the worker of the higher type who will be hired and paid the wage while the other worker recieves no pay. If the workers are of the same type, the firm will choose each worker with probability $\\frac{1}{2}$ such that the workers expected payoff for applying to firm $k$ ($k = 1,2$) is $P_i = \\frac{w_k}{2}$."
   ]
  },
  {
   "cell_type": "markdown",
   "id": "mounted-treasure",
   "metadata": {},
   "source": [
    "## Small wage difference"
   ]
  },
  {
   "cell_type": "markdown",
   "id": "sensitive-investment",
   "metadata": {},
   "source": [
    "### Potential Payoffs for High-Type Worker $i$\n",
    "Let worker $i$ be a high type.\n",
    "\n",
    "If worker $i$ **applies to firm 1**, then we can assume worker $j$ ($j \\neq i$) applies to firm 1 (the same firm) or applies to firm 2 (the other firm).\\\n",
    "If worker $j$ is also a high type (probability $\\lambda$) they apply to firm 1 with probability $\\pi_h$ and if they are a low type (probability $1-\\lambda$) they apply to firm 1 with probability ($\\pi_l$).\n",
    "\n",
    "So if worker $j$ is a high type, worker $i$'s expected payoff is:\n",
    "\\begin{aligned}\n",
    "P_i(F_1,t_j=h) &= \\pi_h (\\frac{w_1}{2}) + (1-\\pi_h)w_1\n",
    "\\end{aligned}\n",
    "\n",
    "If worker $j$ is a low type, worker $i$'s expected payoff is:\n",
    "\\begin{aligned}\n",
    "P_i(F_1,t_j=l) &= \\pi_l(w_1) + (1-\\pi_l)w_1\\\\\n",
    "&= w_1\n",
    "\\end{aligned}\n",
    "\n",
    "Then the expected payoff for worker $i$ of applying to firm 1 is:\\\n",
    "\\begin{aligned}\n",
    "P_i (F_1) &= \\lambda P_i(F_1,t_j=h) + (1-\\lambda)P_i(F_1,t_j=l)\\\\\n",
    "&= \\lambda\\{\\pi_h (\\frac{w_1}{2}) + (1-\\pi_h)w_1\\} + (1-\\lambda)\\{w_1\\}\n",
    "\\end{aligned}"
   ]
  },
  {
   "cell_type": "markdown",
   "id": "saved-milan",
   "metadata": {},
   "source": [
    "If worker $i$ **applies to firm 2**, then we can assume worker $j$ applies to firm 1 (the other firm) or applies to firm 2 (the same firm).\\\n",
    "If worker $j$ is also a high type (probability $\\lambda$) they apply to firm 1 with probability $\\pi_h$ and if they are a low type (probability $1-\\lambda$) they apply to firm 1 with probability ($\\pi_l$).\n",
    "\n",
    "If worker $j$ is a high type, worker $i$'s expected payoff is:\n",
    "\\begin{aligned}\n",
    "P_i(F_2,t_j=h) &= \\pi_h (w_2) + (1-\\pi_h)(\\frac{w_2}{2})\n",
    "\\end{aligned}\n",
    "\n",
    "If worker $j$ is a low type, worker $i$'s expected payoff is:\n",
    "\\begin{aligned}\n",
    "P_i(F_2,t_j=l) &= \\pi_l(w_2) + (1-\\pi_l)(w_2)\\\\\n",
    "&= w_2\n",
    "\\end{aligned}\n",
    "\n",
    "Then the expected payoff for worker $i$ of applying to firm 2 is:\n",
    "\\begin{aligned}\n",
    "P_i (F_1) &= \\lambda P_i(F_2,t_j=h) + (1-\\lambda)P_i(F_2,t_j=l)\\\\\n",
    "&= \\lambda\\{\\pi_h (w_2) + (1-\\pi_h)(\\frac{w_2}{2})\\} + (1-\\lambda)\\{w_2\\}\n",
    "\\end{aligned}"
   ]
  },
  {
   "cell_type": "markdown",
   "id": "stock-sudan",
   "metadata": {},
   "source": [
    "So for worker $i$ to be indifferent we must have:\n",
    "\\begin{aligned}\n",
    "P_i (F_1) &= P_i(F_2)\\\\\n",
    "\\lambda\\{\\pi_h (\\frac{w_1}{2}) + (1-\\pi_h)w_1\\} + (1-\\lambda)\\{w_1\\} &= \\lambda\\{\\pi_h (w_2) + (1-\\pi_h)(\\frac{w_2}{2})\\} + (1-\\lambda)\\{w_2\\}\n",
    "\\end{aligned}"
   ]
  },
  {
   "cell_type": "code",
   "execution_count": 1,
   "id": "treated-latino",
   "metadata": {},
   "outputs": [
    {
     "data": {
      "text/plain": [
       "[pi_h == ((gamma - 2)*w_2 + 2*w_1)/(gamma*w_1 + gamma*w_2)]"
      ]
     },
     "execution_count": 1,
     "metadata": {},
     "output_type": "execute_result"
    }
   ],
   "source": [
    "var('gamma, pi_h, w_1, w_2')\n",
    "PHF1 = gamma*(pi_h*(w_1/2)+(1-pi_h)*w_1)+(1-gamma)*w_1\n",
    "PHF2 = gamma*(pi_h*w_2+(1-pi_h)*(w_2/2))+(1-gamma)*w_2\n",
    "pi_h_star = solve(PHF1 == PHF2, pi_h)\n",
    "pi_h_star"
   ]
  },
  {
   "cell_type": "markdown",
   "id": "arctic-aviation",
   "metadata": {},
   "source": [
    "So we find for worker $i$ of type $h$ to be indifferent between the two firms, workers of type $h$ must choose firm 1 with probability:\\\n",
    "$\\pi_h^* = \\frac{(\\lambda-2)w_2 + 2w_1}{\\lambda(w_1 + w_2)}$\n",
    "\n",
    "We check this equation by setting $w_1 = w_2 = w$ (we expect an answer of $\\frac{1}{2}$ when the wages are equal, as shown in class)."
   ]
  },
  {
   "cell_type": "code",
   "execution_count": 2,
   "id": "august-choir",
   "metadata": {},
   "outputs": [
    {
     "data": {
      "text/html": [
       "<html><script type=\"math/tex; mode=display\">\\newcommand{\\Bold}[1]{\\mathbf{#1}}\\left[\\pi_{h} = \\left(\\frac{1}{2}\\right)\\right]</script></html>"
      ],
      "text/latex": [
       "\\begin{math}\n",
       "\\newcommand{\\Bold}[1]{\\mathbf{#1}}\\left[\\pi_{h} = \\left(\\frac{1}{2}\\right)\\right]\n",
       "\\end{math}"
      ],
      "text/plain": [
       "[pi_h == (1/2)]"
      ]
     },
     "metadata": {},
     "output_type": "display_data"
    }
   ],
   "source": [
    "var('w')\n",
    "check = solve(pi_h == (((gamma - 2)*w + 2*w)/(gamma*w + gamma*w)), pi_h)\n",
    "show(check)"
   ]
  },
  {
   "cell_type": "markdown",
   "id": "adjacent-neighborhood",
   "metadata": {},
   "source": [
    "So the equation behaves as expected.\n",
    "\n",
    "Now we do the same for a player of a low type."
   ]
  },
  {
   "cell_type": "markdown",
   "id": "enhanced-device",
   "metadata": {},
   "source": [
    "### Potential Payoffs for Low-Type Worker $i$\n",
    "Let worker $i$ be a low type.\n",
    "\n",
    "If worker $i$ **applies to firm 1**, then we can assume worker $j$ ($j \\neq i$) applies to firm 1 (the same firm) or applies to firm 2 (the other firm).\\\n",
    "If worker $j$ is also a low type (probability $1-\\lambda$) they apply to firm 1 with probability $\\pi_l$ and if they are a high type (probability $\\lambda$) they apply to firm 1 with probability ($\\pi_h$).\n",
    "\n",
    "So if worker $j$ is a low type, worker $i$'s expected payoff is:\n",
    "\\begin{aligned}\n",
    "P_i(F_1,t_j=l) &= \\pi_l(\\frac{w_1}{2}) + (1-\\pi_l)w_1\\\\\n",
    "&= \\pi_l(\\frac{w_1}{2}) + w_1 -\\pi_lw_1\\\\\n",
    "&= w_1 - \\pi_l(\\frac{w_1}{2})\n",
    "\\end{aligned}\n",
    "\n",
    "If worker $j$ is a high type, worker $i$'s expected payoff is:\n",
    "\\begin{aligned}\n",
    "P_i(F_1,t_j=h) &= \\pi_h (0) + (1-\\pi_h)w_1\\\\\n",
    "&= (1-\\pi_h)w_1\n",
    "\\end{aligned}\n",
    "\n",
    "Then the expected payoff for worker $i$ of applying to firm 1 is:\\\n",
    "\\begin{aligned}\n",
    "P_i (F_1) &= \\lambda P_i(F_1,t_j=h) + (1-\\lambda)P_i(F_1,t_j=l)\\\\\n",
    "&= \\lambda\\{(1-\\pi_h)w_1\\} + (1-\\lambda)\\{w_1 - \\pi_l(\\frac{w_1}{2})\\}\n",
    "\\end{aligned}"
   ]
  },
  {
   "cell_type": "markdown",
   "id": "characteristic-fortune",
   "metadata": {},
   "source": [
    "If worker $i$ **applies to firm 2**, then we can assume worker $j$ ($j \\neq i$) applies to firm 1 (the other firm) or applies to firm 2 (the same firm).\\\n",
    "If worker $j$ is also a low type (probability $1-\\lambda$) they apply to firm 1 with probability $\\pi_l$ and if they are a high type (probability $\\lambda$) they apply to firm 1 with probability ($\\pi_h$).\n",
    "\n",
    "So if worker $j$ is a low type, worker $i$'s expected payoff is:\n",
    "\\begin{aligned}\n",
    "P_i(F_2,t_j=l) &= \\pi_l(w_2) + (1-\\pi_l)(\\frac{w_2}{2})\n",
    "\\end{aligned}\n",
    "\n",
    "If worker $j$ is a high type, worker $i$'s expected payoff is:\n",
    "\\begin{aligned}\n",
    "P_i(F_2,t_j=h) &= \\pi_h (w_2) + (1-\\pi_h) (0)\\\\\n",
    "&= \\pi_hw_2\n",
    "\\end{aligned}\n",
    "\n",
    "Then the expected payoff for worker $i$ of applying to firm 2 is:\\\n",
    "\\begin{aligned}\n",
    "P_i (F_2) &= \\lambda P_i(F_2,t_j=h) + (1-\\lambda)P_i(F_2,t_j=l)\\\\\n",
    "&= \\lambda\\{\\pi_hw_2\\} + (1-\\lambda)\\{\\pi_l(w_2) + (1-\\pi_l)(\\frac{w_2}{2})\\}\n",
    "\\end{aligned}"
   ]
  },
  {
   "cell_type": "markdown",
   "id": "communist-intelligence",
   "metadata": {},
   "source": [
    "So for worker $i$ to be indifferent we must have:\n",
    "\\begin{aligned}\n",
    "P_i (F_1) &= P_i(F_2)\\\\\n",
    "\\lambda\\{(1-\\pi_h)w_1\\} + (1-\\lambda)\\{w_1 - \\pi_l(\\frac{w_1}{2})\\} &= \\lambda\\{\\pi_hw_2\\} + (1-\\lambda)\\{\\pi_l(w_2) + (1-\\pi_l)(\\frac{w_2}{2})\\}\n",
    "\\end{aligned}"
   ]
  },
  {
   "cell_type": "code",
   "execution_count": 3,
   "id": "lesser-dublin",
   "metadata": {},
   "outputs": [
    {
     "data": {
      "text/plain": [
       "[pi_l == (2*(gamma*pi_h - 1)*w_1 + (2*gamma*pi_h - gamma + 1)*w_2)/((gamma - 1)*w_1 + (gamma - 1)*w_2)]"
      ]
     },
     "execution_count": 3,
     "metadata": {},
     "output_type": "execute_result"
    }
   ],
   "source": [
    "var('pi_l')\n",
    "PLF1 = gamma*((1-pi_h)*w_1)+(1-gamma)*(w_1 - pi_l*(w_1/2))\n",
    "PLF2 = gamma*(pi_h*w_2)+(1-gamma)*(pi_l*w_2+(1-pi_l)*(w_2/2))\n",
    "pi_l_star = solve(PLF1 == PLF2, pi_l)\n",
    "pi_l_star"
   ]
  },
  {
   "cell_type": "markdown",
   "id": "polish-tribune",
   "metadata": {},
   "source": [
    "So we find for worker $i$ of type $l$ to be indifferent between the two firms, workers of type $l$ must choose firm 1 with probability:\\\n",
    "\\begin{aligned}\n",
    "\\pi_l^* &= \\frac{2(\\lambda \\pi_h - 1)w_1 + (2\\lambda \\pi_h - \\lambda + 1)w_2}{(\\lambda - 1)w_1 + (\\lambda - 1)w_2}\\\\\n",
    "&= \\frac{2(\\lambda \\pi_h - 1)w_1 + (\\lambda(2\\pi_h - 1) + 1)w_2}{(\\lambda - 1)(w_1 + w_2)} \n",
    "\\end{aligned}\n",
    "As above, we check this equation by setting $w_1 = w_2 = w$ and $\\pi_h = 1/2$ (we expect an answer of $\\frac{1}{2}$ when the wages are equal, as above)."
   ]
  },
  {
   "cell_type": "code",
   "execution_count": 4,
   "id": "younger-lloyd",
   "metadata": {},
   "outputs": [
    {
     "data": {
      "text/html": [
       "<html><script type=\"math/tex; mode=display\">\\newcommand{\\Bold}[1]{\\mathbf{#1}}\\left[\\left[\\pi_{l} = \\left(\\frac{1}{2}\\right), \\pi_{h} = \\left(\\frac{1}{2}\\right)\\right]\\right]</script></html>"
      ],
      "text/latex": [
       "\\begin{math}\n",
       "\\newcommand{\\Bold}[1]{\\mathbf{#1}}\\left[\\left[\\pi_{l} = \\left(\\frac{1}{2}\\right), \\pi_{h} = \\left(\\frac{1}{2}\\right)\\right]\\right]\n",
       "\\end{math}"
      ],
      "text/plain": [
       "[[pi_l == (1/2), pi_h == (1/2)]]"
      ]
     },
     "metadata": {},
     "output_type": "display_data"
    }
   ],
   "source": [
    "var('w')\n",
    "check = solve([pi_l == (2*(gamma*pi_h - 1)*w + (2*gamma*pi_h - gamma + 1)*w)/((gamma - 1)*w + (gamma - 1)*w), pi_h == 1/2], pi_l, pi_h)\n",
    "show(check)"
   ]
  },
  {
   "cell_type": "markdown",
   "id": "found-perception",
   "metadata": {},
   "source": [
    "So, as for the high-type worker, the equation behaves as expected."
   ]
  },
  {
   "cell_type": "markdown",
   "id": "tracked-command",
   "metadata": {},
   "source": [
    "### Payoff for Large Wage Difference \n",
    "As discussed in class, if there is a large enough disparity between the wages a high type worker will only apply to the firm with the higher wage. As we don't know which wage is higher this gives us two possibilities:\n",
    "\n",
    "#### When Wage 1 is greater\n",
    "Assume wage 1 is greater than wage 2. For a high type worker $i$, the potential payoff from applying to firm 1 (since we assume if worker $j$ is a high type they will apply to firm 1) is:\n",
    "\\begin{aligned}\n",
    "P_i (F_1) &= \\lambda (\\frac{w_1}{2}) + (1-\\lambda)(w_1)\\\\\n",
    "&= w_1(\\frac{\\lambda}{2} + 1 - \\lambda)\\\\\n",
    "&= w_1 (1 - \\frac{\\lambda}{2})\n",
    "\\end{aligned}\n",
    "\n",
    "The payoff from applying to firm 2 (knowing only low type workers will apply to firm 2) is:\n",
    "\\begin{aligned}\n",
    "P_i (F_2) &= \\lambda (w_2) + (1-\\lambda)(w_2)\\\\\n",
    "&= w_2\n",
    "\\end{aligned}\n",
    "\n",
    "So for a high type worker to always apply to firm 1 we would need:\n",
    "\\begin{aligned}\n",
    "P_i (F_1) &\\geq P_i (F_2)\\\\\n",
    "w_1 (1 - \\frac{\\lambda}{2}) &\\geq w_2\n",
    "\\end{aligned}\n",
    "\n",
    "If a low type worker always applied to firm 1 as well, then the payoff of a low type worker $j$ applying to firm 1 would be:\n",
    "\\begin{aligned}\n",
    "P_j (F_1) &= \\lambda (0) + (1-\\lambda)(\\frac{w_1}{2})\\\\\n",
    "&= (1-\\lambda)(\\frac{w_1}{2})\\\\\n",
    "&= w_1(\\frac{1-\\lambda}{2})\n",
    "\\end{aligned}\n",
    "\n",
    "And if they deviated and applied to firm 2, their payoff would be:\n",
    "\\begin{aligned}\n",
    "P_j (F_2) &= \\lambda (w_2) + (1-\\lambda)w_2\\\\\n",
    "&= w_2\n",
    "\\end{aligned}\n",
    "\n",
    "So for a low type worker to **not** always apply to firm 1 we would need:\n",
    "\\begin{aligned}\n",
    "P_j (F_1) &\\leq P_j (F_2)\\\\\n",
    "w_1(\\frac{1-\\lambda}{2}) &\\leq w_2\n",
    "\\end{aligned}\n",
    "\n",
    "Thus, assuming $w_1 (1 - \\frac{\\lambda}{2}) \\geq w_2$ and $(1-\\lambda)(\\frac{w_1}{2}) \\leq w_2$, we can assume a low type worker would apply to firm 1 with probability $\\pi_1$.\n",
    "\n",
    "If worker $i$ is a high type, then a low-type worker $j$'s expected profit of applying to firm 1 would be:\n",
    "\\begin{aligned}\n",
    "P_j (F_1, t_i = h) &= 0\n",
    "\\end{aligned}\n",
    "\n",
    "If worker $i$ is a low type, then worker $j$'s expected profit of applying to firm 1 would be:\n",
    "\\begin{aligned}\n",
    "P_j (F_1, t_i = l) &= \\pi_1(\\frac{w_1}{2}) + (1-\\pi_1)(w_1)\n",
    "\\end{aligned}\n",
    "\n",
    "Then the expected payoff for worker $j$ in **applying to firm 1** would be:\n",
    "\\begin{aligned}\n",
    "P_j(F_1) &= \\lambda P_j (F_1, t_i = h) + (1-\\lambda)P_j (F_1, t_i = l)\\\\\n",
    "&= \\lambda \\{0\\} + (1-\\lambda)\\{\\pi_1(\\frac{w_1}{2} + (1-\\pi_1)(w_1)\\}\\\\\n",
    "&= (1-\\lambda)\\{\\pi_1(\\frac{w_1}{2} + (1-\\pi_1)w_1\\}\\\\\n",
    "&= w_1\\{(1-\\lambda)\\frac{pi_1}{2} + 1 - \\pi_1\\}\\\\\n",
    "&= w_1\\{(1-\\lambda)\\frac{pi_1}{2} + 1 - \\pi_1\\}\\\\\n",
    "&= w_1(1-\\lambda)(1 - \\frac{\\pi_1}{2})\n",
    "\\end{aligned}\n",
    "\n",
    "If worker $i$ is a high type, then worker $j$'s expected profit of applying to firm 2 would be:\n",
    "\\begin{aligned}\n",
    "P_j (F_2, t_i = h) &= w_2\n",
    "\\end{aligned}\n",
    "\n",
    "If worker $i$ is a low type, then worker $j$'s expected profit of applying to firm 2 would be:\n",
    "\\begin{aligned}\n",
    "P_j (F_2, t_i = l) &= \\pi_1(w_2) + (1-\\pi_1)(\\frac{w_2}{2})\n",
    "\\end{aligned}\n",
    "\n",
    "Then the expected payoff for worker $j$ in **applying to firm 2** would be:\n",
    "\\begin{aligned}\n",
    "P_j(F_2) &= \\lambda P_j (F_2, t_i = h) + (1-\\lambda)P_j (F_2, t_i = l)\\\\\n",
    "&= \\lambda \\{w_2\\} + (1-\\lambda)\\{\\pi_1(w_2) + (1-\\pi_1)(\\frac{w_2}{2})\\}\\\\\n",
    "&= \\frac{w_2}{2}\\{2\\lambda + (1-\\lambda)(\\pi_1 + 1)\\}\n",
    "\\end{aligned}\n",
    "\n",
    "So in order for a low-type worker, $j$, to be indifferent between the two firms we must have:\n",
    "\\begin{aligned}\n",
    "P_j(F_1) &= P_j(F_2)\\\\\n",
    "w_1(1-\\lambda)(1 - \\frac{\\pi_1}{2}) &= \\frac{w_2}{2}\\{2\\lambda + (1-\\lambda)(\\pi_1 + 1)\\}\n",
    "\\end{aligned}"
   ]
  },
  {
   "cell_type": "code",
   "execution_count": 5,
   "id": "regular-combat",
   "metadata": {},
   "outputs": [
    {
     "data": {
      "text/plain": [
       "[pi_1 == (2*(gamma - 1)*w_1 + (gamma + 1)*w_2)/((gamma - 1)*w_1 + (gamma - 1)*w_2)]"
      ]
     },
     "execution_count": 5,
     "metadata": {},
     "output_type": "execute_result"
    }
   ],
   "source": [
    "var('pi_1')\n",
    "P_1F1 = w_1*(1-gamma)*(1-(pi_1/2))\n",
    "P_1F2 = (w_2/2)*(2*gamma + ((1-gamma)*(pi_1+1)))\n",
    "pi_1_star = solve(P_1F1 == P_1F2, pi_1)\n",
    "pi_1_star"
   ]
  },
  {
   "cell_type": "code",
   "execution_count": 6,
   "id": "ignored-clarity",
   "metadata": {},
   "outputs": [
    {
     "data": {
      "text/plain": [
       "True"
      ]
     },
     "execution_count": 6,
     "metadata": {},
     "output_type": "execute_result"
    }
   ],
   "source": [
    "bool([(2*(gamma - 1)*w_1 + (gamma + 1)*w_2)/((gamma - 1)*w_1 + (gamma - 1)*w_2)] == [(2*(1 - gamma)*w_1 - w_2*(1+gamma))/((1-gamma)*(w_1+w_2))])"
   ]
  },
  {
   "cell_type": "markdown",
   "id": "clear-cooperation",
   "metadata": {},
   "source": [
    "So we find for worker $j$ of type $l$ to be indifferent between the two firms, workers of type $l$ must choose firm 1 with probability:\\\n",
    "$\\pi_1^* = \\frac{2 w_1(1 - \\lambda) + w_2(1+ \\lambda)}{(1 - \\lambda)(w_1 + w_2)}$"
   ]
  },
  {
   "cell_type": "markdown",
   "id": "lyric-causing",
   "metadata": {},
   "source": [
    "#### When Wage 2 is greater\n",
    "Assume wage 2 is greater than wage 1. We use the same approach as above:\n",
    "\n",
    "For a high type worker $i$, the potential payoff from applying to firm 1 (since we assume if worker $j$ is a high type they will apply to firm 2) is:\n",
    "\\begin{aligned}\n",
    "P_i (F_1) &= \\lambda(w_1) + (1-\\lambda)(w_1)\\\\\n",
    "&= w_1\n",
    "\\end{aligned}\n",
    "\n",
    "The payoff from applying to firm 2 (knowing all high type workers will apply to firm 2) is:\n",
    "\\begin{aligned}\n",
    "P_i (F_2) &= \\lambda(\\frac{w_2}{2}) + (1-\\lambda)(w_2)\\\\\n",
    "&= w_2(\\frac{\\lambda}{2} + 1 - \\lambda)\\\\\n",
    "&= w_2(1 - \\frac{\\lambda}{2})\n",
    "\\end{aligned}\n",
    "\n",
    "So for a high type worker to always apply to firm 2 (that is never apply to firm 1) we would need:\n",
    "\\begin{aligned}\n",
    "P_i (F_1) &\\leq P_i (F_2)\\\\\n",
    "w_1 &\\leq w_2(1 - \\frac{\\lambda}{2})\n",
    "\\end{aligned}\n",
    "\n",
    "If a low type worker also always applied to firm 2, then the payoff of a low type worker $j$ applying to firm 2 would be:\n",
    "\\begin{aligned}\n",
    "P_j (F_2) &= \\lambda (0) + (1-\\lambda)(\\frac{w_2}{2})\\\\\n",
    "&= (1-\\lambda)(\\frac{w_2}{2})\\\\\n",
    "&= w_2 \\frac{1-\\lambda}{2}\\\\\n",
    "\\end{aligned}\n",
    "\n",
    "And deviating and applying to firm 1 would be:\n",
    "\\begin{aligned}\n",
    "P_j (F_1) &= \\lambda (w_1) + (1-\\lambda)w_1\\\\\n",
    "&= w_1\n",
    "\\end{aligned}\n",
    "\n",
    "So for a low type worker to **not** always apply to firm 2 we would need:\n",
    "\\begin{aligned}\n",
    "P_j (F_1) &\\geq P_j (F_2)\\\\\n",
    "w_1 &\\geq w_2 \\frac{1-\\lambda}{2}\n",
    "\\end{aligned}\n",
    "\n",
    "Thus, assuming $w_1 \\leq w_2(1 - \\frac{\\lambda}{2})$ and $w_1 \\geq w_2 \\frac{1-\\lambda}{2}$, we can assume a low type worker would apply to firm 1 with probability $\\pi_2$.\n",
    "\n",
    "If worker $i$ is a high type, then low type worker $j$'s expected profit of applying to firm 1 would be:\n",
    "\\begin{aligned}\n",
    "P_j (F_1, t_i = h) &= w_1\n",
    "\\end{aligned}\n",
    "\n",
    "If worker $i$ is a low type, then worker $j$'s expected profit of applying to firm 1 would be:\n",
    "\\begin{aligned}\n",
    "P_j (F_1, t_i = l) &= \\pi_2(\\frac{w_1}{2}) + (1-\\pi_2)(w_1)\\\\\n",
    "&= w_1(\\frac{\\pi_2}{2} + 1 - \\pi_2)\\\\\n",
    "&= w_1(1 - \\frac{\\pi_2}{2})\n",
    "\\end{aligned}\n",
    "\n",
    "Then the expected payoff for worker $j$ in **applying to firm 1** would be:\n",
    "\\begin{aligned}\n",
    "P_j(F_1) &= \\lambda P_j (F_1, t_i = h) + (1-\\lambda)P_j (F_1, t_i = l)\\\\\n",
    "&= \\lambda \\{w_1\\} + (1-\\lambda)\\{w_1(1 - \\frac{\\pi_2}{2})\\}\\\\\n",
    "&= w_1\\{\\lambda + (1-\\lambda)(1 - \\frac{\\pi_2}{2})\\}\n",
    "\\end{aligned}\n",
    "\n",
    "If worker $i$ is a high type, then worker $j$'s expected profit of applying to firm 2 would be:\n",
    "\\begin{aligned}\n",
    "P_j (F_2, t_i = h) &= 0\n",
    "\\end{aligned}\n",
    "\n",
    "If worker $i$ is a low type, then worker $j$'s expected profit of applying to firm 2 would be:\n",
    "\\begin{aligned}\n",
    "P_j (F_2, t_i = l) &= \\pi_2(w_2) + (1-\\pi_2)(\\frac{w_2}{2})\\\\\n",
    "&= w_2(\\pi_2 + \\frac{1-\\pi_2}{2})\\\\\n",
    "&= w_2\\frac{2\\pi_2 + 1 - pi_2}{2}\\\\\n",
    "&= \\frac{w_2}{2}(1 + \\pi_2)\n",
    "\\end{aligned}\n",
    "\n",
    "Then the expected payoff for worker $j$ in **applying to firm 2** would be:\n",
    "\\begin{aligned}\n",
    "P_j(F_2) &= \\lambda P_j (F_2, t_i = h) + (1-\\lambda)P_j (F_2, t_i = l)\\\\\n",
    "&= \\lambda \\{0\\} + (1-\\lambda)\\{\\frac{w_2}{2}(1 + \\pi_2)\\}\\\\\n",
    "&= (1-\\lambda)\\{\\frac{w_2}{2}(1 + \\pi_2)\\}\\\\\n",
    "&= \\frac{w_2}{2}\\{(1-\\lambda)(1 + \\pi_2)\\}\n",
    "\\end{aligned}\n",
    "\n",
    "So in order for a low-type worker, $j$, to be indifferent between the two firms we must have:\n",
    "\\begin{aligned}\n",
    "P_j(F_1) &= P_j(F_2)\\\\\n",
    "w_1\\{\\lambda + (1-\\lambda)(1 - \\frac{\\pi_2}{2})\\} &= \\frac{w_2}{2}\\{(1-\\lambda)(1 + \\pi_2)\\}\n",
    "\\end{aligned}"
   ]
  },
  {
   "cell_type": "code",
   "execution_count": 7,
   "id": "confidential-integrity",
   "metadata": {},
   "outputs": [
    {
     "data": {
      "text/plain": [
       "[pi_2 == -((gamma - 1)*w_2 + 2*w_1)/((gamma - 1)*w_1 + (gamma - 1)*w_2)]"
      ]
     },
     "execution_count": 7,
     "metadata": {},
     "output_type": "execute_result"
    }
   ],
   "source": [
    "var('pi_2')\n",
    "P_2F1 = w_1*(gamma + ((1-gamma)*(1-(pi_2/2))))\n",
    "P_2F2 = (w_2/2)*((1-gamma)*(1+pi_2))\n",
    "pi_2_star = solve(P_2F1 == P_2F2, pi_2)\n",
    "pi_2_star"
   ]
  },
  {
   "cell_type": "markdown",
   "id": "funky-selling",
   "metadata": {},
   "source": [
    "So we find for worker $j$ of type $l$ to be indifferent between the two firms, workers of type $l$ must choose firm 1 with probability:\\\n",
    "$\\pi_2^* = \\frac{2 w_1 - w_2(1-\\lambda)}{(1-\\lambda)(w_1+w_2)}$"
   ]
  },
  {
   "cell_type": "markdown",
   "id": "matched-shark",
   "metadata": {},
   "source": [
    "We now have four equations and four unknowns, so we can simultaneously solve them all:"
   ]
  },
  {
   "cell_type": "code",
   "execution_count": 8,
   "id": "interim-broadcast",
   "metadata": {},
   "outputs": [
    {
     "data": {
      "text/html": [
       "<html><script type=\"math/tex; mode=display\">\\newcommand{\\Bold}[1]{\\mathbf{#1}}\\left[\\left[\\pi_{1} = \\frac{2 \\, {\\left(\\gamma - 1\\right)} w_{1} + {\\left(\\gamma + 1\\right)} w_{2}}{{\\left(\\gamma - 1\\right)} w_{1} + {\\left(\\gamma - 1\\right)} w_{2}}, \\pi_{2} = -\\frac{{\\left(\\gamma - 1\\right)} w_{2} + 2 \\, w_{1}}{{\\left(\\gamma - 1\\right)} w_{1} + {\\left(\\gamma - 1\\right)} w_{2}}, \\pi_{h} = \\frac{{\\left(\\gamma - 2\\right)} w_{2} + 2 \\, w_{1}}{\\gamma w_{1} + \\gamma w_{2}}, \\pi_{l} = \\frac{{\\left(\\gamma - 3\\right)} w_{2} + 2 \\, w_{1}}{{\\left(\\gamma - 1\\right)} w_{1} + {\\left(\\gamma - 1\\right)} w_{2}}\\right]\\right]</script></html>"
      ],
      "text/latex": [
       "\\begin{math}\n",
       "\\newcommand{\\Bold}[1]{\\mathbf{#1}}\\left[\\left[\\pi_{1} = \\frac{2 \\, {\\left(\\gamma - 1\\right)} w_{1} + {\\left(\\gamma + 1\\right)} w_{2}}{{\\left(\\gamma - 1\\right)} w_{1} + {\\left(\\gamma - 1\\right)} w_{2}}, \\pi_{2} = -\\frac{{\\left(\\gamma - 1\\right)} w_{2} + 2 \\, w_{1}}{{\\left(\\gamma - 1\\right)} w_{1} + {\\left(\\gamma - 1\\right)} w_{2}}, \\pi_{h} = \\frac{{\\left(\\gamma - 2\\right)} w_{2} + 2 \\, w_{1}}{\\gamma w_{1} + \\gamma w_{2}}, \\pi_{l} = \\frac{{\\left(\\gamma - 3\\right)} w_{2} + 2 \\, w_{1}}{{\\left(\\gamma - 1\\right)} w_{1} + {\\left(\\gamma - 1\\right)} w_{2}}\\right]\\right]\n",
       "\\end{math}"
      ],
      "text/plain": [
       "[[pi_1 == (2*(gamma - 1)*w_1 + (gamma + 1)*w_2)/((gamma - 1)*w_1 + (gamma - 1)*w_2), pi_2 == -((gamma - 1)*w_2 + 2*w_1)/((gamma - 1)*w_1 + (gamma - 1)*w_2), pi_h == ((gamma - 2)*w_2 + 2*w_1)/(gamma*w_1 + gamma*w_2), pi_l == ((gamma - 3)*w_2 + 2*w_1)/((gamma - 1)*w_1 + (gamma - 1)*w_2)]]"
      ]
     },
     "metadata": {},
     "output_type": "display_data"
    }
   ],
   "source": [
    "sol = solve((P_1F1 == P_1F2, P_2F1 == P_2F2, PHF1 == PHF2, PLF1 == PLF2), (pi_1, pi_2, pi_h, pi_l))\n",
    "show(sol)"
   ]
  },
  {
   "cell_type": "code",
   "execution_count": 9,
   "id": "rubber-north",
   "metadata": {},
   "outputs": [],
   "source": [
    "pi_1_s = sol[0][0].rhs()\n",
    "pi_2_s = sol[0][1].rhs()\n",
    "pi_h_s = sol[0][2].rhs()\n",
    "pi_l_s = sol[0][3].rhs()"
   ]
  },
  {
   "cell_type": "code",
   "execution_count": 10,
   "id": "brilliant-warning",
   "metadata": {},
   "outputs": [
    {
     "data": {
      "text/plain": [
       "-((gamma - 1)*w_2 + 2*w_1)/((gamma - 1)*w_1 + (gamma - 1)*w_2)"
      ]
     },
     "execution_count": 10,
     "metadata": {},
     "output_type": "execute_result"
    }
   ],
   "source": [
    "pi_2_s"
   ]
  },
  {
   "cell_type": "code",
   "execution_count": 11,
   "id": "celtic-merchandise",
   "metadata": {},
   "outputs": [
    {
     "data": {
      "text/plain": [
       "True"
      ]
     },
     "execution_count": 11,
     "metadata": {},
     "output_type": "execute_result"
    }
   ],
   "source": [
    "bool([-((gamma - 1)*w_2 + 2*w_1)/((gamma - 1)*w_1 + (gamma - 1)*w_2)] == [-((gamma - 1)*w_2 + 2*w_1)/((gamma - 1)*w_1 + (gamma - 1)*w_2)])"
   ]
  },
  {
   "cell_type": "markdown",
   "id": "interim-model",
   "metadata": {},
   "source": [
    "### Strategy Rules\n",
    "Using all of these equations we can now write out the strategy rules for each type of worker.\n",
    "\n",
    "**high type worker:**\\\n",
    "$\\begin{equation}\n",
    "  \\pi_h(w_1, w_2)=\\left\\{\n",
    "  \\begin{array}{@{}ll@{}}\n",
    "    1 & \\text{if } \\lambda\\frac{w_1}{2}+(1-\\lambda)w_1\\ge w_2\\\\\n",
    "    \\frac{{\\left(\\lambda - 2\\right)} w_{2} + 2 \\, w_{1}}{\\lambda (w_{1} + w_{2})} & \\text{if } w_1>w_2; \\lambda\\frac{w_1}{2}+(1-\\lambda)w_1\\le w_2 \\text{ or } w_2>w_1; \\lambda\\frac{w_2}{2}+(1-\\lambda)w_2\\le w_1\\\\\n",
    "    0 & \\text{if } w_1 < \\lambda\\frac{w_2}{2}+(1-\\lambda)w_2\\\\\n",
    "  \\end{array}\\right.\n",
    "\\end{equation}$\n",
    "\n",
    "**low type worker:**\\\n",
    "$\\begin{equation}\n",
    "  \\pi_l(w_1, w_2)=\\left\\{\n",
    "  \\begin{array}{@{}ll@{}}\n",
    "    \\frac{2 w_1(\\lambda - 1) - w_2(1 + \\lambda)}{(1-\\lambda)(w_1 + w_2)} & \\text{if } \\lambda\\frac{w_1}{2}+(1-\\lambda)w_1\\ge w_2 \\\\\n",
    "    \\frac{(3-\\lambda)w_2-2w_1}{(1-\\lambda)(w_1+w_2)} & \\text{if } w_1>w_2; \\lambda\\frac{w_1}{2}+(1-\\lambda)w_1\\le w_2 \\text{ or } w_2>w_1; \\lambda\\frac{w_2}{2}+(1-\\lambda)w_2\\le w_1 \\\\\n",
    "    \\frac{2 w_1 - w_2(1-\\lambda)}{(1-\\lambda)(w_1 + w_2)} & \\text{if } w_1 < \\lambda\\frac{w_2}{2}+(1-\\lambda)w_2\\\\\n",
    "  \\end{array}\\right.\n",
    "\\end{equation}$"
   ]
  },
  {
   "cell_type": "markdown",
   "id": "extraordinary-lesson",
   "metadata": {},
   "source": [
    "### Profit Functions\n",
    "\n",
    "#### High Type\n",
    "**Applying to Firm 1**\n",
    "\\begin{aligned}\n",
    "\\Pi_h(F_1) &= \\lambda \\{\\pi_h (\\frac{w_1}{2}) + (1-\\pi_h)(w_1)\\} + (1-\\lambda) \\{\\pi_l (w_1) + (1-\\pi_l)(w_1)\\\\\n",
    "&= \\lambda \\{\\pi_h (\\frac{w_1}{2}) + (1-\\pi_h)(w_1)\\} + (1-\\lambda)(w_1)\\\\\n",
    "&= w_1 \\{\\lambda \\{(\\frac{\\pi_h}{2}) + 1-\\pi_h)\\} + (1-\\lambda)\\}\\\\\n",
    "&= w_1 \\{\\lambda (1 -\\frac{\\pi_h}{2}) + 1 - \\lambda \\}\\\\\n",
    "&= w_1 \\{\\lambda (1 -\\frac{\\pi_h}{2} - 1) + 1\\}\\\\\n",
    "&= w_1 \\{1 - \\lambda (\\frac{\\pi_h}{2})\\}\n",
    "\\end{aligned}\n",
    "\n",
    "**Applying to Firm 2**\n",
    "\\begin{aligned}\n",
    "\\Pi_h(F_2) &= \\lambda \\{\\pi_h (w_2) + (1-\\pi_h)\\frac{w_2}{2}\\} + (1-\\lambda)(w_2)\\\\\n",
    "&= w_2 \\{\\lambda (\\pi_h + \\frac{1-\\pi_h}{2}) + (1-\\lambda)\\}\\\\\n",
    "&= w_2 \\{\\frac{\\lambda}{2}(\\pi_h + 1) + 1 - \\lambda\\}\\\\\n",
    "&= \\frac{w_2}{2}\\{\\lambda \\pi_h + \\lambda - 2\\lambda + 2\\}\\\\\n",
    "&= \\frac{w_2}{2}\\{\\lambda(\\pi_h - 1) + 2\\}\\\\\n",
    "&= w_2\\{\\lambda \\frac{\\pi_h - 1}{2} + 1\\}\n",
    "\\end{aligned}\n",
    "\n",
    "#### Low Type\n",
    "**Applying to Firm 1**\n",
    "\\begin{aligned}\n",
    "\\Pi_l(F_1) &= \\lambda \\{\\pi_h (0) + (1-\\pi_h)(w_1)\\} + (1-\\lambda) \\{\\pi_l (\\frac{w_1}{2}) + (1-\\pi_l)(w_1)\\}\\\\\n",
    "&= \\lambda \\{(1-\\pi_h)(w_1)\\} + (1-\\lambda) \\{\\pi_l (\\frac{w_1}{2}) + (1-\\pi_l)(w_1)\\}\\\\\n",
    "&= w_1 \\{\\lambda (1-\\pi_h) + (1-\\lambda) \\{(\\frac{\\pi_l}{2}) + (1-\\pi_l))\\}\\}\\\\\n",
    "&= w_1 \\{\\lambda (1-\\pi_h) + (1-\\lambda) (1 - \\frac{\\pi_l}{2}) \\}\n",
    "\\end{aligned}\n",
    "\n",
    "**Applying to Firm 2**\n",
    "\\begin{aligned}\n",
    "\\Pi_l(F_2) &= \\lambda \\{\\pi_h (w_2) + (1-\\pi_h)(0)\\} + (1-\\lambda) \\{\\pi_l (w_2) + (1-\\pi_l)\\frac{w_2}{2}\\}\\\\\n",
    "&= w_2 \\{\\lambda \\pi_h + (1-\\lambda)(\\pi_l + \\frac{1-\\pi_l}{2})\\}\\\\\n",
    "&= w_2 \\{\\lambda \\pi_h + (1-\\lambda)(2 \\pi_l + 1 - \\pi_l)\\frac{1}{2})\\}\\\\\n",
    "&= w_2 \\{\\lambda \\pi_h + (1-\\lambda)(1 + \\pi_l)\\frac{1}{2})\\}\\\\\n",
    "&= w_2 \\{\\lambda \\pi_h + (1-\\lambda)\\frac{1 + \\pi_l}{2})\\}\n",
    "\\end{aligned}\n",
    "\n",
    "With these general profit functions we can now calculate each worker-type's expected profit dependent on the relation of $w_1$ and $w_2$."
   ]
  },
  {
   "cell_type": "markdown",
   "id": "casual-integrity",
   "metadata": {},
   "source": [
    "We can now check and make sure our found values of $\\pi_i, i = \\{1, 2, h, l\\}$ are behaving as expected."
   ]
  },
  {
   "cell_type": "code",
   "execution_count": 12,
   "id": "behavioral-equivalent",
   "metadata": {},
   "outputs": [],
   "source": [
    "Profit_h_F1 = w_1*(1-(gamma * (pi_h/2)))\n",
    "Profit_h_F2 = w_2*(gamma*((pi_h - 1)/2) + 1)\n",
    "Profit_l_F1 = w_1*((gamma*(1-pi_h)) + ((1-gamma)*(1-(pi_l/2))))\n",
    "Profit_l_F2 = w_2*((gamma*pi_h) + ((1-gamma)*((1+pi_l)/2)))"
   ]
  },
  {
   "cell_type": "code",
   "execution_count": 13,
   "id": "voluntary-trouble",
   "metadata": {},
   "outputs": [
    {
     "data": {
      "text/plain": [
       "-1/2*(((gamma - 2)*w_2 + 2*w_1)*gamma/(gamma*w_1 + gamma*w_2) - 2)*w_1"
      ]
     },
     "execution_count": 13,
     "metadata": {},
     "output_type": "execute_result"
    }
   ],
   "source": [
    "Profit_h_F1.subs(pi_h == pi_h_s)"
   ]
  },
  {
   "cell_type": "code",
   "execution_count": 14,
   "id": "crucial-cooler",
   "metadata": {},
   "outputs": [
    {
     "data": {
      "text/plain": [
       "1/2*(gamma*(((gamma - 2)*w_2 + 2*w_1)/(gamma*w_1 + gamma*w_2) - 1) + 2)*w_2"
      ]
     },
     "execution_count": 14,
     "metadata": {},
     "output_type": "execute_result"
    }
   ],
   "source": [
    "Profit_h_F2.subs(pi_h == pi_h_s)"
   ]
  },
  {
   "cell_type": "code",
   "execution_count": 15,
   "id": "educational-perth",
   "metadata": {},
   "outputs": [
    {
     "data": {
      "text/plain": [
       "True"
      ]
     },
     "execution_count": 15,
     "metadata": {},
     "output_type": "execute_result"
    }
   ],
   "source": [
    "bool([-1/2*(((gamma - 2)*w_2 + 2*w_1)*gamma/(gamma*w_1 + gamma*w_2) - 2)*w_1]==[1/2*(gamma*(((gamma - 2)*w_2 + 2*w_1)/(gamma*w_1 + gamma*w_2) - 1) + 2)*w_2])"
   ]
  },
  {
   "cell_type": "code",
   "execution_count": 16,
   "id": "interim-horror",
   "metadata": {},
   "outputs": [
    {
     "data": {
      "text/plain": [
       "-1/2*(2*gamma*(((gamma - 2)*w_2 + 2*w_1)/(gamma*w_1 + gamma*w_2) - 1) - (gamma - 1)*(((gamma - 3)*w_2 + 2*w_1)/((gamma - 1)*w_1 + (gamma - 1)*w_2) - 2))*w_1"
      ]
     },
     "execution_count": 16,
     "metadata": {},
     "output_type": "execute_result"
    }
   ],
   "source": [
    "Profit_l_F1.subs(pi_h == pi_h_s, pi_l == pi_l_s)"
   ]
  },
  {
   "cell_type": "code",
   "execution_count": 17,
   "id": "surgical-privacy",
   "metadata": {},
   "outputs": [
    {
     "data": {
      "text/plain": [
       "-1/2*((gamma - 1)*(((gamma - 3)*w_2 + 2*w_1)/((gamma - 1)*w_1 + (gamma - 1)*w_2) + 1) - 2*((gamma - 2)*w_2 + 2*w_1)*gamma/(gamma*w_1 + gamma*w_2))*w_2"
      ]
     },
     "execution_count": 17,
     "metadata": {},
     "output_type": "execute_result"
    }
   ],
   "source": [
    "Profit_l_F2.subs(pi_h == pi_h_s, pi_l == pi_l_s)"
   ]
  },
  {
   "cell_type": "code",
   "execution_count": 18,
   "id": "worldwide-airline",
   "metadata": {},
   "outputs": [
    {
     "data": {
      "text/plain": [
       "True"
      ]
     },
     "execution_count": 18,
     "metadata": {},
     "output_type": "execute_result"
    }
   ],
   "source": [
    "bool([-1/2*(2*gamma*(((gamma - 2)*w_2 + 2*w_1)/(gamma*w_1 + gamma*w_2) - 1) - (gamma - 1)*(((gamma - 3)*w_2 + 2*w_1)/((gamma - 1)*w_1 + (gamma - 1)*w_2) - 2))*w_1]==[-1/2*((gamma - 1)*(((gamma - 3)*w_2 + 2*w_1)/((gamma - 1)*w_1 + (gamma - 1)*w_2) + 1) - 2*((gamma - 2)*w_2 + 2*w_1)*gamma/(gamma*w_1 + gamma*w_2))*w_2])"
   ]
  },
  {
   "cell_type": "code",
   "execution_count": 19,
   "id": "developing-connecticut",
   "metadata": {},
   "outputs": [
    {
     "data": {
      "text/plain": [
       "-1/2*(gamma - 2)*w_1"
      ]
     },
     "execution_count": 19,
     "metadata": {},
     "output_type": "execute_result"
    }
   ],
   "source": [
    "Profit_h_F1.subs(pi_h == 1)"
   ]
  },
  {
   "cell_type": "code",
   "execution_count": 20,
   "id": "biological-farming",
   "metadata": {},
   "outputs": [
    {
     "data": {
      "text/plain": [
       "w_2"
      ]
     },
     "execution_count": 20,
     "metadata": {},
     "output_type": "execute_result"
    }
   ],
   "source": [
    "Profit_h_F2.subs(pi_h == 1)"
   ]
  },
  {
   "cell_type": "code",
   "execution_count": 21,
   "id": "forbidden-optimization",
   "metadata": {},
   "outputs": [
    {
     "data": {
      "text/plain": [
       "w_1"
      ]
     },
     "execution_count": 21,
     "metadata": {},
     "output_type": "execute_result"
    }
   ],
   "source": [
    "Profit_h_F1.subs(pi_h == 0)"
   ]
  },
  {
   "cell_type": "code",
   "execution_count": 22,
   "id": "intelligent-maryland",
   "metadata": {},
   "outputs": [
    {
     "data": {
      "text/plain": [
       "-1/2*(gamma - 2)*w_2"
      ]
     },
     "execution_count": 22,
     "metadata": {},
     "output_type": "execute_result"
    }
   ],
   "source": [
    "Profit_h_F2.subs(pi_h == 0)"
   ]
  },
  {
   "cell_type": "code",
   "execution_count": 23,
   "id": "prompt-median",
   "metadata": {},
   "outputs": [
    {
     "data": {
      "text/plain": [
       "1/2*(gamma - 1)*w_1*((2*(gamma - 1)*w_1 + (gamma + 1)*w_2)/((gamma - 1)*w_1 + (gamma - 1)*w_2) - 2)"
      ]
     },
     "execution_count": 23,
     "metadata": {},
     "output_type": "execute_result"
    }
   ],
   "source": [
    "Profit_l_F1.subs(pi_h == 1, pi_l == pi_1_s)"
   ]
  },
  {
   "cell_type": "code",
   "execution_count": 24,
   "id": "urban-terminology",
   "metadata": {},
   "outputs": [
    {
     "data": {
      "text/plain": [
       "-1/2*((gamma - 1)*((2*(gamma - 1)*w_1 + (gamma + 1)*w_2)/((gamma - 1)*w_1 + (gamma - 1)*w_2) + 1) - 2*gamma)*w_2"
      ]
     },
     "execution_count": 24,
     "metadata": {},
     "output_type": "execute_result"
    }
   ],
   "source": [
    "Profit_l_F2.subs(pi_h == 1, pi_l == pi_1_s)"
   ]
  },
  {
   "cell_type": "code",
   "execution_count": 25,
   "id": "invalid-peter",
   "metadata": {},
   "outputs": [
    {
     "data": {
      "text/plain": [
       "True"
      ]
     },
     "execution_count": 25,
     "metadata": {},
     "output_type": "execute_result"
    }
   ],
   "source": [
    "bool([1/2*(gamma - 1)*w_1*((2*(gamma - 1)*w_1 + (gamma + 1)*w_2)/((gamma - 1)*w_1 + (gamma - 1)*w_2) - 2)]==[-1/2*((gamma - 1)*((2*(gamma - 1)*w_1 + (gamma + 1)*w_2)/((gamma - 1)*w_1 + (gamma - 1)*w_2) + 1) - 2*gamma)*w_2])"
   ]
  },
  {
   "cell_type": "code",
   "execution_count": 26,
   "id": "civilian-pregnancy",
   "metadata": {},
   "outputs": [
    {
     "data": {
      "text/plain": [
       "-1/2*((gamma - 1)*(((gamma - 1)*w_2 + 2*w_1)/((gamma - 1)*w_1 + (gamma - 1)*w_2) + 2) - 2*gamma)*w_1"
      ]
     },
     "execution_count": 26,
     "metadata": {},
     "output_type": "execute_result"
    }
   ],
   "source": [
    "Profit_l_F1.subs(pi_h == 0, pi_l == pi_2_s)"
   ]
  },
  {
   "cell_type": "code",
   "execution_count": 27,
   "id": "sunset-dialogue",
   "metadata": {},
   "outputs": [
    {
     "data": {
      "text/plain": [
       "1/2*(gamma - 1)*w_2*(((gamma - 1)*w_2 + 2*w_1)/((gamma - 1)*w_1 + (gamma - 1)*w_2) - 1)"
      ]
     },
     "execution_count": 27,
     "metadata": {},
     "output_type": "execute_result"
    }
   ],
   "source": [
    "Profit_l_F2.subs(pi_h == 0, pi_l == pi_2_s)"
   ]
  },
  {
   "cell_type": "code",
   "execution_count": 28,
   "id": "completed-grade",
   "metadata": {},
   "outputs": [
    {
     "data": {
      "text/plain": [
       "True"
      ]
     },
     "execution_count": 28,
     "metadata": {},
     "output_type": "execute_result"
    }
   ],
   "source": [
    "bool([-1/2*((gamma - 1)*(((gamma - 1)*w_2 + 2*w_1)/((gamma - 1)*w_1 + (gamma - 1)*w_2) + 2) - 2*gamma)*w_1]==[1/2*(gamma - 1)*w_2*(((gamma - 1)*w_2 + 2*w_1)/((gamma - 1)*w_1 + (gamma - 1)*w_2) - 1)])"
   ]
  },
  {
   "cell_type": "code",
   "execution_count": 29,
   "id": "massive-maine",
   "metadata": {},
   "outputs": [
    {
     "data": {
      "text/plain": [
       "True"
      ]
     },
     "execution_count": 29,
     "metadata": {},
     "output_type": "execute_result"
    }
   ],
   "source": [
    "bool([1/2*(gamma - 1)*w_1*((2*(gamma - 1)*w_1 + (gamma + 1)*w_2)/((gamma - 1)*w_1 + (gamma - 1)*w_2) - 2)] == [-1/2*((gamma - 1)*(((gamma - 1)*w_2 + 2*w_1)/((gamma - 1)*w_1 + (gamma - 1)*w_2) + 2) - 2*gamma)*w_1])"
   ]
  },
  {
   "cell_type": "markdown",
   "id": "ecological-luxembourg",
   "metadata": {},
   "source": [
    "So our profit functions are behaving as expected. We now can solve these profit functions using our found values, $\\pi_i$."
   ]
  },
  {
   "cell_type": "markdown",
   "id": "honest-pasta",
   "metadata": {},
   "source": [
    "For notation purposes, I will refer to each of the possible scenarios as follows:\n",
    "\n",
    "**Scenario A**\n",
    "\\begin{aligned}\n",
    "&\\lambda\\frac{w_1}{2}+(1-\\lambda)w_1\\ge w_2\\\\\n",
    "&W_h: \\pi_h = 1\\\\\n",
    "&W_l: \\pi_l = \\frac{2 w_1(\\lambda - 1) - w_2(1+\\lambda)}{(1-\\lambda)(w_1 + w_2)}\n",
    "\\end{aligned}\n",
    "\n",
    "**Scenario B**\n",
    "\\begin{aligned}\n",
    "&w_1>w_2; \\lambda\\frac{w_1}{2}+(1-\\lambda)w_1\\le w_2\\\\\n",
    "&\\text{or}\\\\\n",
    "&w_2>w_1; \\lambda\\frac{w_2}{2}+(1-\\lambda)w_2\\le w_1\\\\\n",
    "&W_h: \\pi_h = \\frac{{\\left(\\lambda - 2\\right)} w_{2} + 2 \\, w_{1}}{\\lambda (w_{1} + w_{2})}\\\\\n",
    "&W_l: \\pi_l = \\frac{(3-\\lambda)w_2-2w_1}{(1-\\lambda)(w_1+w_2)}\n",
    "\\end{aligned}\n",
    "\n",
    "**Scenario C**\n",
    "\\begin{aligned}\n",
    "&w_1 < \\lambda\\frac{w_2}{2}+(1-\\lambda)w_2\\\\\n",
    "&W_h: \\pi_h = 0\\\\\n",
    "&W_l: \\pi_l = \\frac{2 w_1 - w_2(1-\\lambda)}{(1-\\lambda)(w_1 + w_2)}\n",
    "\\end{aligned}"
   ]
  },
  {
   "cell_type": "code",
   "execution_count": 30,
   "id": "unnecessary-wilson",
   "metadata": {},
   "outputs": [],
   "source": [
    "Prof_h_a = Profit_h_F1.subs(pi_h == 1)\n",
    "Prof_h_b = Profit_h_F1.subs(pi_h == pi_h_s)\n",
    "Prof_h_c = Profit_h_F1.subs(pi_h == 0)\n",
    "Prof_l_a = Profit_l_F1.subs(pi_h == 1, pi_l == pi_1_s)\n",
    "Prof_l_b = Profit_l_F1.subs(pi_h == pi_h_s, pi_l == pi_l_s)\n",
    "Prof_l_c = Profit_l_F1.subs(pi_h == 0, pi_l == pi_2_s)"
   ]
  },
  {
   "cell_type": "markdown",
   "id": "cloudy-mixer",
   "metadata": {},
   "source": [
    "So we can now write out the expected profits for each worker type.\n",
    "\n",
    "**high type worker:**\\\n",
    "$\\begin{equation}\n",
    "  \\pi_h(w_1, w_2)=\\left\\{\n",
    "  \\begin{array}{@{}ll@{}}\n",
    "    w_1(1 - \\frac{\\lambda}{2}) & \\text{if } \\lambda\\frac{w_1}{2}+(1-\\lambda)w_1\\ge w_2\\\\\n",
    "    w_2 \\frac{w_1(4-\\lambda)}{2(w_1+w_2)} & \\text{if } w_1>w_2; \\lambda\\frac{w_1}{2}+(1-\\lambda)w_1\\le w_2 \\text{ or } w_2>w_1; \\lambda\\frac{w_2}{2}+(1-\\lambda)w_2\\le w_1\\\\\n",
    "    w_2(1 - \\frac{\\lambda}{2}) & \\text{if } w_1 < \\lambda\\frac{w_2}{2}+(1-\\lambda)w_2\\\\\n",
    "  \\end{array}\\right.\n",
    "\\end{equation}$\n",
    "\n",
    "**low type worker:**\\\n",
    "$\\begin{equation}\n",
    "  \\pi_l(w_1, w_2)=\\left\\{\n",
    "  \\begin{array}{@{}ll@{}}\n",
    "    w_1\\frac{w_2(3-\\lambda)}{2(w_1 + w_2)} & \\text{if } \\lambda\\frac{w_1}{2}+(1-\\lambda)w_1\\ge w_2 \\\\\n",
    "    w_1\\frac{w_2(3-\\lambda)}{2(w_1+w_2)} & \\text{if } w_1>w_2; \\lambda\\frac{w_1}{2}+(1-\\lambda)w_1\\le w_2 \\text{ or } w_2>w_1; \\lambda\\frac{w_2}{2}+(1-\\lambda)w_2\\le w_1 \\\\\n",
    "    w_2\\frac{w_1(3-\\lambda)}{2(w_1+w_2)} & \\text{if } w_1 < \\lambda\\frac{w_2}{2}+(1-\\lambda)w_2\\\\\n",
    "  \\end{array}\\right.\n",
    "\\end{equation}$"
   ]
  },
  {
   "cell_type": "markdown",
   "id": "middle-jacob",
   "metadata": {},
   "source": [
    "## Plotting the Functions"
   ]
  },
  {
   "cell_type": "markdown",
   "id": "eligible-amount",
   "metadata": {},
   "source": [
    "We can set the main function (that is, when there is only a small difference between the two wages) and then use the max_symbolic argument to set the boundaries when the wages become too different.\n",
    "\n",
    "Let's try setting some values for $\\lambda$, $w_1$, and $w_2$.\\\n",
    "First we will fix $\\lambda = 0.4$, and $w_2 = 0.5$\\\n",
    "Then we vary the value of $w_1$ from 0 to 1 to satisfy the various scenario ranges."
   ]
  },
  {
   "cell_type": "markdown",
   "id": "accessible-purse",
   "metadata": {},
   "source": [
    "#### High Type, Strategy Function"
   ]
  },
  {
   "cell_type": "code",
   "execution_count": 31,
   "id": "novel-corner",
   "metadata": {},
   "outputs": [],
   "source": [
    "strat_h = pi_h_s\n",
    "strat_h_s = strat_h.subs(gamma == 0.4, w_2 == 0.5)"
   ]
  },
  {
   "cell_type": "code",
   "execution_count": 32,
   "id": "disturbed-eleven",
   "metadata": {},
   "outputs": [
    {
     "data": {
      "text/plain": [
       "max(0, min((2*w_1 - 0.800000000000000)/(0.400000000000000*w_1 + 0.200000000000000), 1))"
      ]
     },
     "execution_count": 32,
     "metadata": {},
     "output_type": "execute_result"
    }
   ],
   "source": [
    "Prob_h = max_symbolic(0, min_symbolic(strat_h_s, 1))\n",
    "Prob_h"
   ]
  },
  {
   "cell_type": "code",
   "execution_count": 33,
   "id": "fundamental-trace",
   "metadata": {},
   "outputs": [
    {
     "data": {
      "image/png": "[encoded data removed]",
      "text/plain": [
       "Graphics object consisting of 1 graphics primitive"
      ]
     },
     "metadata": {},
     "output_type": "display_data"
    }
   ],
   "source": [
    "show(plot(Prob_h, 0, 1, figsize=[4,2], color=(1,.5,0) ) )"
   ]
  },
  {
   "cell_type": "markdown",
   "id": "senior-integrity",
   "metadata": {},
   "source": [
    "#### Low Type, Strategy Function"
   ]
  },
  {
   "cell_type": "code",
   "execution_count": 34,
   "id": "experimental-montana",
   "metadata": {},
   "outputs": [
    {
     "data": {
      "text/plain": [
       "max((-1.20000000000000*w_1 + 0.700000000000000)/(-0.600000000000000*w_1 - 0.300000000000000), min((2*w_1 - 1.30000000000000)/(-0.600000000000000*w_1 - 0.300000000000000), -(2*w_1 - 0.300000000000000)/(-0.600000000000000*w_1 - 0.300000000000000)))"
      ]
     },
     "execution_count": 34,
     "metadata": {},
     "output_type": "execute_result"
    }
   ],
   "source": [
    "strat_l = pi_l_s\n",
    "strat_l_s = strat_l.subs(gamma == 0.4, w_2 == 0.5)\n",
    "strat_l_1 = pi_1_s.subs(gamma == 0.4, w_2 == 0.5)\n",
    "strat_l_2 = pi_2_s.subs(gamma == 0.4, w_2 == 0.5)\n",
    "Prob_l = max_symbolic(strat_l_1, min_symbolic(strat_l_s, strat_l_2))\n",
    "Prob_l"
   ]
  },
  {
   "cell_type": "code",
   "execution_count": 35,
   "id": "ordered-devices",
   "metadata": {},
   "outputs": [
    {
     "data": {
      "image/png": "[encoded data removed]",
      "text/plain": [
       "Graphics object consisting of 1 graphics primitive"
      ]
     },
     "metadata": {},
     "output_type": "display_data"
    }
   ],
   "source": [
    "show(plot(Prob_l, 0, 1, figsize=[4,2], color=(0,.5,1) ) )"
   ]
  },
  {
   "cell_type": "markdown",
   "id": "raised-scoop",
   "metadata": {},
   "source": [
    "### Strategy Functions"
   ]
  },
  {
   "cell_type": "code",
   "execution_count": 36,
   "id": "isolated-blood",
   "metadata": {},
   "outputs": [
    {
     "data": {
      "image/png": "[encoded data removed]",
      "text/plain": [
       "Graphics object consisting of 2 graphics primitives"
      ]
     },
     "metadata": {},
     "output_type": "display_data"
    }
   ],
   "source": [
    "Prob_h_plot = (plot(Prob_h, 0, 1, figsize=[6,4], color=(1,.5,0) ) )\n",
    "Prob_l_plot = (plot(Prob_l, 0, 1, figsize=[6,4], color=(0,.5,1) ) )\n",
    "show(Prob_h_plot + Prob_l_plot)"
   ]
  },
  {
   "cell_type": "markdown",
   "id": "synthetic-detroit",
   "metadata": {},
   "source": [
    "As we can see above, the two functions intersect when $w_1 = 0.5$ at $0.5$ as we would expect, given when the wages are equal $\\pi_l = \\pi_h = \\frac{1}{2} = 0.5$ as was shown at the beginning of this project."
   ]
  },
  {
   "cell_type": "markdown",
   "id": "cathedral-supplement",
   "metadata": {},
   "source": [
    "### Payoff Functions"
   ]
  },
  {
   "cell_type": "code",
   "execution_count": 37,
   "id": "appreciated-endorsement",
   "metadata": {},
   "outputs": [],
   "source": [
    "Pay_h_a = Prof_h_a.subs(gamma == 0.4, w_2 == 0.5)\n",
    "Pay_h_b = Prof_h_b.subs(gamma == 0.4, w_2 == 0.5)\n",
    "Pay_h_c = Prof_h_c.subs(gamma == 0.4, w_2 == 0.5)\n",
    "Payoff_h = max_symbolic(Pay_h_a, min_symbolic(Pay_h_b, Pay_h_c))"
   ]
  },
  {
   "cell_type": "code",
   "execution_count": 38,
   "id": "historical-situation",
   "metadata": {},
   "outputs": [
    {
     "data": {
      "image/png": "[encoded data removed]",
      "text/plain": [
       "Graphics object consisting of 1 graphics primitive"
      ]
     },
     "metadata": {},
     "output_type": "display_data"
    }
   ],
   "source": [
    "show(plot(Payoff_h, 0, 1, figsize=[4,2], color=(1,.5,0) ) )"
   ]
  },
  {
   "cell_type": "code",
   "execution_count": 39,
   "id": "numerical-edwards",
   "metadata": {},
   "outputs": [
    {
     "data": {
      "image/png": "[encoded data removed]",
      "text/plain": [
       "Graphics object consisting of 1 graphics primitive"
      ]
     },
     "metadata": {},
     "output_type": "display_data"
    }
   ],
   "source": [
    "Pay_l_a = Prof_l_a.subs(gamma == 0.4, w_2 == 0.5)\n",
    "Pay_l_b = Prof_l_b.subs(gamma == 0.4, w_2 == 0.5)\n",
    "Pay_l_c = Prof_l_c.subs(gamma == 0.4, w_2 == 0.5)\n",
    "Payoff_l = max_symbolic(Pay_l_c, min_symbolic(Pay_l_b, Pay_l_a))\n",
    "show(plot(Payoff_l, 0, 1, figsize=[4,2], color=(0,.5,1) ) )"
   ]
  },
  {
   "cell_type": "code",
   "execution_count": 40,
   "id": "rural-mailing",
   "metadata": {},
   "outputs": [],
   "source": [
    "Payoff_h_plot = (plot(Payoff_h, 0, 1, figsize=[6,4], color=(1,.5,0) ) )\n",
    "Payoff_l_plot = (plot(Payoff_l, 0, 1, figsize=[6,4], color=(0,.5,1) ) )"
   ]
  },
  {
   "cell_type": "code",
   "execution_count": 41,
   "id": "turned-library",
   "metadata": {},
   "outputs": [
    {
     "data": {
      "image/png": "[encoded data removed]",
      "text/plain": [
       "Graphics object consisting of 2 graphics primitives"
      ]
     },
     "metadata": {},
     "output_type": "display_data"
    }
   ],
   "source": [
    "show(Payoff_h_plot + Payoff_l_plot)"
   ]
  },
  {
   "cell_type": "markdown",
   "id": "seasonal-oxford",
   "metadata": {},
   "source": [
    "## Firm Revenue\n",
    "We now move on to the firm-side of this problem, beginning by establishing the firms' revenue functions, $\\Pi_1, \\Pi_2$.\n",
    "\n",
    "As above we view the problem as three separate scenarios.\n",
    "\n",
    "**Scenario A**\n",
    "\\begin{aligned}\n",
    "&\\lambda\\frac{w_1}{2}+(1-\\lambda)w_1\\ge w_2\\\\\n",
    "&W_h: \\pi_h = 1\\\\\n",
    "&W_l: \\pi_l = \\frac{(2\\lambda + 1)w_2 - w_1 - 2}{2(w_2 - w_1)}\n",
    "\\end{aligned}\n",
    "\n",
    "**Scenario B**\n",
    "\\begin{aligned}\n",
    "&w_1>w_2; \\lambda\\frac{w_1}{2}+(1-\\lambda)w_1\\le w_2 \\text{ or }\\\\ \n",
    "&w_2>w_1; \\lambda\\frac{w_2}{2}+(1-\\lambda)w_2\\le w_1\\\\\n",
    "&W_h: \\pi_h = \\frac{{\\left(\\lambda - 2\\right)} w_{2} + 2 \\, w_{1}}{\\lambda w_{1} + \\lambda w_{2}}\\\\\n",
    "&W_l: \\pi_l = \\frac{(3-\\lambda)w_2-2w_1}{(1-\\lambda)(w_1+w_2)}\n",
    "\\end{aligned}\n",
    "\n",
    "**Scenario C**\n",
    "\\begin{aligned}\n",
    "&w_1 < \\lambda\\frac{w_2}{2}+(1-\\lambda)w_2\\\\\n",
    "&W_h: \\pi_h = 0\\\\\n",
    "&W_l: \\pi_l = \\frac{(2\\lambda + 1)w_1 - w_2 - 2}{2(w_1 - w_2)}\n",
    "\\end{aligned}"
   ]
  },
  {
   "cell_type": "markdown",
   "id": "identical-plain",
   "metadata": {},
   "source": [
    "Each firm's expected revenue is dependent on what type of worker they hire (if any) and the wage they pay to that worker. We assume low type workers provide the firm with work/effort equal to $Y > 0$, and high type workers provide the firm with work/effor equal to $\\beta Y, \\beta>1$\n",
    "\n",
    "If **firm 1** hires a high type worker, their profit is\\\n",
    "$\\hspace{15pt}\\Pi_1(t=h)=\\beta Y - w_1$\\\n",
    "and if they hire a low type worker their profit is\\\n",
    "$\\hspace{15pt}\\Pi_1(t=l)=Y-w_1$. \n",
    "\n",
    "If **firm 2** hires a high type worker, their profit is\\\n",
    "$\\hspace{15pt}\\Pi_2(t=h)=\\beta Y - w_2$\\\n",
    "and if they hire a low type worker their profit is\\\n",
    "$\\hspace{15pt}\\Pi_2(t=l)=Y-w_2$.\n",
    "\n",
    "If either firm hires no one, their profit is zero:\\\n",
    "$\\hspace{15pt}\\Pi_1(t=none)= \\Pi_2(t=none)=0$"
   ]
  },
  {
   "cell_type": "markdown",
   "id": "departmental-chaos",
   "metadata": {},
   "source": [
    "If two workers of the same type apply to the same firm, the firm chooses each with probability $\\frac{1}{2}$. If two workers of differing types apply, the firm will always hire the high-type worker since $\\Pi_i(t=h)>\\Pi_i(t=l)$.\n",
    "\n",
    "We also assume $Y > w_i$ such that if a firm is given a chance to hire any type of worker, they will always choose to do so."
   ]
  },
  {
   "cell_type": "markdown",
   "id": "downtown-feelings",
   "metadata": {},
   "source": [
    "For simplicity, we redue the base profit for either firm, $Y$ to $1$ such that a firm with a high type worker produces value $\\beta > 1$ and a firm with a low type worker produces value $1$.\n",
    "\n",
    "**Firm 1**\\\n",
    "Probability of hiring a worker:\n",
    "\\begin{aligned}\n",
    "Prob(\\text{at least one hight type worker applies}) = Prob(h) &= \\lambda^2\\{\\pi_h^2 + 2\\pi_h(1-\\pi_h)\\} + 2\\lambda(1-\\lambda)\\{\\pi_h \\pi_l + \\pi_h(1-\\pi_l)\\}\\\\\n",
    "Prob(\\text{only low type workers apply}) = Prob(l) &= (1-\\lambda)^2\\{\\pi_l^2 + 2\\pi_l(1-\\pi_l)\\} + 2\\lambda(1-\\lambda)\\{\\pi_l(1-\\pi_h)\\}\n",
    "\\end{aligned}\n",
    "\n",
    "Revenue of hiring a worker:\n",
    "\\begin{aligned}\n",
    "\\Pi_1 &= Prob(h)\\{\\beta - w_1\\} + Prob(l)\\{1 - w_1\\} + Prob(none)\\{0 - 0\\}\\\\\n",
    "&= Prob(h) (\\beta-w_1) + Prob(l) (1-w_1)\n",
    "\\end{aligned}"
   ]
  },
  {
   "cell_type": "code",
   "execution_count": 42,
   "id": "stuffed-aruba",
   "metadata": {},
   "outputs": [],
   "source": [
    "Prob_1_h = ((gamma^2) * (pi_h^2 + (2*pi_h*(1-pi_h)))) + ((2*gamma*(1-gamma))*((pi_h*pi_l) + (pi_h*(1-pi_l))))"
   ]
  },
  {
   "cell_type": "code",
   "execution_count": 43,
   "id": "incorporated-privacy",
   "metadata": {},
   "outputs": [],
   "source": [
    "Prob_1_h_simp = gamma*pi_h*(2-gamma*pi_h)"
   ]
  },
  {
   "cell_type": "code",
   "execution_count": 44,
   "id": "negative-rebel",
   "metadata": {},
   "outputs": [
    {
     "data": {
      "text/plain": [
       "True"
      ]
     },
     "execution_count": 44,
     "metadata": {},
     "output_type": "execute_result"
    }
   ],
   "source": [
    "bool([Prob_1_h]==[gamma*pi_h*(2-gamma*pi_h)])"
   ]
  },
  {
   "cell_type": "code",
   "execution_count": 45,
   "id": "provincial-flash",
   "metadata": {},
   "outputs": [],
   "source": [
    "Prob_1_l = (((1-gamma)^2) * ((pi_l^2) + (2*pi_l*(1-pi_l)))) + ((2*gamma*(1-gamma))*(pi_l*(1-pi_h)))"
   ]
  },
  {
   "cell_type": "code",
   "execution_count": 46,
   "id": "secure-outdoors",
   "metadata": {},
   "outputs": [],
   "source": [
    "Prob_1_l_simp = (1-gamma)*pi_l*((2*(1-gamma*pi_h))+(pi_l*(gamma-1)))"
   ]
  },
  {
   "cell_type": "code",
   "execution_count": 47,
   "id": "diverse-message",
   "metadata": {},
   "outputs": [
    {
     "data": {
      "text/plain": [
       "True"
      ]
     },
     "execution_count": 47,
     "metadata": {},
     "output_type": "execute_result"
    }
   ],
   "source": [
    "bool([Prob_1_l]==[(1-gamma)*pi_l*((2*(1-gamma*pi_h))+(pi_l*(gamma-1)))])"
   ]
  },
  {
   "cell_type": "markdown",
   "id": "assured-burst",
   "metadata": {},
   "source": [
    "So, simplifying the two probabilities, we have:\\\n",
    "\\begin{aligned}\n",
    "Prob_1(h) &= \\lambda \\pi_h (2-\\lambda \\pi_h)\\\\\n",
    "Prob_1(l) &= (1-\\lambda)\\pi_l\\{2(1-\\lambda \\pi_h) + pi_l(\\lambda - 1)\\}\n",
    "\\end{aligned}\n",
    "\n",
    "Using these probabilities, we can now calculate the firm's total expected revenue:"
   ]
  },
  {
   "cell_type": "code",
   "execution_count": 48,
   "id": "composed-uniform",
   "metadata": {},
   "outputs": [
    {
     "data": {
      "text/html": [
       "<html><script type=\"math/tex; mode=display\">\\newcommand{\\Bold}[1]{\\mathbf{#1}}{\\left(2 \\, {\\left(\\pi_{h} {\\left(\\pi_{l} - 1\\right)} - \\pi_{h} \\pi_{l}\\right)} {\\left(\\gamma - 1\\right)} \\gamma - {\\left(2 \\, {\\left(\\pi_{h} - 1\\right)} \\pi_{h} - \\pi_{h}^{2}\\right)} \\gamma^{2}\\right)} {\\left(\\beta - w_{1}\\right)} - {\\left(2 \\, {\\left(\\gamma - 1\\right)} \\gamma {\\left(\\pi_{h} - 1\\right)} \\pi_{l} - {\\left(2 \\, {\\left(\\pi_{l} - 1\\right)} \\pi_{l} - \\pi_{l}^{2}\\right)} {\\left(\\gamma - 1\\right)}^{2}\\right)} {\\left(w_{1} - 1\\right)}</script></html>"
      ],
      "text/latex": [
       "\\begin{math}\n",
       "\\newcommand{\\Bold}[1]{\\mathbf{#1}}{\\left(2 \\, {\\left(\\pi_{h} {\\left(\\pi_{l} - 1\\right)} - \\pi_{h} \\pi_{l}\\right)} {\\left(\\gamma - 1\\right)} \\gamma - {\\left(2 \\, {\\left(\\pi_{h} - 1\\right)} \\pi_{h} - \\pi_{h}^{2}\\right)} \\gamma^{2}\\right)} {\\left(\\beta - w_{1}\\right)} - {\\left(2 \\, {\\left(\\gamma - 1\\right)} \\gamma {\\left(\\pi_{h} - 1\\right)} \\pi_{l} - {\\left(2 \\, {\\left(\\pi_{l} - 1\\right)} \\pi_{l} - \\pi_{l}^{2}\\right)} {\\left(\\gamma - 1\\right)}^{2}\\right)} {\\left(w_{1} - 1\\right)}\n",
       "\\end{math}"
      ],
      "text/plain": [
       "(2*(pi_h*(pi_l - 1) - pi_h*pi_l)*(gamma - 1)*gamma - (2*(pi_h - 1)*pi_h - pi_h^2)*gamma^2)*(beta - w_1) - (2*(gamma - 1)*gamma*(pi_h - 1)*pi_l - (2*(pi_l - 1)*pi_l - pi_l^2)*(gamma - 1)^2)*(w_1 - 1)"
      ]
     },
     "metadata": {},
     "output_type": "display_data"
    }
   ],
   "source": [
    "var('beta')\n",
    "Pi_1 = Prob_1_h*(beta - w_1) + Prob_1_l*(1 - w_1)\n",
    "show(Pi_1)"
   ]
  },
  {
   "cell_type": "markdown",
   "id": "reduced-northwest",
   "metadata": {},
   "source": [
    "**Firm 2**\\\n",
    "Probability of hiring a worker:\n",
    "\\begin{aligned}\n",
    "Prob(\\text{at least one hight type worker applies}) = Prob(h) &= \\lambda^2\\{(1-\\pi_h)^2 + 2\\pi_h(1-\\pi_h)\\} + 2\\lambda(1-\\lambda)\\{(1-\\pi_h)\\pi_l + (1-\\pi_h)(1-\\pi_l)\\}\\\\\n",
    "Prob(\\text{only low type workers apply}) = Prob(l) &= (1-\\lambda)^2 \\{(1-\\pi_l)^2 + 2\\pi_l(1-\\pi_l)\\} + 2\\lambda(1-\\lambda)\\{\\pi_h(1-\\pi_l)\\}\n",
    "\\end{aligned}\n",
    "\n",
    "Revenue of hiring a worker:\n",
    "\\begin{aligned}\n",
    "\\Pi_2 &= Prob(h)\\{\\beta - w_2\\} + Prob(l)\\{1 - w_2\\} + Prob(none)\\{0 - 0\\}\\\\\n",
    "&= Prob(h) (\\beta-w_2) + Prob(l) (1-w_2)\n",
    "\\end{aligned}"
   ]
  },
  {
   "cell_type": "code",
   "execution_count": 49,
   "id": "furnished-pound",
   "metadata": {},
   "outputs": [],
   "source": [
    "Prob_2_h = ((gamma^2) * ((1-pi_h)^2 + (2*pi_h*(1-pi_h)))) + ((2*gamma*(1-gamma))*(((1-pi_h)*pi_l) + ((1-pi_h)*(1-pi_l))))"
   ]
  },
  {
   "cell_type": "code",
   "execution_count": 50,
   "id": "primary-stamp",
   "metadata": {},
   "outputs": [],
   "source": [
    "Prob_2_l = (((1-gamma)^2) * (((1-pi_l)^2) + (2*pi_l*(1-pi_l)))) + ((2*gamma*(1-gamma))*(pi_h*(1-pi_l)))"
   ]
  },
  {
   "cell_type": "code",
   "execution_count": 51,
   "id": "metropolitan-showcase",
   "metadata": {},
   "outputs": [],
   "source": [
    "Prob_2_h_simp = gamma*(1-pi_h)*(2+(gamma*(pi_h-1)))"
   ]
  },
  {
   "cell_type": "code",
   "execution_count": 52,
   "id": "residential-webster",
   "metadata": {},
   "outputs": [],
   "source": [
    "Prob_2_l_simp = (1-gamma)*(1-pi_l)*((1-gamma)*(1+pi_l) + (2*gamma*pi_h))"
   ]
  },
  {
   "cell_type": "code",
   "execution_count": 53,
   "id": "planned-organ",
   "metadata": {},
   "outputs": [
    {
     "data": {
      "text/plain": [
       "True"
      ]
     },
     "execution_count": 53,
     "metadata": {},
     "output_type": "execute_result"
    }
   ],
   "source": [
    "bool(Prob_2_h == Prob_2_h_simp)"
   ]
  },
  {
   "cell_type": "code",
   "execution_count": 54,
   "id": "exact-beginning",
   "metadata": {},
   "outputs": [
    {
     "data": {
      "text/plain": [
       "True"
      ]
     },
     "execution_count": 54,
     "metadata": {},
     "output_type": "execute_result"
    }
   ],
   "source": [
    "bool(Prob_2_l == Prob_2_l_simp)"
   ]
  },
  {
   "cell_type": "markdown",
   "id": "suburban-vegetable",
   "metadata": {},
   "source": [
    "So, simplifying the two probabilities, we have:\\\n",
    "\\begin{aligned}\n",
    "Prob_2(h) &= \\lambda (1-\\pi_h) (2+\\lambda(\\pi_h-1))\\\\\n",
    "Prob_2(l) &= (1-\\lambda)(1-\\pi_l)((1-\\lambda)(1+\\pi_l) + 2 \\lambda \\pi_h)\n",
    "\\end{aligned}\n",
    "\n",
    "Using these probabilities, we can now calculate the firm's total expected revenue:"
   ]
  },
  {
   "cell_type": "code",
   "execution_count": 55,
   "id": "british-account",
   "metadata": {},
   "outputs": [
    {
     "data": {
      "text/html": [
       "<html><script type=\"math/tex; mode=display\">\\newcommand{\\Bold}[1]{\\mathbf{#1}}-{\\left(\\gamma {\\left(\\pi_{h} - 1\\right)} + 2\\right)} {\\left(\\beta - w_{2}\\right)} \\gamma {\\left(\\pi_{h} - 1\\right)} - {\\left(2 \\, \\gamma \\pi_{h} - {\\left(\\gamma - 1\\right)} {\\left(\\pi_{l} + 1\\right)}\\right)} {\\left(\\gamma - 1\\right)} {\\left(\\pi_{l} - 1\\right)} {\\left(w_{2} - 1\\right)}</script></html>"
      ],
      "text/latex": [
       "\\begin{math}\n",
       "\\newcommand{\\Bold}[1]{\\mathbf{#1}}-{\\left(\\gamma {\\left(\\pi_{h} - 1\\right)} + 2\\right)} {\\left(\\beta - w_{2}\\right)} \\gamma {\\left(\\pi_{h} - 1\\right)} - {\\left(2 \\, \\gamma \\pi_{h} - {\\left(\\gamma - 1\\right)} {\\left(\\pi_{l} + 1\\right)}\\right)} {\\left(\\gamma - 1\\right)} {\\left(\\pi_{l} - 1\\right)} {\\left(w_{2} - 1\\right)}\n",
       "\\end{math}"
      ],
      "text/plain": [
       "-(gamma*(pi_h - 1) + 2)*(beta - w_2)*gamma*(pi_h - 1) - (2*gamma*pi_h - (gamma - 1)*(pi_l + 1))*(gamma - 1)*(pi_l - 1)*(w_2 - 1)"
      ]
     },
     "metadata": {},
     "output_type": "display_data"
    }
   ],
   "source": [
    "Pi_2 = Prob_2_h_simp*(beta - w_2) + Prob_2_l_simp*(1-w_2)\n",
    "show(Pi_2)"
   ]
  },
  {
   "cell_type": "markdown",
   "id": "alpha-respect",
   "metadata": {},
   "source": [
    "We now calculate the profits for each of the specific scenarios."
   ]
  },
  {
   "cell_type": "markdown",
   "id": "marked-group",
   "metadata": {},
   "source": [
    "### Scenario A\n",
    "\\begin{aligned}\n",
    "&\\lambda\\frac{w_1}{2}+(1-\\lambda)w_1\\ge w_2\\\\\n",
    "&W_h: \\pi_h = 1\\\\\n",
    "&W_l: \\pi_l = \\frac{(2\\lambda + 1)w_2 - w_1 - 2}{2(w_2 - w_1)}\n",
    "\\end{aligned}"
   ]
  },
  {
   "cell_type": "code",
   "execution_count": 56,
   "id": "agreed-roberts",
   "metadata": {},
   "outputs": [
    {
     "data": {
      "text/plain": [
       "(gamma - 1)^2*(w_1 - 1)*(2*(2*(gamma - 1)*w_1 + (gamma + 1)*w_2)*((2*(gamma - 1)*w_1 + (gamma + 1)*w_2)/((gamma - 1)*w_1 + (gamma - 1)*w_2) - 1)/((gamma - 1)*w_1 + (gamma - 1)*w_2) - (2*(gamma - 1)*w_1 + (gamma + 1)*w_2)^2/((gamma - 1)*w_1 + (gamma - 1)*w_2)^2) - (2*(gamma - 1)*gamma - gamma^2)*(beta - w_1)"
      ]
     },
     "execution_count": 56,
     "metadata": {},
     "output_type": "execute_result"
    }
   ],
   "source": [
    "Pi_1_a = Pi_1.subs(pi_h == 1, pi_l == pi_1_s)\n",
    "Pi_1_a"
   ]
  },
  {
   "cell_type": "code",
   "execution_count": 57,
   "id": "general-botswana",
   "metadata": {},
   "outputs": [
    {
     "data": {
      "text/plain": [
       "((gamma - 1)*((2*(gamma - 1)*w_1 + (gamma + 1)*w_2)/((gamma - 1)*w_1 + (gamma - 1)*w_2) + 1) - 2*gamma)*(gamma - 1)*(w_2 - 1)*((2*(gamma - 1)*w_1 + (gamma + 1)*w_2)/((gamma - 1)*w_1 + (gamma - 1)*w_2) - 1)"
      ]
     },
     "execution_count": 57,
     "metadata": {},
     "output_type": "execute_result"
    }
   ],
   "source": [
    "Pi_2_a = Pi_2.subs(pi_h == 1, pi_l == pi_1_s)\n",
    "Pi_2_a"
   ]
  },
  {
   "cell_type": "markdown",
   "id": "difficult-strand",
   "metadata": {},
   "source": [
    "### Scenario B\n",
    "\\begin{aligned}\n",
    "&w_1>w_2; \\lambda\\frac{w_1}{2}+(1-\\lambda)w_1\\le w_2 \\text{ or }\\\\ \n",
    "&w_2>w_1; \\lambda\\frac{w_2}{2}+(1-\\lambda)w_2\\le w_1\\\\\n",
    "&W_h: \\pi_h = \\frac{{\\left(\\lambda - 2\\right)} w_{2} + 2 \\, w_{1}}{\\lambda w_{1} + \\lambda w_{2}}\\\\\n",
    "&W_l: \\pi_l = \\frac{(3-\\lambda)w_2-2w_1}{(1-\\lambda)(w_1+w_2)}\n",
    "\\end{aligned}"
   ]
  },
  {
   "cell_type": "code",
   "execution_count": 58,
   "id": "encouraging-pipeline",
   "metadata": {},
   "outputs": [],
   "source": [
    "Pi_1_b = Pi_1.subs(pi_h == pi_h_s, pi_l == pi_l_s)"
   ]
  },
  {
   "cell_type": "code",
   "execution_count": 59,
   "id": "liberal-alloy",
   "metadata": {},
   "outputs": [
    {
     "data": {
      "text/plain": [
       "-(gamma*(((gamma - 2)*w_2 + 2*w_1)/(gamma*w_1 + gamma*w_2) - 1) + 2)*(beta - w_2)*gamma*(((gamma - 2)*w_2 + 2*w_1)/(gamma*w_1 + gamma*w_2) - 1) + ((gamma - 1)*(((gamma - 3)*w_2 + 2*w_1)/((gamma - 1)*w_1 + (gamma - 1)*w_2) + 1) - 2*((gamma - 2)*w_2 + 2*w_1)*gamma/(gamma*w_1 + gamma*w_2))*(gamma - 1)*(w_2 - 1)*(((gamma - 3)*w_2 + 2*w_1)/((gamma - 1)*w_1 + (gamma - 1)*w_2) - 1)"
      ]
     },
     "execution_count": 59,
     "metadata": {},
     "output_type": "execute_result"
    }
   ],
   "source": [
    "Pi_2_b = Pi_2.subs(pi_h == pi_h_s, pi_l == pi_l_s)\n",
    "Pi_2_b"
   ]
  },
  {
   "cell_type": "markdown",
   "id": "laden-bulgaria",
   "metadata": {},
   "source": [
    "### Scenario C\n",
    "\\begin{aligned}\n",
    "&w_1 < \\lambda\\frac{w_2}{2}+(1-\\lambda)w_2\\\\\n",
    "&W_h: \\pi_h = 0\\\\\n",
    "&W_l: \\pi_l = \\frac{(2\\lambda + 1)w_1 - w_2 - 2}{2(w_1 - w_2)}\n",
    "\\end{aligned}"
   ]
  },
  {
   "cell_type": "code",
   "execution_count": 60,
   "id": "warming-milan",
   "metadata": {},
   "outputs": [],
   "source": [
    "Pi_1_c = Pi_1.subs(pi_h == 0, pi_l == pi_2_s)"
   ]
  },
  {
   "cell_type": "code",
   "execution_count": 61,
   "id": "decimal-powder",
   "metadata": {},
   "outputs": [],
   "source": [
    "Pi_2_c = Pi_2.subs(pi_h == 0, pi_l == pi_2_s)"
   ]
  },
  {
   "cell_type": "markdown",
   "id": "abroad-waste",
   "metadata": {},
   "source": [
    "Let's return again to our, example: fix $\\lambda = 0.4$, and $w_2 = 0.5$\\\n",
    "We also set $\\beta = 1.5$\\\n",
    "Then, as before, we vary the value of $w_1$ from 0 to 1 to satisfy the various scenario ranges."
   ]
  },
  {
   "cell_type": "code",
   "execution_count": 62,
   "id": "extended-hawaii",
   "metadata": {},
   "outputs": [],
   "source": [
    "Pi_1_1 = Pi_1_a.subs(pi_h == 1, pi_l == pi_1_s, gamma == 0.4, w_2 == 0.5, beta == 1.5)\n",
    "Pi_1_s = Pi_1_a.subs(pi_h == pi_h_s, pi_l == pi_l_s, gamma == 0.4, w_2 == 0.5, beta == 1.5)\n",
    "Pi_1_2 = Pi_1_a.subs(pi_h == 0, pi_l == pi_2_s, gamma == 0.4, w_2 == 0.5, beta == 1.5)\n",
    "Pi_1_m = max_symbolic(Pi_1_1, min_symbolic(Pi_1_s, Pi_1_2))"
   ]
  },
  {
   "cell_type": "code",
   "execution_count": 63,
   "id": "wound-renaissance",
   "metadata": {},
   "outputs": [
    {
     "data": {
      "image/png": "[encoded data removed]",
      "text/plain": [
       "Graphics object consisting of 1 graphics primitive"
      ]
     },
     "metadata": {},
     "output_type": "display_data"
    }
   ],
   "source": [
    "show(plot(Pi_1_m, 0, 1, figsize=[4,2], color=(1,.5,0) ) )"
   ]
  },
  {
   "cell_type": "code",
   "execution_count": 64,
   "id": "genuine-landscape",
   "metadata": {},
   "outputs": [],
   "source": [
    "Pi_2_1 = Pi_2_a.subs(pi_h == 1, pi_l == pi_1_s, gamma == 0.4, w_2 == 0.5, beta == 1.5)\n",
    "Pi_2_s = Pi_2_a.subs(pi_h == pi_h_s, pi_l == pi_l_s, gamma == 0.4, w_2 == 0.5, beta == 1.5)\n",
    "Pi_2_2 = Pi_2_a.subs(pi_h == 0, pi_l == pi_2_s, gamma == 0.4, w_2 == 0.5, beta == 1.5)\n",
    "Pi_2_m = max_symbolic(Pi_2_1, min_symbolic(Pi_2_s, Pi_2_2))"
   ]
  },
  {
   "cell_type": "code",
   "execution_count": 65,
   "id": "combined-acquisition",
   "metadata": {},
   "outputs": [
    {
     "data": {
      "image/png": "[encoded data removed]",
      "text/plain": [
       "Graphics object consisting of 1 graphics primitive"
      ]
     },
     "metadata": {},
     "output_type": "display_data"
    }
   ],
   "source": [
    "show(plot(Pi_2_m, 0, 1, figsize=[4,2], color=(0,.5,1) ) )"
   ]
  },
  {
   "cell_type": "code",
   "execution_count": 66,
   "id": "spanish-action",
   "metadata": {},
   "outputs": [
    {
     "data": {
      "image/png": "[encoded data removed]",
      "text/plain": [
       "Graphics object consisting of 2 graphics primitives"
      ]
     },
     "metadata": {},
     "output_type": "display_data"
    }
   ],
   "source": [
    "Prof_1_plot = (plot(Pi_1_m, 0, 1, figsize=[6,4], color=(1,.5,0) ) )\n",
    "Prof_2_plot = (plot(Pi_2_m, 0, 1, figsize=[6,4], color=(0,.5,1) ) )\n",
    "show(Prof_1_plot + Prof_2_plot)"
   ]
  },
  {
   "cell_type": "code",
   "execution_count": 67,
   "id": "dated-anaheim",
   "metadata": {},
   "outputs": [
    {
     "data": {
      "image/png": "[encoded data removed]",
      "text/plain": [
       "Graphics object consisting of 1 graphics primitive"
      ]
     },
     "metadata": {},
     "output_type": "display_data"
    }
   ],
   "source": [
    "Profit_High = piecewise( [ [(0,0.4),Pi_1_2], [(0.4,0.625),Pi_1_s], [(0.625,1),Pi_1_1] ] )\n",
    "show( plot( Profit_High, 0, 1, figsize=[5,3], color=(1,.5,0) ) )"
   ]
  },
  {
   "cell_type": "code",
   "execution_count": 68,
   "id": "criminal-score",
   "metadata": {},
   "outputs": [
    {
     "data": {
      "image/png": "[encoded data removed]",
      "text/plain": [
       "Graphics object consisting of 1 graphics primitive"
      ]
     },
     "metadata": {},
     "output_type": "display_data"
    }
   ],
   "source": [
    "Profit_Low = piecewise( [ [(0,0.4),Pi_2_2], [(0.4,0.625),Pi_2_s], [(0.625,1),Pi_2_1] ] )\n",
    "show( plot( Profit_Low, 0, 1, figsize=[5,3], color=(0,.5,1) ) )"
   ]
  },
  {
   "cell_type": "code",
   "execution_count": 69,
   "id": "liquid-helping",
   "metadata": {},
   "outputs": [
    {
     "data": {
      "text/plain": [
       "(0.5874329172380719, 0.5657991571110855)"
      ]
     },
     "execution_count": 69,
     "metadata": {},
     "output_type": "execute_result"
    }
   ],
   "source": [
    "max_1 = find_local_maximum(Pi_1_m,0,1)\n",
    "max_1"
   ]
  },
  {
   "cell_type": "code",
   "execution_count": 70,
   "id": "future-population",
   "metadata": {},
   "outputs": [
    {
     "data": {
      "text/plain": [
       "(0.49999999999999994, 0.312500001574188)"
      ]
     },
     "execution_count": 70,
     "metadata": {},
     "output_type": "execute_result"
    }
   ],
   "source": [
    "max_2 = find_local_maximum(Pi_2_m,0,1)\n",
    "max_2"
   ]
  },
  {
   "cell_type": "code",
   "execution_count": 71,
   "id": "intended-department",
   "metadata": {},
   "outputs": [
    {
     "data": {
      "text/plain": [
       "0.5874329172380719"
      ]
     },
     "execution_count": 71,
     "metadata": {},
     "output_type": "execute_result"
    }
   ],
   "source": [
    "max_1_a = max_1[0]\n",
    "max_1_a"
   ]
  },
  {
   "cell_type": "code",
   "execution_count": 72,
   "id": "liable-wages",
   "metadata": {},
   "outputs": [
    {
     "data": {
      "text/plain": [
       "0.5657991571110855"
      ]
     },
     "execution_count": 72,
     "metadata": {},
     "output_type": "execute_result"
    }
   ],
   "source": [
    "max_1_b = max_1[1]\n",
    "max_1_b"
   ]
  },
  {
   "cell_type": "code",
   "execution_count": 73,
   "id": "secret-correlation",
   "metadata": {},
   "outputs": [
    {
     "data": {
      "text/plain": [
       "0.49999999999999994"
      ]
     },
     "execution_count": 73,
     "metadata": {},
     "output_type": "execute_result"
    }
   ],
   "source": [
    "max_2_a = max_2[0]\n",
    "max_2_a"
   ]
  },
  {
   "cell_type": "code",
   "execution_count": 74,
   "id": "norman-sweet",
   "metadata": {},
   "outputs": [
    {
     "data": {
      "text/plain": [
       "0.312500001574188"
      ]
     },
     "execution_count": 74,
     "metadata": {},
     "output_type": "execute_result"
    }
   ],
   "source": [
    "max_2_b = max_2[1]\n",
    "max_2_b"
   ]
  },
  {
   "cell_type": "markdown",
   "id": "recovered-capability",
   "metadata": {},
   "source": [
    "At $max_{1a}$, the wage falls within scenario **B**, so we can calculate firm 1's expected profit of offering $w_1 = max_{1a}$ using our profit function for scenario B."
   ]
  },
  {
   "cell_type": "code",
   "execution_count": 75,
   "id": "front-soldier",
   "metadata": {},
   "outputs": [
    {
     "data": {
      "text/plain": [
       "0.586274212602211"
      ]
     },
     "execution_count": 75,
     "metadata": {},
     "output_type": "execute_result"
    }
   ],
   "source": [
    "Pi_max_1_a = Pi_1_s.subs(w_1 = max_1_a)\n",
    "Pi_max_1_a"
   ]
  },
  {
   "cell_type": "code",
   "execution_count": 76,
   "id": "angry-vermont",
   "metadata": {},
   "outputs": [
    {
     "data": {
      "text/plain": [
       "0.587432917238072"
      ]
     },
     "execution_count": 76,
     "metadata": {},
     "output_type": "execute_result"
    }
   ],
   "source": [
    "Pi_max_1_b = Pi_1_s.subs(w_1 = max_1_b)\n",
    "Pi_max_1_b"
   ]
  },
  {
   "cell_type": "code",
   "execution_count": 77,
   "id": "urban-digit",
   "metadata": {},
   "outputs": [
    {
     "data": {
      "text/plain": [
       "0.455000000000000"
      ]
     },
     "execution_count": 77,
     "metadata": {},
     "output_type": "execute_result"
    }
   ],
   "source": [
    "Pi_max_2_a = Pi_2_s.subs(w_1 = max_2_a)\n",
    "Pi_max_2_a"
   ]
  },
  {
   "cell_type": "code",
   "execution_count": 78,
   "id": "unlimited-property",
   "metadata": {},
   "outputs": [
    {
     "data": {
      "text/plain": [
       "0.320000004262417"
      ]
     },
     "execution_count": 78,
     "metadata": {},
     "output_type": "execute_result"
    }
   ],
   "source": [
    "Pi_max_2_b = Pi_1_2.subs(w_1 = max_2_b)\n",
    "Pi_max_2_b"
   ]
  },
  {
   "cell_type": "markdown",
   "id": "higher-holder",
   "metadata": {},
   "source": [
    "So at these arbitrary values, each player would behave as follows:\\\n",
    "Firm 1 sets wage as $w_1 = max_{1a}$, high type workers would apply to firm 1 with probability $\\pi_h$ and low type workers would apply to firm 1 with probability $\\pi_l$.\n",
    "\n",
    "This is not a full solution however, as both firms would set their wages to maximize their profits, rather than $w_2$ being fixed.\\\n",
    "Having done this visualization, we now approach the firms' problems again, allow each wage to be set by its respective firm."
   ]
  },
  {
   "cell_type": "markdown",
   "id": "effective-forge",
   "metadata": {},
   "source": [
    "We still fix $\\lambda = 0.4$ and $\\beta = 1.5$."
   ]
  },
  {
   "cell_type": "code",
   "execution_count": 79,
   "id": "premium-softball",
   "metadata": {},
   "outputs": [
    {
     "data": {
      "text/html": [
       "<html><script type=\"math/tex; mode=display\">\\newcommand{\\Bold}[1]{\\mathbf{#1}}-{\\left(\\gamma \\pi_{h} - 2\\right)} {\\left(\\beta - w_{1}\\right)} \\gamma \\pi_{h} - {\\left(2 \\, \\gamma \\pi_{h} - {\\left(\\gamma - 1\\right)} \\pi_{l} - 2\\right)} {\\left(\\gamma - 1\\right)} \\pi_{l} {\\left(w_{1} - 1\\right)}</script></html>"
      ],
      "text/latex": [
       "\\begin{math}\n",
       "\\newcommand{\\Bold}[1]{\\mathbf{#1}}-{\\left(\\gamma \\pi_{h} - 2\\right)} {\\left(\\beta - w_{1}\\right)} \\gamma \\pi_{h} - {\\left(2 \\, \\gamma \\pi_{h} - {\\left(\\gamma - 1\\right)} \\pi_{l} - 2\\right)} {\\left(\\gamma - 1\\right)} \\pi_{l} {\\left(w_{1} - 1\\right)}\n",
       "\\end{math}"
      ],
      "text/plain": [
       "-(gamma*pi_h - 2)*(beta - w_1)*gamma*pi_h - (2*gamma*pi_h - (gamma - 1)*pi_l - 2)*(gamma - 1)*pi_l*(w_1 - 1)"
      ]
     },
     "metadata": {},
     "output_type": "display_data"
    }
   ],
   "source": [
    "Pi_1 = Prob_1_h_simp*(beta - w_1) + Prob_1_l_simp*(1-w_1)\n",
    "show(Pi_1)"
   ]
  },
  {
   "cell_type": "code",
   "execution_count": 80,
   "id": "hawaiian-wheat",
   "metadata": {},
   "outputs": [
    {
     "data": {
      "text/html": [
       "<html><script type=\"math/tex; mode=display\">\\newcommand{\\Bold}[1]{\\mathbf{#1}}-{\\left(\\gamma {\\left(\\pi_{h} - 1\\right)} + 2\\right)} {\\left(\\beta - w_{2}\\right)} \\gamma {\\left(\\pi_{h} - 1\\right)} - {\\left(2 \\, \\gamma \\pi_{h} - {\\left(\\gamma - 1\\right)} {\\left(\\pi_{l} + 1\\right)}\\right)} {\\left(\\gamma - 1\\right)} {\\left(\\pi_{l} - 1\\right)} {\\left(w_{2} - 1\\right)}</script></html>"
      ],
      "text/latex": [
       "\\begin{math}\n",
       "\\newcommand{\\Bold}[1]{\\mathbf{#1}}-{\\left(\\gamma {\\left(\\pi_{h} - 1\\right)} + 2\\right)} {\\left(\\beta - w_{2}\\right)} \\gamma {\\left(\\pi_{h} - 1\\right)} - {\\left(2 \\, \\gamma \\pi_{h} - {\\left(\\gamma - 1\\right)} {\\left(\\pi_{l} + 1\\right)}\\right)} {\\left(\\gamma - 1\\right)} {\\left(\\pi_{l} - 1\\right)} {\\left(w_{2} - 1\\right)}\n",
       "\\end{math}"
      ],
      "text/plain": [
       "-(gamma*(pi_h - 1) + 2)*(beta - w_2)*gamma*(pi_h - 1) - (2*gamma*pi_h - (gamma - 1)*(pi_l + 1))*(gamma - 1)*(pi_l - 1)*(w_2 - 1)"
      ]
     },
     "metadata": {},
     "output_type": "display_data"
    }
   ],
   "source": [
    "Pi_2 = Prob_2_h_simp*(beta - w_2) + Prob_2_l_simp*(1-w_2)\n",
    "show(Pi_2)"
   ]
  },
  {
   "cell_type": "code",
   "execution_count": 81,
   "id": "actual-democrat",
   "metadata": {},
   "outputs": [],
   "source": [
    "Pi_1_A = Pi_1.subs(pi_h == 1, pi_l == pi_1_s)\n",
    "Pi_1_sA = Pi_1_A.subs(gamma == 0.4, beta == 1.5)\n",
    "Pi_1_B = Pi_1.subs(pi_h == pi_h_s, pi_l == pi_l_s)\n",
    "Pi_1_sB = Pi_1_B.subs(gamma == 0.4, beta == 1.5)\n",
    "Pi_1_C = Pi_1.subs(pi_h == 0, pi_l == pi_2_s)\n",
    "Pi_1_sC = Pi_1_C.subs(gamma == 0.4, beta == 1.5)"
   ]
  },
  {
   "cell_type": "code",
   "execution_count": 82,
   "id": "later-merchant",
   "metadata": {},
   "outputs": [],
   "source": [
    "Pi_2_A = Pi_2.subs(pi_h == 1, pi_l == pi_1_s)\n",
    "Pi_2_sA = Pi_2_A.subs(gamma == 0.4, beta == 1.5)\n",
    "Pi_2_B = Pi_2.subs(pi_h == pi_h_s, pi_l == pi_l_s)\n",
    "Pi_2_sB = Pi_2_B.subs(gamma == 0.4, beta == 1.5)\n",
    "Pi_2_C = Pi_2.subs(pi_h == 0, pi_l == pi_2_s)\n",
    "Pi_2_sC = Pi_2_C.subs(gamma == 0.4, beta == 1.5)"
   ]
  },
  {
   "cell_type": "markdown",
   "id": "bigger-midwest",
   "metadata": {},
   "source": [
    "So we can now write out the complete expected profit functions for each firm, dependent on $w_1$ and $w_2$:\n",
    "\n",
    "**firm 1:**\\\n",
    "$\\begin{equation}\n",
    "  \\Pi_1(w_1, w_2)=\\left\\{\n",
    "  \\begin{array}{@{}ll@{}}\n",
    "    \\Pi_1(A) & \\text{if } \\lambda\\frac{w_1}{2}+(1-\\lambda)w_1\\ge w_2\\\\\n",
    "    \\Pi_1(B) & \\text{if } w_1>w_2; \\lambda\\frac{w_1}{2}+(1-\\lambda)w_1\\le w_2 \\text{ or } w_2>w_1; \\lambda\\frac{w_2}{2}+(1-\\lambda)w_2\\le w_1\\\\\n",
    "    \\Pi_1(C) & \\text{if } w_1 < \\lambda\\frac{w_2}{2}+(1-\\lambda)w_2\\\\\n",
    "  \\end{array}\\right.\n",
    "\\end{equation}$\n",
    "\n",
    "**firm 2:**\\\n",
    "$\\begin{equation}\n",
    "  \\Pi_2(w_1, w_2)=\\left\\{\n",
    "  \\begin{array}{@{}ll@{}}\n",
    "    \\Pi_2(A) & \\text{if } \\lambda\\frac{w_1}{2}+(1-\\lambda)w_1\\ge w_2\\\\\n",
    "    \\Pi_2(B) & \\text{if } w_1>w_2; \\lambda\\frac{w_1}{2}+(1-\\lambda)w_1\\le w_2 \\text{ or } w_2>w_1; \\lambda\\frac{w_2}{2}+(1-\\lambda)w_2\\le w_1\\\\\n",
    "    \\Pi_2(C) & \\text{if } w_1 < \\lambda\\frac{w_2}{2}+(1-\\lambda)w_2\\\\\n",
    "  \\end{array}\\right.\n",
    "\\end{equation}$"
   ]
  },
  {
   "cell_type": "code",
   "execution_count": 83,
   "id": "major-sunset",
   "metadata": {},
   "outputs": [
    {
     "data": {
      "text/plain": [
       "max(0, min((2*w_1 - 1.60000000000000*w_2)/(0.400000000000000*w_1 + 0.400000000000000*w_2), 1))"
      ]
     },
     "execution_count": 83,
     "metadata": {},
     "output_type": "execute_result"
    }
   ],
   "source": [
    "strat_h_a = strat_h.subs(gamma == 0.4)\n",
    "Strategy_h = max_symbolic(0, min_symbolic(strat_h_a, 1))\n",
    "Strategy_h"
   ]
  },
  {
   "cell_type": "code",
   "execution_count": 84,
   "id": "associate-authority",
   "metadata": {},
   "outputs": [
    {
     "data": {
      "text/plain": [
       "max((-1.20000000000000*w_1 + 1.40000000000000*w_2)/(-0.600000000000000*w_1 - 0.600000000000000*w_2), min((2*w_1 - 2.60000000000000*w_2)/(-0.600000000000000*w_1 - 0.600000000000000*w_2), -(2*w_1 - 0.600000000000000*w_2)/(-0.600000000000000*w_1 - 0.600000000000000*w_2)))"
      ]
     },
     "execution_count": 84,
     "metadata": {},
     "output_type": "execute_result"
    }
   ],
   "source": [
    "strats_l_s = pi_l_s.subs(gamma == 0.4)\n",
    "strats_l_1 = pi_1_s.subs(gamma == 0.4)\n",
    "strats_l_2 = pi_2_s.subs(gamma == 0.4)\n",
    "Strategy_l = max_symbolic(strats_l_1, min_symbolic(strats_l_s, strats_l_2))\n",
    "Strategy_l"
   ]
  },
  {
   "cell_type": "code",
   "execution_count": 85,
   "id": "supreme-transcript",
   "metadata": {},
   "outputs": [
    {
     "data": {
      "text/plain": [
       "0.400000000000000*(w_1 - 1.50000000000000)*(0.400000000000000*max(0, min((2*w_1 - 1.60000000000000*w_2)/(0.400000000000000*w_1 + 0.400000000000000*w_2), 1)) - 2)*max(0, min((2*w_1 - 1.60000000000000*w_2)/(0.400000000000000*w_1 + 0.400000000000000*w_2), 1)) + 0.600000000000000*(w_1 - 1)*(0.800000000000000*max(0, min((2*w_1 - 1.60000000000000*w_2)/(0.400000000000000*w_1 + 0.400000000000000*w_2), 1)) + 0.600000000000000*max((-1.20000000000000*w_1 + 1.40000000000000*w_2)/(-0.600000000000000*w_1 - 0.600000000000000*w_2), min((2*w_1 - 2.60000000000000*w_2)/(-0.600000000000000*w_1 - 0.600000000000000*w_2), -(2*w_1 - 0.600000000000000*w_2)/(-0.600000000000000*w_1 - 0.600000000000000*w_2))) - 2)*max((-1.20000000000000*w_1 + 1.40000000000000*w_2)/(-0.600000000000000*w_1 - 0.600000000000000*w_2), min((2*w_1 - 2.60000000000000*w_2)/(-0.600000000000000*w_1 - 0.600000000000000*w_2), -(2*w_1 - 0.600000000000000*w_2)/(-0.600000000000000*w_1 - 0.600000000000000*w_2)))"
      ]
     },
     "execution_count": 85,
     "metadata": {},
     "output_type": "execute_result"
    }
   ],
   "source": [
    "Pi_1_final = Pi_1.subs(pi_h == Strategy_h, pi_l == Strategy_l, gamma == 0.4, beta == 1.5)\n",
    "Pi_1_final"
   ]
  },
  {
   "cell_type": "code",
   "execution_count": 86,
   "id": "latter-chemistry",
   "metadata": {},
   "outputs": [
    {
     "data": {
      "text/plain": [
       "0.400000000000000*(w_2 - 1.50000000000000)*(max(0, min((2*w_1 - 1.60000000000000*w_2)/(0.400000000000000*w_1 + 0.400000000000000*w_2), 1)) - 1)*(0.400000000000000*max(0, min((2*w_1 - 1.60000000000000*w_2)/(0.400000000000000*w_1 + 0.400000000000000*w_2), 1)) + 1.60000000000000) + 0.600000000000000*(w_2 - 1)*(0.800000000000000*max(0, min((2*w_1 - 1.60000000000000*w_2)/(0.400000000000000*w_1 + 0.400000000000000*w_2), 1)) + 0.600000000000000*max((-1.20000000000000*w_1 + 1.40000000000000*w_2)/(-0.600000000000000*w_1 - 0.600000000000000*w_2), min((2*w_1 - 2.60000000000000*w_2)/(-0.600000000000000*w_1 - 0.600000000000000*w_2), -(2*w_1 - 0.600000000000000*w_2)/(-0.600000000000000*w_1 - 0.600000000000000*w_2))) + 0.600000000000000)*(max((-1.20000000000000*w_1 + 1.40000000000000*w_2)/(-0.600000000000000*w_1 - 0.600000000000000*w_2), min((2*w_1 - 2.60000000000000*w_2)/(-0.600000000000000*w_1 - 0.600000000000000*w_2), -(2*w_1 - 0.600000000000000*w_2)/(-0.600000000000000*w_1 - 0.600000000000000*w_2))) - 1)"
      ]
     },
     "execution_count": 86,
     "metadata": {},
     "output_type": "execute_result"
    }
   ],
   "source": [
    "Pi_2_final = Pi_2.subs(pi_h == Strategy_h, pi_l == Strategy_l, gamma == 0.4, beta == 1.5)\n",
    "Pi_2_final"
   ]
  },
  {
   "cell_type": "code",
   "execution_count": 87,
   "id": "optical-perry",
   "metadata": {},
   "outputs": [],
   "source": [
    "dev_Pi_1 = derivative(Pi_1_final, w_1)\n",
    "dev_1_sol = solve(dev_Pi_1 == 0, w_1)"
   ]
  },
  {
   "cell_type": "code",
   "execution_count": 93,
   "id": "graphic-alignment",
   "metadata": {},
   "outputs": [
    {
     "data": {
      "text/plain": [
       "[]"
      ]
     },
     "execution_count": 93,
     "metadata": {},
     "output_type": "execute_result"
    }
   ],
   "source": [
    "dev_Pi_2 = derivative(Pi_2_final, w_2)\n",
    "dev_2_sol = solve((dev_Pi_2 == 0, w_1 == dev_1_sol), w_2)\n",
    "dev_2_sol"
   ]
  },
  {
   "cell_type": "code",
   "execution_count": 89,
   "id": "descending-angel",
   "metadata": {},
   "outputs": [
    {
     "data": {
      "text/plain": [
       "4"
      ]
     },
     "execution_count": 89,
     "metadata": {},
     "output_type": "execute_result"
    }
   ],
   "source": [
    "2+2"
   ]
  },
  {
   "cell_type": "code",
   "execution_count": 90,
   "id": "alien-rover",
   "metadata": {},
   "outputs": [
    {
     "data": {
      "text/plain": [
       "[]"
      ]
     },
     "execution_count": 90,
     "metadata": {},
     "output_type": "execute_result"
    }
   ],
   "source": [
    "solve((dev_Pi_1 == dev_Pi_2),(w_1, w_2))"
   ]
  },
  {
   "cell_type": "code",
   "execution_count": 91,
   "id": "hazardous-immunology",
   "metadata": {},
   "outputs": [
    {
     "ename": "RuntimeError",
     "evalue": "ECL says: Console interrupt.",
     "output_type": "error",
     "traceback": [
      "\u001b[0;31m---------------------------------------------------------------------------\u001b[0m",
      "\u001b[0;31mRuntimeError\u001b[0m                              Traceback (most recent call last)",
      "\u001b[0;32m~/miniconda3/envs/sage/lib/python3.7/site-packages/sage/interfaces/interface.py\u001b[0m in \u001b[0;36m__init__\u001b[0;34m(self, parent, value, is_name, name)\u001b[0m\n\u001b[1;32m    718\u001b[0m             \u001b[0;32mtry\u001b[0m\u001b[0;34m:\u001b[0m\u001b[0;34m\u001b[0m\u001b[0;34m\u001b[0m\u001b[0m\n\u001b[0;32m--> 719\u001b[0;31m                 \u001b[0mself\u001b[0m\u001b[0;34m.\u001b[0m\u001b[0m_name\u001b[0m \u001b[0;34m=\u001b[0m \u001b[0mparent\u001b[0m\u001b[0;34m.\u001b[0m\u001b[0m_create\u001b[0m\u001b[0;34m(\u001b[0m\u001b[0mvalue\u001b[0m\u001b[0;34m,\u001b[0m \u001b[0mname\u001b[0m\u001b[0;34m=\u001b[0m\u001b[0mname\u001b[0m\u001b[0;34m)\u001b[0m\u001b[0;34m\u001b[0m\u001b[0;34m\u001b[0m\u001b[0m\n\u001b[0m\u001b[1;32m    720\u001b[0m             \u001b[0;32mexcept\u001b[0m \u001b[0;34m(\u001b[0m\u001b[0mTypeError\u001b[0m\u001b[0;34m,\u001b[0m \u001b[0mRuntimeError\u001b[0m\u001b[0;34m,\u001b[0m \u001b[0mValueError\u001b[0m\u001b[0;34m)\u001b[0m \u001b[0;32mas\u001b[0m \u001b[0mx\u001b[0m\u001b[0;34m:\u001b[0m\u001b[0;34m\u001b[0m\u001b[0;34m\u001b[0m\u001b[0m\n",
      "\u001b[0;32m~/miniconda3/envs/sage/lib/python3.7/site-packages/sage/interfaces/maxima_lib.py\u001b[0m in \u001b[0;36m_create\u001b[0;34m(self, value, name)\u001b[0m\n\u001b[1;32m    605\u001b[0m             \u001b[0;32melse\u001b[0m\u001b[0;34m:\u001b[0m\u001b[0;34m\u001b[0m\u001b[0;34m\u001b[0m\u001b[0m\n\u001b[0;32m--> 606\u001b[0;31m                 \u001b[0mself\u001b[0m\u001b[0;34m.\u001b[0m\u001b[0mset\u001b[0m\u001b[0;34m(\u001b[0m\u001b[0mname\u001b[0m\u001b[0;34m,\u001b[0m \u001b[0mvalue\u001b[0m\u001b[0;34m)\u001b[0m\u001b[0;34m\u001b[0m\u001b[0;34m\u001b[0m\u001b[0m\n\u001b[0m\u001b[1;32m    607\u001b[0m         \u001b[0;32mexcept\u001b[0m \u001b[0mRuntimeError\u001b[0m \u001b[0;32mas\u001b[0m \u001b[0merror\u001b[0m\u001b[0;34m:\u001b[0m\u001b[0;34m\u001b[0m\u001b[0;34m\u001b[0m\u001b[0m\n",
      "\u001b[0;32m~/miniconda3/envs/sage/lib/python3.7/site-packages/sage/interfaces/maxima_lib.py\u001b[0m in \u001b[0;36mset\u001b[0;34m(self, var, value)\u001b[0m\n\u001b[1;32m    513\u001b[0m         \u001b[0mcmd\u001b[0m \u001b[0;34m=\u001b[0m \u001b[0;34m'%s : %s$'\u001b[0m\u001b[0;34m%\u001b[0m\u001b[0;34m(\u001b[0m\u001b[0mvar\u001b[0m\u001b[0;34m,\u001b[0m \u001b[0mvalue\u001b[0m\u001b[0;34m.\u001b[0m\u001b[0mrstrip\u001b[0m\u001b[0;34m(\u001b[0m\u001b[0;34m';'\u001b[0m\u001b[0;34m)\u001b[0m\u001b[0;34m)\u001b[0m\u001b[0;34m\u001b[0m\u001b[0;34m\u001b[0m\u001b[0m\n\u001b[0;32m--> 514\u001b[0;31m         \u001b[0mself\u001b[0m\u001b[0;34m.\u001b[0m\u001b[0meval\u001b[0m\u001b[0;34m(\u001b[0m\u001b[0mcmd\u001b[0m\u001b[0;34m)\u001b[0m\u001b[0;34m\u001b[0m\u001b[0;34m\u001b[0m\u001b[0m\n\u001b[0m\u001b[1;32m    515\u001b[0m \u001b[0;34m\u001b[0m\u001b[0m\n",
      "\u001b[0;32m~/miniconda3/envs/sage/lib/python3.7/site-packages/sage/interfaces/maxima_lib.py\u001b[0m in \u001b[0;36m_eval_line\u001b[0;34m(self, line, locals, reformat, **kwds)\u001b[0m\n\u001b[1;32m    459\u001b[0m                 \u001b[0;32mif\u001b[0m \u001b[0mstatement\u001b[0m\u001b[0;34m:\u001b[0m\u001b[0;34m\u001b[0m\u001b[0;34m\u001b[0m\u001b[0m\n\u001b[0;32m--> 460\u001b[0;31m                     \u001b[0mmaxima_eval\u001b[0m\u001b[0;34m(\u001b[0m\u001b[0;34m\"#$%s$\"\u001b[0m \u001b[0;34m%\u001b[0m \u001b[0mstatement\u001b[0m\u001b[0;34m)\u001b[0m\u001b[0;34m\u001b[0m\u001b[0;34m\u001b[0m\u001b[0m\n\u001b[0m\u001b[1;32m    461\u001b[0m         \u001b[0;32mif\u001b[0m \u001b[0;32mnot\u001b[0m \u001b[0mreformat\u001b[0m\u001b[0;34m:\u001b[0m\u001b[0;34m\u001b[0m\u001b[0;34m\u001b[0m\u001b[0m\n",
      "\u001b[0;32m~/miniconda3/envs/sage/lib/python3.7/site-packages/sage/libs/ecl.pyx\u001b[0m in \u001b[0;36msage.libs.ecl.EclObject.__call__ (build/cythonized/sage/libs/ecl.c:8598)\u001b[0;34m()\u001b[0m\n\u001b[1;32m    851\u001b[0m         \u001b[0mlispargs\u001b[0m \u001b[0;34m=\u001b[0m \u001b[0mEclObject\u001b[0m\u001b[0;34m(\u001b[0m\u001b[0mlist\u001b[0m\u001b[0;34m(\u001b[0m\u001b[0margs\u001b[0m\u001b[0;34m)\u001b[0m\u001b[0;34m)\u001b[0m\u001b[0;34m\u001b[0m\u001b[0;34m\u001b[0m\u001b[0m\n\u001b[0;32m--> 852\u001b[0;31m         \u001b[0;32mreturn\u001b[0m \u001b[0mecl_wrap\u001b[0m\u001b[0;34m(\u001b[0m\u001b[0mecl_safe_apply\u001b[0m\u001b[0;34m(\u001b[0m\u001b[0mself\u001b[0m\u001b[0;34m.\u001b[0m\u001b[0mobj\u001b[0m\u001b[0;34m,\u001b[0m\u001b[0;34m(\u001b[0m\u001b[0;34m<\u001b[0m\u001b[0mEclObject\u001b[0m\u001b[0;34m>\u001b[0m\u001b[0mlispargs\u001b[0m\u001b[0;34m)\u001b[0m\u001b[0;34m.\u001b[0m\u001b[0mobj\u001b[0m\u001b[0;34m)\u001b[0m\u001b[0;34m)\u001b[0m\u001b[0;34m\u001b[0m\u001b[0;34m\u001b[0m\u001b[0m\n\u001b[0m\u001b[1;32m    853\u001b[0m \u001b[0;34m\u001b[0m\u001b[0m\n",
      "\u001b[0;32m~/miniconda3/envs/sage/lib/python3.7/site-packages/sage/libs/ecl.pyx\u001b[0m in \u001b[0;36msage.libs.ecl.ecl_safe_apply (build/cythonized/sage/libs/ecl.c:5896)\u001b[0;34m()\u001b[0m\n\u001b[1;32m    364\u001b[0m     \u001b[0;32mif\u001b[0m \u001b[0merror\u001b[0m \u001b[0;34m!=\u001b[0m \u001b[0mNULL\u001b[0m\u001b[0;34m:\u001b[0m\u001b[0;34m\u001b[0m\u001b[0;34m\u001b[0m\u001b[0m\n\u001b[0;32m--> 365\u001b[0;31m         raise RuntimeError(\"ECL says: {}\".format(\n\u001b[0m\u001b[1;32m    366\u001b[0m             ecl_string_to_python(error)))\n",
      "\u001b[0;31mRuntimeError\u001b[0m: ECL says: Console interrupt.",
      "\nDuring handling of the above exception, another exception occurred:\n",
      "\u001b[0;31mTypeError\u001b[0m                                 Traceback (most recent call last)",
      "\u001b[0;32m~/miniconda3/envs/sage/lib/python3.7/site-packages/sage/symbolic/relation.py\u001b[0m in \u001b[0;36msolve\u001b[0;34m(f, *args, **kwds)\u001b[0m\n\u001b[1;32m   1109\u001b[0m     \u001b[0;32mtry\u001b[0m\u001b[0;34m:\u001b[0m\u001b[0;34m\u001b[0m\u001b[0;34m\u001b[0m\u001b[0m\n\u001b[0;32m-> 1110\u001b[0;31m         \u001b[0ms\u001b[0m \u001b[0;34m=\u001b[0m \u001b[0mm\u001b[0m\u001b[0;34m.\u001b[0m\u001b[0msolve\u001b[0m\u001b[0;34m(\u001b[0m\u001b[0mvariables\u001b[0m\u001b[0;34m)\u001b[0m\u001b[0;34m\u001b[0m\u001b[0;34m\u001b[0m\u001b[0m\n\u001b[0m\u001b[1;32m   1111\u001b[0m     \u001b[0;32mexcept\u001b[0m \u001b[0mException\u001b[0m\u001b[0;34m:\u001b[0m \u001b[0;31m# if Maxima gave an error, try its to_poly_solve\u001b[0m\u001b[0;34m\u001b[0m\u001b[0;34m\u001b[0m\u001b[0m\n",
      "\u001b[0;32m~/miniconda3/envs/sage/lib/python3.7/site-packages/sage/interfaces/interface.py\u001b[0m in \u001b[0;36m__call__\u001b[0;34m(self, *args, **kwds)\u001b[0m\n\u001b[1;32m    679\u001b[0m     \u001b[0;32mdef\u001b[0m \u001b[0m__call__\u001b[0m\u001b[0;34m(\u001b[0m\u001b[0mself\u001b[0m\u001b[0;34m,\u001b[0m \u001b[0;34m*\u001b[0m\u001b[0margs\u001b[0m\u001b[0;34m,\u001b[0m \u001b[0;34m**\u001b[0m\u001b[0mkwds\u001b[0m\u001b[0;34m)\u001b[0m\u001b[0;34m:\u001b[0m\u001b[0;34m\u001b[0m\u001b[0;34m\u001b[0m\u001b[0m\n\u001b[0;32m--> 680\u001b[0;31m         \u001b[0;32mreturn\u001b[0m \u001b[0mself\u001b[0m\u001b[0;34m.\u001b[0m\u001b[0m_obj\u001b[0m\u001b[0;34m.\u001b[0m\u001b[0mparent\u001b[0m\u001b[0;34m(\u001b[0m\u001b[0;34m)\u001b[0m\u001b[0;34m.\u001b[0m\u001b[0mfunction_call\u001b[0m\u001b[0;34m(\u001b[0m\u001b[0mself\u001b[0m\u001b[0;34m.\u001b[0m\u001b[0m_name\u001b[0m\u001b[0;34m,\u001b[0m \u001b[0;34m[\u001b[0m\u001b[0mself\u001b[0m\u001b[0;34m.\u001b[0m\u001b[0m_obj\u001b[0m\u001b[0;34m]\u001b[0m \u001b[0;34m+\u001b[0m \u001b[0mlist\u001b[0m\u001b[0;34m(\u001b[0m\u001b[0margs\u001b[0m\u001b[0;34m)\u001b[0m\u001b[0;34m,\u001b[0m \u001b[0mkwds\u001b[0m\u001b[0;34m)\u001b[0m\u001b[0;34m\u001b[0m\u001b[0;34m\u001b[0m\u001b[0m\n\u001b[0m\u001b[1;32m    681\u001b[0m \u001b[0;34m\u001b[0m\u001b[0m\n",
      "\u001b[0;32m~/miniconda3/envs/sage/lib/python3.7/site-packages/sage/interfaces/interface.py\u001b[0m in \u001b[0;36mfunction_call\u001b[0;34m(self, function, args, kwds)\u001b[0m\n\u001b[1;32m    600\u001b[0m                                        ['%s=%s'%(key,value.name()) for key, value in kwds.items()])\n\u001b[0;32m--> 601\u001b[0;31m         \u001b[0;32mreturn\u001b[0m \u001b[0mself\u001b[0m\u001b[0;34m.\u001b[0m\u001b[0mnew\u001b[0m\u001b[0;34m(\u001b[0m\u001b[0ms\u001b[0m\u001b[0;34m)\u001b[0m\u001b[0;34m\u001b[0m\u001b[0;34m\u001b[0m\u001b[0m\n\u001b[0m\u001b[1;32m    602\u001b[0m \u001b[0;34m\u001b[0m\u001b[0m\n",
      "\u001b[0;32m~/miniconda3/envs/sage/lib/python3.7/site-packages/sage/interfaces/interface.py\u001b[0m in \u001b[0;36mnew\u001b[0;34m(self, code)\u001b[0m\n\u001b[1;32m    369\u001b[0m     \u001b[0;32mdef\u001b[0m \u001b[0mnew\u001b[0m\u001b[0;34m(\u001b[0m\u001b[0mself\u001b[0m\u001b[0;34m,\u001b[0m \u001b[0mcode\u001b[0m\u001b[0;34m)\u001b[0m\u001b[0;34m:\u001b[0m\u001b[0;34m\u001b[0m\u001b[0;34m\u001b[0m\u001b[0m\n\u001b[0;32m--> 370\u001b[0;31m         \u001b[0;32mreturn\u001b[0m \u001b[0mself\u001b[0m\u001b[0;34m(\u001b[0m\u001b[0mcode\u001b[0m\u001b[0;34m)\u001b[0m\u001b[0;34m\u001b[0m\u001b[0;34m\u001b[0m\u001b[0m\n\u001b[0m\u001b[1;32m    371\u001b[0m \u001b[0;34m\u001b[0m\u001b[0m\n",
      "\u001b[0;32m~/miniconda3/envs/sage/lib/python3.7/site-packages/sage/interfaces/interface.py\u001b[0m in \u001b[0;36m__call__\u001b[0;34m(self, x, name)\u001b[0m\n\u001b[1;32m    295\u001b[0m         \u001b[0;32mif\u001b[0m \u001b[0misinstance\u001b[0m\u001b[0;34m(\u001b[0m\u001b[0mx\u001b[0m\u001b[0;34m,\u001b[0m \u001b[0mstr\u001b[0m\u001b[0;34m)\u001b[0m\u001b[0;34m:\u001b[0m\u001b[0;34m\u001b[0m\u001b[0;34m\u001b[0m\u001b[0m\n\u001b[0;32m--> 296\u001b[0;31m             \u001b[0;32mreturn\u001b[0m \u001b[0mcls\u001b[0m\u001b[0;34m(\u001b[0m\u001b[0mself\u001b[0m\u001b[0;34m,\u001b[0m \u001b[0mx\u001b[0m\u001b[0;34m,\u001b[0m \u001b[0mname\u001b[0m\u001b[0;34m=\u001b[0m\u001b[0mname\u001b[0m\u001b[0;34m)\u001b[0m\u001b[0;34m\u001b[0m\u001b[0;34m\u001b[0m\u001b[0m\n\u001b[0m\u001b[1;32m    297\u001b[0m         \u001b[0;32mtry\u001b[0m\u001b[0;34m:\u001b[0m\u001b[0;34m\u001b[0m\u001b[0;34m\u001b[0m\u001b[0m\n",
      "\u001b[0;32m~/miniconda3/envs/sage/lib/python3.7/site-packages/sage/interfaces/interface.py\u001b[0m in \u001b[0;36m__init__\u001b[0;34m(self, parent, value, is_name, name)\u001b[0m\n\u001b[1;32m    720\u001b[0m             \u001b[0;32mexcept\u001b[0m \u001b[0;34m(\u001b[0m\u001b[0mTypeError\u001b[0m\u001b[0;34m,\u001b[0m \u001b[0mRuntimeError\u001b[0m\u001b[0;34m,\u001b[0m \u001b[0mValueError\u001b[0m\u001b[0;34m)\u001b[0m \u001b[0;32mas\u001b[0m \u001b[0mx\u001b[0m\u001b[0;34m:\u001b[0m\u001b[0;34m\u001b[0m\u001b[0;34m\u001b[0m\u001b[0m\n\u001b[0;32m--> 721\u001b[0;31m                 \u001b[0;32mraise\u001b[0m \u001b[0mTypeError\u001b[0m\u001b[0;34m(\u001b[0m\u001b[0mx\u001b[0m\u001b[0;34m)\u001b[0m\u001b[0;34m\u001b[0m\u001b[0;34m\u001b[0m\u001b[0m\n\u001b[0m\u001b[1;32m    722\u001b[0m \u001b[0;34m\u001b[0m\u001b[0m\n",
      "\u001b[0;31mTypeError\u001b[0m: ECL says: Console interrupt.",
      "\nDuring handling of the above exception, another exception occurred:\n",
      "\u001b[0;31mRuntimeError\u001b[0m                              Traceback (most recent call last)",
      "\u001b[0;32m<ipython-input-91-f5e879ff4a1b>\u001b[0m in \u001b[0;36m<module>\u001b[0;34m\u001b[0m\n\u001b[0;32m----> 1\u001b[0;31m \u001b[0msolve\u001b[0m\u001b[0;34m(\u001b[0m\u001b[0;34m(\u001b[0m\u001b[0mdev_Pi_1\u001b[0m \u001b[0;34m==\u001b[0m \u001b[0mInteger\u001b[0m\u001b[0;34m(\u001b[0m\u001b[0;36m0\u001b[0m\u001b[0;34m)\u001b[0m\u001b[0;34m,\u001b[0m \u001b[0mdev_Pi_2\u001b[0m \u001b[0;34m==\u001b[0m \u001b[0mInteger\u001b[0m\u001b[0;34m(\u001b[0m\u001b[0;36m0\u001b[0m\u001b[0;34m)\u001b[0m\u001b[0;34m)\u001b[0m\u001b[0;34m,\u001b[0m \u001b[0;34m(\u001b[0m\u001b[0mw_1\u001b[0m\u001b[0;34m,\u001b[0m \u001b[0mw_2\u001b[0m\u001b[0;34m)\u001b[0m\u001b[0;34m)\u001b[0m\u001b[0;34m\u001b[0m\u001b[0;34m\u001b[0m\u001b[0m\n\u001b[0m",
      "\u001b[0;32m~/miniconda3/envs/sage/lib/python3.7/site-packages/sage/symbolic/relation.py\u001b[0m in \u001b[0;36msolve\u001b[0;34m(f, *args, **kwds)\u001b[0m\n\u001b[1;32m   1111\u001b[0m     \u001b[0;32mexcept\u001b[0m \u001b[0mException\u001b[0m\u001b[0;34m:\u001b[0m \u001b[0;31m# if Maxima gave an error, try its to_poly_solve\u001b[0m\u001b[0;34m\u001b[0m\u001b[0;34m\u001b[0m\u001b[0m\n\u001b[1;32m   1112\u001b[0m         \u001b[0;32mtry\u001b[0m\u001b[0;34m:\u001b[0m\u001b[0;34m\u001b[0m\u001b[0;34m\u001b[0m\u001b[0m\n\u001b[0;32m-> 1113\u001b[0;31m             \u001b[0ms\u001b[0m \u001b[0;34m=\u001b[0m \u001b[0mm\u001b[0m\u001b[0;34m.\u001b[0m\u001b[0mto_poly_solve\u001b[0m\u001b[0;34m(\u001b[0m\u001b[0mvariables\u001b[0m\u001b[0;34m)\u001b[0m\u001b[0;34m\u001b[0m\u001b[0;34m\u001b[0m\u001b[0m\n\u001b[0m\u001b[1;32m   1114\u001b[0m         \u001b[0;32mexcept\u001b[0m \u001b[0mTypeError\u001b[0m \u001b[0;32mas\u001b[0m \u001b[0mmess\u001b[0m\u001b[0;34m:\u001b[0m \u001b[0;31m# if that gives an error, raise an error.\u001b[0m\u001b[0;34m\u001b[0m\u001b[0;34m\u001b[0m\u001b[0m\n\u001b[1;32m   1115\u001b[0m             \u001b[0;32mif\u001b[0m \u001b[0;34m\"Error executing code in Maxima\"\u001b[0m \u001b[0;32min\u001b[0m \u001b[0mstr\u001b[0m\u001b[0;34m(\u001b[0m\u001b[0mmess\u001b[0m\u001b[0;34m)\u001b[0m\u001b[0;34m:\u001b[0m\u001b[0;34m\u001b[0m\u001b[0;34m\u001b[0m\u001b[0m\n",
      "\u001b[0;32m~/miniconda3/envs/sage/lib/python3.7/site-packages/sage/interfaces/maxima_lib.py\u001b[0m in \u001b[0;36mto_poly_solve\u001b[0;34m(self, vars, options)\u001b[0m\n\u001b[1;32m   1115\u001b[0m         \u001b[0;32melse\u001b[0m\u001b[0;34m:\u001b[0m\u001b[0;34m\u001b[0m\u001b[0;34m\u001b[0m\u001b[0m\n\u001b[1;32m   1116\u001b[0m             \u001b[0mcmd\u001b[0m\u001b[0;34m=\u001b[0m\u001b[0mEclObject\u001b[0m\u001b[0;34m(\u001b[0m\u001b[0;34m[\u001b[0m\u001b[0;34m[\u001b[0m\u001b[0mmax_to_poly_solve\u001b[0m\u001b[0;34m]\u001b[0m\u001b[0;34m,\u001b[0m \u001b[0mself\u001b[0m\u001b[0;34m.\u001b[0m\u001b[0mecl\u001b[0m\u001b[0;34m(\u001b[0m\u001b[0;34m)\u001b[0m\u001b[0;34m,\u001b[0m \u001b[0msr_to_max\u001b[0m\u001b[0;34m(\u001b[0m\u001b[0mvars\u001b[0m\u001b[0;34m)\u001b[0m\u001b[0;34m]\u001b[0m\u001b[0;34m)\u001b[0m\u001b[0;34m\u001b[0m\u001b[0;34m\u001b[0m\u001b[0m\n\u001b[0;32m-> 1117\u001b[0;31m         \u001b[0;32mreturn\u001b[0m \u001b[0mself\u001b[0m\u001b[0;34m.\u001b[0m\u001b[0mparent\u001b[0m\u001b[0;34m(\u001b[0m\u001b[0;34m)\u001b[0m\u001b[0;34m(\u001b[0m\u001b[0mmaxima_eval\u001b[0m\u001b[0;34m(\u001b[0m\u001b[0mcmd\u001b[0m\u001b[0;34m)\u001b[0m\u001b[0;34m)\u001b[0m\u001b[0;34m\u001b[0m\u001b[0;34m\u001b[0m\u001b[0m\n\u001b[0m\u001b[1;32m   1118\u001b[0m \u001b[0;34m\u001b[0m\u001b[0m\n\u001b[1;32m   1119\u001b[0m     \u001b[0;32mdef\u001b[0m \u001b[0mdisplay2d\u001b[0m\u001b[0;34m(\u001b[0m\u001b[0mself\u001b[0m\u001b[0;34m,\u001b[0m \u001b[0monscreen\u001b[0m\u001b[0;34m=\u001b[0m\u001b[0;32mTrue\u001b[0m\u001b[0;34m)\u001b[0m\u001b[0;34m:\u001b[0m\u001b[0;34m\u001b[0m\u001b[0;34m\u001b[0m\u001b[0m\n",
      "\u001b[0;32m~/miniconda3/envs/sage/lib/python3.7/site-packages/sage/libs/ecl.pyx\u001b[0m in \u001b[0;36msage.libs.ecl.EclObject.__call__ (build/cythonized/sage/libs/ecl.c:8598)\u001b[0;34m()\u001b[0m\n\u001b[1;32m    850\u001b[0m         \"\"\"\n\u001b[1;32m    851\u001b[0m         \u001b[0mlispargs\u001b[0m \u001b[0;34m=\u001b[0m \u001b[0mEclObject\u001b[0m\u001b[0;34m(\u001b[0m\u001b[0mlist\u001b[0m\u001b[0;34m(\u001b[0m\u001b[0margs\u001b[0m\u001b[0;34m)\u001b[0m\u001b[0;34m)\u001b[0m\u001b[0;34m\u001b[0m\u001b[0;34m\u001b[0m\u001b[0m\n\u001b[0;32m--> 852\u001b[0;31m         \u001b[0;32mreturn\u001b[0m \u001b[0mecl_wrap\u001b[0m\u001b[0;34m(\u001b[0m\u001b[0mecl_safe_apply\u001b[0m\u001b[0;34m(\u001b[0m\u001b[0mself\u001b[0m\u001b[0;34m.\u001b[0m\u001b[0mobj\u001b[0m\u001b[0;34m,\u001b[0m\u001b[0;34m(\u001b[0m\u001b[0;34m<\u001b[0m\u001b[0mEclObject\u001b[0m\u001b[0;34m>\u001b[0m\u001b[0mlispargs\u001b[0m\u001b[0;34m)\u001b[0m\u001b[0;34m.\u001b[0m\u001b[0mobj\u001b[0m\u001b[0;34m)\u001b[0m\u001b[0;34m)\u001b[0m\u001b[0;34m\u001b[0m\u001b[0;34m\u001b[0m\u001b[0m\n\u001b[0m\u001b[1;32m    853\u001b[0m \u001b[0;34m\u001b[0m\u001b[0m\n\u001b[1;32m    854\u001b[0m     \u001b[0;32mdef\u001b[0m \u001b[0m__richcmp__\u001b[0m\u001b[0;34m(\u001b[0m\u001b[0mleft\u001b[0m\u001b[0;34m,\u001b[0m \u001b[0mright\u001b[0m\u001b[0;34m,\u001b[0m \u001b[0mint\u001b[0m \u001b[0mop\u001b[0m\u001b[0;34m)\u001b[0m\u001b[0;34m:\u001b[0m\u001b[0;34m\u001b[0m\u001b[0;34m\u001b[0m\u001b[0m\n",
      "\u001b[0;32m~/miniconda3/envs/sage/lib/python3.7/site-packages/sage/libs/ecl.pyx\u001b[0m in \u001b[0;36msage.libs.ecl.ecl_safe_apply (build/cythonized/sage/libs/ecl.c:5896)\u001b[0;34m()\u001b[0m\n\u001b[1;32m    363\u001b[0m \u001b[0;34m\u001b[0m\u001b[0m\n\u001b[1;32m    364\u001b[0m     \u001b[0;32mif\u001b[0m \u001b[0merror\u001b[0m \u001b[0;34m!=\u001b[0m \u001b[0mNULL\u001b[0m\u001b[0;34m:\u001b[0m\u001b[0;34m\u001b[0m\u001b[0;34m\u001b[0m\u001b[0m\n\u001b[0;32m--> 365\u001b[0;31m         raise RuntimeError(\"ECL says: {}\".format(\n\u001b[0m\u001b[1;32m    366\u001b[0m             ecl_string_to_python(error)))\n\u001b[1;32m    367\u001b[0m     \u001b[0;32melse\u001b[0m\u001b[0;34m:\u001b[0m\u001b[0;34m\u001b[0m\u001b[0;34m\u001b[0m\u001b[0m\n",
      "\u001b[0;31mRuntimeError\u001b[0m: ECL says: Console interrupt."
     ]
    }
   ],
   "source": [
    "solve((dev_Pi_1 == 0, dev_Pi_2 == 0), (w_1, w_2))"
   ]
  },
  {
   "cell_type": "markdown",
   "id": "handy-entity",
   "metadata": {},
   "source": [
    "## "
   ]
  }
 ],
 "metadata": {
  "kernelspec": {
   "display_name": "SageMath 9.2",
   "language": "sage",
   "name": "sagemath"
  },
  "language_info": {
   "codemirror_mode": {
    "name": "ipython",
    "version": 3
   },
   "file_extension": ".py",
   "mimetype": "text/x-python",
   "name": "python",
   "nbconvert_exporter": "python",
   "pygments_lexer": "ipython3",
   "version": "3.7.9"
  }
 },
 "nbformat": 4,
 "nbformat_minor": 5
}
