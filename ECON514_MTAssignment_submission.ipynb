{
 "cells": [
  {
   "cell_type": "markdown",
   "id": "diagnostic-noise",
   "metadata": {},
   "source": [
    "# Problem Three\n",
    "*In the directed search model with incomplete infromation, use the jupyter-notebook (if you need it) and prove theoretically that if there is an equilibrium in firms' wages, and the revenue of firm 1 is strictly larger than firm 2, then in the equilibrium firm 1 must set a strictly higher wage than firm 2 and that the wage that firm 1 sets will be such that $\\lambda w_1 + (1-\\lambda) \\leq w_2$. Use octave (or sagemath if you can figure out how to do it) to compute the equilibrium in firms wages numerically.*"
   ]
  },
  {
   "cell_type": "markdown",
   "id": "numerous-issue",
   "metadata": {},
   "source": [
    "### General Plan\n",
    "#### Assume\n",
    "- firms are in equilibirum in wages\n",
    "- revenue of firm 1 ( $\\Pi _1$) is strictly larger than revenue of firm 2 ( $\\Pi _2$)\n",
    "    - that is, $\\Pi _1 > \\Pi _2$\n",
    "\n",
    "#### Want to Show\n",
    "- firm 1's wage ( $w_1$) is strictly higher than firm 2's ( $w_2$)\n",
    "    - that is, $w_1 > w_2$\n",
    "- firm 1's wage is such that $\\lambda w_1 + (1-\\lambda) \\leq w_2$ where $\\lambda$ is the probability with which a worker applies to firm 1\n",
    "\n",
    "#### Plan\n",
    "- establish correct payoff functions\n",
    "- figure out worker responses and behaviour in equlibirum\n",
    "- show that if $w_2 > w_1$ then the equlibirium cannot hold\n",
    "- assume $w_1 > w_2$, and show that if $\\lambda w_1 + (1-\\lambda) \\geq w_2$, then the eqilibirium cannot hold"
   ]
  },
  {
   "cell_type": "markdown",
   "id": "balanced-edgar",
   "metadata": {},
   "source": [
    "## Correct Payoff Functions"
   ]
  },
  {
   "cell_type": "markdown",
   "id": "express-facing",
   "metadata": {},
   "source": [
    "### Setup\n",
    "We have two workers, $W_1$ and $W_2$, they can each be one of two types, high ($h$) or low ($l$)\\\n",
    "There are two firms, $F_1$ and $F_2$ which offer wages $w_1$ and $w_2$ respectively.\\\n",
    "$\\lambda$ (denoted $\\gamma$ in the code) is the probability of a worker being the high type.\\\n",
    "Let $\\pi_t$ be the probability with which worker of type $t$ ($t = h, l$) chooses to apply to firm 1.\\\n",
    "Let $P_i$ be the expected payoff for worker $i$\n",
    "Initially we assume nothing about the relationship of $w_1$ and $w_2$ but we do assume in equilibrium that firm 1's revenue ($\\Pi_1$) is greater than firm 2's ($\\Pi_2$).\n",
    "\n",
    "If only one worker (eg worker $i$) applies to a firm, they will be hired and paid that firm's wage. If two workers apply to the same firm the firm will choose the worker of the higher type who will be hired and paid the wage while the other worker recieves no pay. If the workers are of the same type, the firm will choose each worker with probability $\\frac{1}{2}$ such that the workers expected payoff for applying to firm $k$ ($k = 1,2$) is $P_i = \\frac{w_k}{2}$."
   ]
  },
  {
   "cell_type": "markdown",
   "id": "mounted-treasure",
   "metadata": {},
   "source": [
    "## Small wage difference"
   ]
  },
  {
   "cell_type": "markdown",
   "id": "sensitive-investment",
   "metadata": {},
   "source": [
    "### Potential Payoffs for High-Type Worker $i$\n",
    "Let worker $i$ be a high type.\n",
    "\n",
    "If worker $i$ **applies to firm 1**, then we can assume worker $j$ ($j \\neq i$) applies to firm 1 (the same firm) or applies to firm 2 (the other firm).\\\n",
    "If worker $j$ is also a high type (probability $\\lambda$) they apply to firm 1 with probability $\\pi_h$ and if they are a low type (probability $1-\\lambda$) they apply to firm 1 with probability ($\\pi_l$).\n",
    "\n",
    "So if worker $j$ is a high type, worker $i$'s expected payoff is:\n",
    "\\begin{aligned}\n",
    "P_i(F_1,t_j=h) &= \\pi_h (\\frac{w_1}{2}) + (1-\\pi_h)w_1\n",
    "\\end{aligned}\n",
    "\n",
    "If worker $j$ is a low type, worker $i$'s expected payoff is:\n",
    "\\begin{aligned}\n",
    "P_i(F_1,t_j=l) &= \\pi_l(w_1) + (1-\\pi_l)w_1\\\\\n",
    "&= w_1\n",
    "\\end{aligned}\n",
    "\n",
    "Then the expected payoff for worker $i$ of applying to firm 1 is:\\\n",
    "\\begin{aligned}\n",
    "P_i (F_1) &= \\lambda P_i(F_1,t_j=h) + (1-\\lambda)P_i(F_1,t_j=l)\\\\\n",
    "&= \\lambda\\{\\pi_h (\\frac{w_1}{2}) + (1-\\pi_h)w_1\\} + (1-\\lambda)\\{w_1\\}\n",
    "\\end{aligned}"
   ]
  },
  {
   "cell_type": "markdown",
   "id": "saved-milan",
   "metadata": {},
   "source": [
    "If worker $i$ **applies to firm 2**, then we can assume worker $j$ applies to firm 1 (the other firm) or applies to firm 2 (the same firm).\\\n",
    "If worker $j$ is also a high type (probability $\\lambda$) they apply to firm 1 with probability $\\pi_h$ and if they are a low type (probability $1-\\lambda$) they apply to firm 1 with probability ($\\pi_l$).\n",
    "\n",
    "If worker $j$ is a high type, worker $i$'s expected payoff is:\n",
    "\\begin{aligned}\n",
    "P_i(F_2,t_j=h) &= \\pi_h (w_2) + (1-\\pi_h)(\\frac{w_2}{2})\n",
    "\\end{aligned}\n",
    "\n",
    "If worker $j$ is a low type, worker $i$'s expected payoff is:\n",
    "\\begin{aligned}\n",
    "P_i(F_2,t_j=l) &= \\pi_l(w_2) + (1-\\pi_l)(w_2)\\\\\n",
    "&= w_2\n",
    "\\end{aligned}\n",
    "\n",
    "Then the expected payoff for worker $i$ of applying to firm 2 is:\n",
    "\\begin{aligned}\n",
    "P_i (F_1) &= \\lambda P_i(F_2,t_j=h) + (1-\\lambda)P_i(F_2,t_j=l)\\\\\n",
    "&= \\lambda\\{\\pi_h (w_2) + (1-\\pi_h)(\\frac{w_2}{2})\\} + (1-\\lambda)\\{w_2\\}\n",
    "\\end{aligned}"
   ]
  },
  {
   "cell_type": "markdown",
   "id": "stock-sudan",
   "metadata": {},
   "source": [
    "So for worker $i$ to be indifferent we must have:\n",
    "\\begin{aligned}\n",
    "P_i (F_1) &= P_i(F_2)\\\\\n",
    "\\lambda\\{\\pi_h (\\frac{w_1}{2}) + (1-\\pi_h)w_1\\} + (1-\\lambda)\\{w_1\\} &= \\lambda\\{\\pi_h (w_2) + (1-\\pi_h)(\\frac{w_2}{2})\\} + (1-\\lambda)\\{w_2\\}\n",
    "\\end{aligned}"
   ]
  },
  {
   "cell_type": "code",
   "execution_count": 1,
   "id": "treated-latino",
   "metadata": {},
   "outputs": [
    {
     "data": {
      "text/plain": [
       "[pi_h == ((gamma - 2)*w_2 + 2*w_1)/(gamma*w_1 + gamma*w_2)]"
      ]
     },
     "execution_count": 1,
     "metadata": {},
     "output_type": "execute_result"
    }
   ],
   "source": [
    "var('gamma, pi_h, w_1, w_2')\n",
    "PHF1 = gamma*(pi_h*(w_1/2)+(1-pi_h)*w_1)+(1-gamma)*w_1\n",
    "PHF2 = gamma*(pi_h*w_2+(1-pi_h)*(w_2/2))+(1-gamma)*w_2\n",
    "pi_h_star = solve(PHF1 == PHF2, pi_h)\n",
    "pi_h_star"
   ]
  },
  {
   "cell_type": "markdown",
   "id": "arctic-aviation",
   "metadata": {},
   "source": [
    "So we find for worker $i$ of type $h$ to be indifferent between the two firms, workers of type $h$ must choose firm 1 with probability:\\\n",
    "$\\pi_h^* = \\frac{(\\lambda-2)w_2 + 2w_1}{\\lambda(w_1 + w_2)}$\n",
    "\n",
    "We check this equation by setting $w_1 = w_2 = w$ (we expect an answer of $\\frac{1}{2}$ when the wages are equal, as shown in class)."
   ]
  },
  {
   "cell_type": "code",
   "execution_count": 2,
   "id": "august-choir",
   "metadata": {},
   "outputs": [
    {
     "data": {
      "text/html": [
       "<html><script type=\"math/tex; mode=display\">\\newcommand{\\Bold}[1]{\\mathbf{#1}}\\left[\\pi_{h} = \\left(\\frac{1}{2}\\right)\\right]</script></html>"
      ],
      "text/latex": [
       "\\begin{math}\n",
       "\\newcommand{\\Bold}[1]{\\mathbf{#1}}\\left[\\pi_{h} = \\left(\\frac{1}{2}\\right)\\right]\n",
       "\\end{math}"
      ],
      "text/plain": [
       "[pi_h == (1/2)]"
      ]
     },
     "metadata": {},
     "output_type": "display_data"
    }
   ],
   "source": [
    "var('w')\n",
    "check = solve(pi_h == (((gamma - 2)*w + 2*w)/(gamma*w + gamma*w)), pi_h)\n",
    "show(check)"
   ]
  },
  {
   "cell_type": "markdown",
   "id": "adjacent-neighborhood",
   "metadata": {},
   "source": [
    "So the equation behaves as expected.\n",
    "\n",
    "Now we do the same for a player of a low type."
   ]
  },
  {
   "cell_type": "markdown",
   "id": "enhanced-device",
   "metadata": {},
   "source": [
    "### Potential Payoffs for Low-Type Worker $i$\n",
    "Let worker $i$ be a low type.\n",
    "\n",
    "If worker $i$ **applies to firm 1**, then we can assume worker $j$ ($j \\neq i$) applies to firm 1 (the same firm) or applies to firm 2 (the other firm).\\\n",
    "If worker $j$ is also a low type (probability $1-\\lambda$) they apply to firm 1 with probability $\\pi_l$ and if they are a high type (probability $\\lambda$) they apply to firm 1 with probability ($\\pi_h$).\n",
    "\n",
    "So if worker $j$ is a low type, worker $i$'s expected payoff is:\n",
    "\\begin{aligned}\n",
    "P_i(F_1,t_j=l) &= \\pi_l(\\frac{w_1}{2}) + (1-\\pi_l)w_1\\\\\n",
    "&= \\pi_l(\\frac{w_1}{2}) + w_1 -\\pi_lw_1\\\\\n",
    "&= w_1 - \\pi_l(\\frac{w_1}{2})\n",
    "\\end{aligned}\n",
    "\n",
    "If worker $j$ is a high type, worker $i$'s expected payoff is:\n",
    "\\begin{aligned}\n",
    "P_i(F_1,t_j=h) &= \\pi_h (0) + (1-\\pi_h)w_1\\\\\n",
    "&= (1-\\pi_h)w_1\n",
    "\\end{aligned}\n",
    "\n",
    "Then the expected payoff for worker $i$ of applying to firm 1 is:\\\n",
    "\\begin{aligned}\n",
    "P_i (F_1) &= \\lambda P_i(F_1,t_j=h) + (1-\\lambda)P_i(F_1,t_j=l)\\\\\n",
    "&= \\lambda\\{(1-\\pi_h)w_1\\} + (1-\\lambda)\\{w_1 - \\pi_l(\\frac{w_1}{2})\\}\n",
    "\\end{aligned}"
   ]
  },
  {
   "cell_type": "markdown",
   "id": "characteristic-fortune",
   "metadata": {},
   "source": [
    "If worker $i$ **applies to firm 2**, then we can assume worker $j$ ($j \\neq i$) applies to firm 1 (the other firm) or applies to firm 2 (the same firm).\\\n",
    "If worker $j$ is also a low type (probability $1-\\lambda$) they apply to firm 1 with probability $\\pi_l$ and if they are a high type (probability $\\lambda$) they apply to firm 1 with probability ($\\pi_h$).\n",
    "\n",
    "So if worker $j$ is a low type, worker $i$'s expected payoff is:\n",
    "\\begin{aligned}\n",
    "P_i(F_2,t_j=l) &= \\pi_l(w_2) + (1-\\pi_l)(\\frac{w_2}{2})\n",
    "\\end{aligned}\n",
    "\n",
    "If worker $j$ is a high type, worker $i$'s expected payoff is:\n",
    "\\begin{aligned}\n",
    "P_i(F_2,t_j=h) &= \\pi_h (w_2) + (1-\\pi_h) (0)\\\\\n",
    "&= \\pi_hw_2\n",
    "\\end{aligned}\n",
    "\n",
    "Then the expected payoff for worker $i$ of applying to firm 2 is:\\\n",
    "\\begin{aligned}\n",
    "P_i (F_2) &= \\lambda P_i(F_2,t_j=h) + (1-\\lambda)P_i(F_2,t_j=l)\\\\\n",
    "&= \\lambda\\{\\pi_hw_2\\} + (1-\\lambda)\\{\\pi_l(w_2) + (1-\\pi_l)(\\frac{w_2}{2})\\}\n",
    "\\end{aligned}"
   ]
  },
  {
   "cell_type": "markdown",
   "id": "communist-intelligence",
   "metadata": {},
   "source": [
    "So for worker $i$ to be indifferent we must have:\n",
    "\\begin{aligned}\n",
    "P_i (F_1) &= P_i(F_2)\\\\\n",
    "\\lambda\\{(1-\\pi_h)w_1\\} + (1-\\lambda)\\{w_1 - \\pi_l(\\frac{w_1}{2})\\} &= \\lambda\\{\\pi_hw_2\\} + (1-\\lambda)\\{\\pi_l(w_2) + (1-\\pi_l)(\\frac{w_2}{2})\\}\n",
    "\\end{aligned}"
   ]
  },
  {
   "cell_type": "code",
   "execution_count": 3,
   "id": "lesser-dublin",
   "metadata": {},
   "outputs": [
    {
     "data": {
      "text/plain": [
       "[pi_l == (2*(gamma*pi_h - 1)*w_1 + (2*gamma*pi_h - gamma + 1)*w_2)/((gamma - 1)*w_1 + (gamma - 1)*w_2)]"
      ]
     },
     "execution_count": 3,
     "metadata": {},
     "output_type": "execute_result"
    }
   ],
   "source": [
    "var('pi_l')\n",
    "PLF1 = gamma*((1-pi_h)*w_1)+(1-gamma)*(w_1 - pi_l*(w_1/2))\n",
    "PLF2 = gamma*(pi_h*w_2)+(1-gamma)*(pi_l*w_2+(1-pi_l)*(w_2/2))\n",
    "pi_l_star = solve(PLF1 == PLF2, pi_l)\n",
    "pi_l_star"
   ]
  },
  {
   "cell_type": "markdown",
   "id": "polish-tribune",
   "metadata": {},
   "source": [
    "So we find for worker $i$ of type $l$ to be indifferent between the two firms, workers of type $l$ must choose firm 1 with probability:\\\n",
    "\\begin{aligned}\n",
    "\\pi_l^* &= \\frac{2(\\lambda \\pi_h - 1)w_1 + (2\\lambda \\pi_h - \\lambda + 1)w_2}{(\\lambda - 1)w_1 + (\\lambda - 1)w_2}\\\\\n",
    "&= \\frac{2(\\lambda \\pi_h - 1)w_1 + (\\lambda(2\\pi_h - 1) + 1)w_2}{(\\lambda - 1)(w_1 + w_2)} \n",
    "\\end{aligned}\n",
    "As above, we check this equation by setting $w_1 = w_2 = w$ and $\\pi_h = 1/2$ (we expect an answer of $\\frac{1}{2}$ when the wages are equal, as above)."
   ]
  },
  {
   "cell_type": "code",
   "execution_count": 4,
   "id": "younger-lloyd",
   "metadata": {},
   "outputs": [
    {
     "data": {
      "text/html": [
       "<html><script type=\"math/tex; mode=display\">\\newcommand{\\Bold}[1]{\\mathbf{#1}}\\left[\\left[\\pi_{l} = \\left(\\frac{1}{2}\\right), \\pi_{h} = \\left(\\frac{1}{2}\\right)\\right]\\right]</script></html>"
      ],
      "text/latex": [
       "\\begin{math}\n",
       "\\newcommand{\\Bold}[1]{\\mathbf{#1}}\\left[\\left[\\pi_{l} = \\left(\\frac{1}{2}\\right), \\pi_{h} = \\left(\\frac{1}{2}\\right)\\right]\\right]\n",
       "\\end{math}"
      ],
      "text/plain": [
       "[[pi_l == (1/2), pi_h == (1/2)]]"
      ]
     },
     "metadata": {},
     "output_type": "display_data"
    }
   ],
   "source": [
    "var('w')\n",
    "check = solve([pi_l == (2*(gamma*pi_h - 1)*w + (2*gamma*pi_h - gamma + 1)*w)/((gamma - 1)*w + (gamma - 1)*w), pi_h == 1/2], pi_l, pi_h)\n",
    "show(check)"
   ]
  },
  {
   "cell_type": "markdown",
   "id": "found-perception",
   "metadata": {},
   "source": [
    "So, as for the high-type worker, the equation behaves as expected."
   ]
  },
  {
   "cell_type": "markdown",
   "id": "tracked-command",
   "metadata": {},
   "source": [
    "### Payoff for Large Wage Difference \n",
    "As discussed in class, if there is a large enough disparity between the wages a high type worker will only apply to the firm with the higher wage. As we don't know which wage is higher this gives us two possibilities:\n",
    "\n",
    "#### When Wage 1 is greater\n",
    "Assume wage 1 is greater than wage 2. For a high type worker $i$, the potential payoff from applying to firm 1 (since we assume if worker $j$ is a high type they will apply to firm 1) is:\n",
    "\\begin{aligned}\n",
    "P_i (F_1) &= \\lambda (\\frac{w_1}{2}) + (1-\\lambda)(w_1)\\\\\n",
    "&= w_1(\\frac{\\lambda}{2} + 1 - \\lambda)\\\\\n",
    "&= w_1 (1 - \\frac{\\lambda}{2})\n",
    "\\end{aligned}\n",
    "\n",
    "The payoff from applying to firm 2 (knowing only low type workers will apply to firm 2) is:\n",
    "\\begin{aligned}\n",
    "P_i (F_2) &= \\lambda (w_2) + (1-\\lambda)(w_2)\\\\\n",
    "&= w_2\n",
    "\\end{aligned}\n",
    "\n",
    "So for a high type worker to always apply to firm 1 we would need:\n",
    "\\begin{aligned}\n",
    "P_i (F_1) &\\geq P_i (F_2)\\\\\n",
    "w_1 (1 - \\frac{\\lambda}{2}) &\\geq w_2\n",
    "\\end{aligned}\n",
    "\n",
    "If a low type worker always applied to firm 1 as well, then the payoff of a low type worker $j$ applying to firm 1 would be:\n",
    "\\begin{aligned}\n",
    "P_j (F_1) &= \\lambda (0) + (1-\\lambda)(\\frac{w_1}{2})\\\\\n",
    "&= (1-\\lambda)(\\frac{w_1}{2})\\\\\n",
    "&= w_1(\\frac{1-\\lambda}{2})\n",
    "\\end{aligned}\n",
    "\n",
    "And if they deviated and applied to firm 2, their payoff would be:\n",
    "\\begin{aligned}\n",
    "P_j (F_2) &= \\lambda (w_2) + (1-\\lambda)w_2\\\\\n",
    "&= w_2\n",
    "\\end{aligned}\n",
    "\n",
    "So for a low type worker to **not** always apply to firm 1 we would need:\n",
    "\\begin{aligned}\n",
    "P_j (F_1) &\\leq P_j (F_2)\\\\\n",
    "w_1(\\frac{1-\\lambda}{2}) &\\leq w_2\n",
    "\\end{aligned}\n",
    "\n",
    "Thus, assuming $w_1 (1 - \\frac{\\lambda}{2}) \\geq w_2$ and $(1-\\lambda)(\\frac{w_1}{2}) \\leq w_2$, we can assume a low type worker would apply to firm 1 with probability $\\pi_1$.\n",
    "\n",
    "If worker $i$ is a high type, then a low-type worker $j$'s expected profit of applying to firm 1 would be:\n",
    "\\begin{aligned}\n",
    "P_j (F_1, t_i = h) &= 0\n",
    "\\end{aligned}\n",
    "\n",
    "If worker $i$ is a low type, then worker $j$'s expected profit of applying to firm 1 would be:\n",
    "\\begin{aligned}\n",
    "P_j (F_1, t_i = l) &= \\pi_1(\\frac{w_1}{2}) + (1-\\pi_1)(w_1)\n",
    "\\end{aligned}\n",
    "\n",
    "Then the expected payoff for worker $j$ in **applying to firm 1** would be:\n",
    "\\begin{aligned}\n",
    "P_j(F_1) &= \\lambda P_j (F_1, t_i = h) + (1-\\lambda)P_j (F_1, t_i = l)\\\\\n",
    "&= \\lambda \\{0\\} + (1-\\lambda)\\{\\pi_1(\\frac{w_1}{2} + (1-\\pi_1)(w_1)\\}\\\\\n",
    "&= (1-\\lambda)\\{\\pi_1(\\frac{w_1}{2} + (1-\\pi_1)w_1\\}\\\\\n",
    "&= w_1\\{(1-\\lambda)\\frac{pi_1}{2} + 1 - \\pi_1\\}\\\\\n",
    "&= w_1\\{(1-\\lambda)\\frac{pi_1}{2} + 1 - \\pi_1\\}\\\\\n",
    "&= w_1(1-\\lambda)(1 - \\frac{\\pi_1}{2})\n",
    "\\end{aligned}\n",
    "\n",
    "If worker $i$ is a high type, then worker $j$'s expected profit of applying to firm 2 would be:\n",
    "\\begin{aligned}\n",
    "P_j (F_2, t_i = h) &= w_2\n",
    "\\end{aligned}\n",
    "\n",
    "If worker $i$ is a low type, then worker $j$'s expected profit of applying to firm 2 would be:\n",
    "\\begin{aligned}\n",
    "P_j (F_2, t_i = l) &= \\pi_1(w_2) + (1-\\pi_1)(\\frac{w_2}{2})\n",
    "\\end{aligned}\n",
    "\n",
    "Then the expected payoff for worker $j$ in **applying to firm 2** would be:\n",
    "\\begin{aligned}\n",
    "P_j(F_2) &= \\lambda P_j (F_2, t_i = h) + (1-\\lambda)P_j (F_2, t_i = l)\\\\\n",
    "&= \\lambda \\{w_2\\} + (1-\\lambda)\\{\\pi_1(w_2) + (1-\\pi_1)(\\frac{w_2}{2})\\}\\\\\n",
    "&= \\frac{w_2}{2}\\{2\\lambda + (1-\\lambda)(\\pi_1 + 1)\\}\n",
    "\\end{aligned}\n",
    "\n",
    "So in order for a low-type worker, $j$, to be indifferent between the two firms we must have:\n",
    "\\begin{aligned}\n",
    "P_j(F_1) &= P_j(F_2)\\\\\n",
    "w_1(1-\\lambda)(1 - \\frac{\\pi_1}{2}) &= \\frac{w_2}{2}\\{2\\lambda + (1-\\lambda)(\\pi_1 + 1)\\}\n",
    "\\end{aligned}"
   ]
  },
  {
   "cell_type": "code",
   "execution_count": 5,
   "id": "regular-combat",
   "metadata": {},
   "outputs": [
    {
     "data": {
      "text/plain": [
       "[pi_1 == (2*(gamma - 1)*w_1 + (gamma + 1)*w_2)/((gamma - 1)*w_1 + (gamma - 1)*w_2)]"
      ]
     },
     "execution_count": 5,
     "metadata": {},
     "output_type": "execute_result"
    }
   ],
   "source": [
    "var('pi_1')\n",
    "P_1F1 = w_1*(1-gamma)*(1-(pi_1/2))\n",
    "P_1F2 = (w_2/2)*(2*gamma + ((1-gamma)*(pi_1+1)))\n",
    "pi_1_star = solve(P_1F1 == P_1F2, pi_1)\n",
    "pi_1_star"
   ]
  },
  {
   "cell_type": "code",
   "execution_count": 6,
   "id": "ignored-clarity",
   "metadata": {},
   "outputs": [
    {
     "data": {
      "text/plain": [
       "True"
      ]
     },
     "execution_count": 6,
     "metadata": {},
     "output_type": "execute_result"
    }
   ],
   "source": [
    "bool([(2*(gamma - 1)*w_1 + (gamma + 1)*w_2)/((gamma - 1)*w_1 + (gamma - 1)*w_2)] == [(2*(1 - gamma)*w_1 - w_2*(1+gamma))/((1-gamma)*(w_1+w_2))])"
   ]
  },
  {
   "cell_type": "markdown",
   "id": "clear-cooperation",
   "metadata": {},
   "source": [
    "So we find for worker $j$ of type $l$ to be indifferent between the two firms, workers of type $l$ must choose firm 1 with probability:\\\n",
    "$\\pi_1^* = \\frac{2 w_1(1 - \\lambda) + w_2(1+ \\lambda)}{(1 - \\lambda)(w_1 + w_2)}$"
   ]
  },
  {
   "cell_type": "markdown",
   "id": "lyric-causing",
   "metadata": {},
   "source": [
    "#### When Wage 2 is greater\n",
    "Assume wage 2 is greater than wage 1. We use the same approach as above:\n",
    "\n",
    "For a high type worker $i$, the potential payoff from applying to firm 1 (since we assume if worker $j$ is a high type they will apply to firm 2) is:\n",
    "\\begin{aligned}\n",
    "P_i (F_1) &= \\lambda(w_1) + (1-\\lambda)(w_1)\\\\\n",
    "&= w_1\n",
    "\\end{aligned}\n",
    "\n",
    "The payoff from applying to firm 2 (knowing all high type workers will apply to firm 2) is:\n",
    "\\begin{aligned}\n",
    "P_i (F_2) &= \\lambda(\\frac{w_2}{2}) + (1-\\lambda)(w_2)\\\\\n",
    "&= w_2(\\frac{\\lambda}{2} + 1 - \\lambda)\\\\\n",
    "&= w_2(1 - \\frac{\\lambda}{2})\n",
    "\\end{aligned}\n",
    "\n",
    "So for a high type worker to always apply to firm 2 (that is never apply to firm 1) we would need:\n",
    "\\begin{aligned}\n",
    "P_i (F_1) &\\leq P_i (F_2)\\\\\n",
    "w_1 &\\leq w_2(1 - \\frac{\\lambda}{2})\n",
    "\\end{aligned}\n",
    "\n",
    "If a low type worker also always applied to firm 2, then the payoff of a low type worker $j$ applying to firm 2 would be:\n",
    "\\begin{aligned}\n",
    "P_j (F_2) &= \\lambda (0) + (1-\\lambda)(\\frac{w_2}{2})\\\\\n",
    "&= (1-\\lambda)(\\frac{w_2}{2})\\\\\n",
    "&= w_2 \\frac{1-\\lambda}{2}\\\\\n",
    "\\end{aligned}\n",
    "\n",
    "And deviating and applying to firm 1 would be:\n",
    "\\begin{aligned}\n",
    "P_j (F_1) &= \\lambda (w_1) + (1-\\lambda)w_1\\\\\n",
    "&= w_1\n",
    "\\end{aligned}\n",
    "\n",
    "So for a low type worker to **not** always apply to firm 2 we would need:\n",
    "\\begin{aligned}\n",
    "P_j (F_1) &\\geq P_j (F_2)\\\\\n",
    "w_1 &\\geq w_2 \\frac{1-\\lambda}{2}\n",
    "\\end{aligned}\n",
    "\n",
    "Thus, assuming $w_1 \\leq w_2(1 - \\frac{\\lambda}{2})$ and $w_1 \\geq w_2 \\frac{1-\\lambda}{2}$, we can assume a low type worker would apply to firm 1 with probability $\\pi_2$.\n",
    "\n",
    "If worker $i$ is a high type, then low type worker $j$'s expected profit of applying to firm 1 would be:\n",
    "\\begin{aligned}\n",
    "P_j (F_1, t_i = h) &= w_1\n",
    "\\end{aligned}\n",
    "\n",
    "If worker $i$ is a low type, then worker $j$'s expected profit of applying to firm 1 would be:\n",
    "\\begin{aligned}\n",
    "P_j (F_1, t_i = l) &= \\pi_2(\\frac{w_1}{2}) + (1-\\pi_2)(w_1)\\\\\n",
    "&= w_1(\\frac{\\pi_2}{2} + 1 - \\pi_2)\\\\\n",
    "&= w_1(1 - \\frac{\\pi_2}{2})\n",
    "\\end{aligned}\n",
    "\n",
    "Then the expected payoff for worker $j$ in **applying to firm 1** would be:\n",
    "\\begin{aligned}\n",
    "P_j(F_1) &= \\lambda P_j (F_1, t_i = h) + (1-\\lambda)P_j (F_1, t_i = l)\\\\\n",
    "&= \\lambda \\{w_1\\} + (1-\\lambda)\\{w_1(1 - \\frac{\\pi_2}{2})\\}\\\\\n",
    "&= w_1\\{\\lambda + (1-\\lambda)(1 - \\frac{\\pi_2}{2})\\}\n",
    "\\end{aligned}\n",
    "\n",
    "If worker $i$ is a high type, then worker $j$'s expected profit of applying to firm 2 would be:\n",
    "\\begin{aligned}\n",
    "P_j (F_2, t_i = h) &= 0\n",
    "\\end{aligned}\n",
    "\n",
    "If worker $i$ is a low type, then worker $j$'s expected profit of applying to firm 2 would be:\n",
    "\\begin{aligned}\n",
    "P_j (F_2, t_i = l) &= \\pi_2(w_2) + (1-\\pi_2)(\\frac{w_2}{2})\\\\\n",
    "&= w_2(\\pi_2 + \\frac{1-\\pi_2}{2})\\\\\n",
    "&= w_2\\frac{2\\pi_2 + 1 - pi_2}{2}\\\\\n",
    "&= \\frac{w_2}{2}(1 + \\pi_2)\n",
    "\\end{aligned}\n",
    "\n",
    "Then the expected payoff for worker $j$ in **applying to firm 2** would be:\n",
    "\\begin{aligned}\n",
    "P_j(F_2) &= \\lambda P_j (F_2, t_i = h) + (1-\\lambda)P_j (F_2, t_i = l)\\\\\n",
    "&= \\lambda \\{0\\} + (1-\\lambda)\\{\\frac{w_2}{2}(1 + \\pi_2)\\}\\\\\n",
    "&= (1-\\lambda)\\{\\frac{w_2}{2}(1 + \\pi_2)\\}\\\\\n",
    "&= \\frac{w_2}{2}\\{(1-\\lambda)(1 + \\pi_2)\\}\n",
    "\\end{aligned}\n",
    "\n",
    "So in order for a low-type worker, $j$, to be indifferent between the two firms we must have:\n",
    "\\begin{aligned}\n",
    "P_j(F_1) &= P_j(F_2)\\\\\n",
    "w_1\\{\\lambda + (1-\\lambda)(1 - \\frac{\\pi_2}{2})\\} &= \\frac{w_2}{2}\\{(1-\\lambda)(1 + \\pi_2)\\}\n",
    "\\end{aligned}"
   ]
  },
  {
   "cell_type": "code",
   "execution_count": 7,
   "id": "confidential-integrity",
   "metadata": {},
   "outputs": [
    {
     "data": {
      "text/plain": [
       "[pi_2 == -((gamma - 1)*w_2 + 2*w_1)/((gamma - 1)*w_1 + (gamma - 1)*w_2)]"
      ]
     },
     "execution_count": 7,
     "metadata": {},
     "output_type": "execute_result"
    }
   ],
   "source": [
    "var('pi_2')\n",
    "P_2F1 = w_1*(gamma + ((1-gamma)*(1-(pi_2/2))))\n",
    "P_2F2 = (w_2/2)*((1-gamma)*(1+pi_2))\n",
    "pi_2_star = solve(P_2F1 == P_2F2, pi_2)\n",
    "pi_2_star"
   ]
  },
  {
   "cell_type": "markdown",
   "id": "funky-selling",
   "metadata": {},
   "source": [
    "So we find for worker $j$ of type $l$ to be indifferent between the two firms, workers of type $l$ must choose firm 1 with probability:\\\n",
    "$\\pi_2^* = \\frac{2 w_1 - w_2(1-\\lambda)}{(1-\\lambda)(w_1+w_2)}$"
   ]
  },
  {
   "cell_type": "markdown",
   "id": "matched-shark",
   "metadata": {},
   "source": [
    "We now have four equations and four unknowns, so we can simultaneously solve them all:"
   ]
  },
  {
   "cell_type": "code",
   "execution_count": 8,
   "id": "interim-broadcast",
   "metadata": {},
   "outputs": [
    {
     "data": {
      "text/html": [
       "<html><script type=\"math/tex; mode=display\">\\newcommand{\\Bold}[1]{\\mathbf{#1}}\\left[\\left[\\pi_{1} = \\frac{2 \\, {\\left(\\gamma - 1\\right)} w_{1} + {\\left(\\gamma + 1\\right)} w_{2}}{{\\left(\\gamma - 1\\right)} w_{1} + {\\left(\\gamma - 1\\right)} w_{2}}, \\pi_{2} = -\\frac{{\\left(\\gamma - 1\\right)} w_{2} + 2 \\, w_{1}}{{\\left(\\gamma - 1\\right)} w_{1} + {\\left(\\gamma - 1\\right)} w_{2}}, \\pi_{h} = \\frac{{\\left(\\gamma - 2\\right)} w_{2} + 2 \\, w_{1}}{\\gamma w_{1} + \\gamma w_{2}}, \\pi_{l} = \\frac{{\\left(\\gamma - 3\\right)} w_{2} + 2 \\, w_{1}}{{\\left(\\gamma - 1\\right)} w_{1} + {\\left(\\gamma - 1\\right)} w_{2}}\\right]\\right]</script></html>"
      ],
      "text/latex": [
       "\\begin{math}\n",
       "\\newcommand{\\Bold}[1]{\\mathbf{#1}}\\left[\\left[\\pi_{1} = \\frac{2 \\, {\\left(\\gamma - 1\\right)} w_{1} + {\\left(\\gamma + 1\\right)} w_{2}}{{\\left(\\gamma - 1\\right)} w_{1} + {\\left(\\gamma - 1\\right)} w_{2}}, \\pi_{2} = -\\frac{{\\left(\\gamma - 1\\right)} w_{2} + 2 \\, w_{1}}{{\\left(\\gamma - 1\\right)} w_{1} + {\\left(\\gamma - 1\\right)} w_{2}}, \\pi_{h} = \\frac{{\\left(\\gamma - 2\\right)} w_{2} + 2 \\, w_{1}}{\\gamma w_{1} + \\gamma w_{2}}, \\pi_{l} = \\frac{{\\left(\\gamma - 3\\right)} w_{2} + 2 \\, w_{1}}{{\\left(\\gamma - 1\\right)} w_{1} + {\\left(\\gamma - 1\\right)} w_{2}}\\right]\\right]\n",
       "\\end{math}"
      ],
      "text/plain": [
       "[[pi_1 == (2*(gamma - 1)*w_1 + (gamma + 1)*w_2)/((gamma - 1)*w_1 + (gamma - 1)*w_2), pi_2 == -((gamma - 1)*w_2 + 2*w_1)/((gamma - 1)*w_1 + (gamma - 1)*w_2), pi_h == ((gamma - 2)*w_2 + 2*w_1)/(gamma*w_1 + gamma*w_2), pi_l == ((gamma - 3)*w_2 + 2*w_1)/((gamma - 1)*w_1 + (gamma - 1)*w_2)]]"
      ]
     },
     "metadata": {},
     "output_type": "display_data"
    }
   ],
   "source": [
    "sol = solve((P_1F1 == P_1F2, P_2F1 == P_2F2, PHF1 == PHF2, PLF1 == PLF2), (pi_1, pi_2, pi_h, pi_l))\n",
    "show(sol)"
   ]
  },
  {
   "cell_type": "code",
   "execution_count": 9,
   "id": "rubber-north",
   "metadata": {},
   "outputs": [],
   "source": [
    "pi_1_s = sol[0][0].rhs()\n",
    "pi_2_s = sol[0][1].rhs()\n",
    "pi_h_s = sol[0][2].rhs()\n",
    "pi_l_s = sol[0][3].rhs()"
   ]
  },
  {
   "cell_type": "markdown",
   "id": "interim-model",
   "metadata": {},
   "source": [
    "### Strategy Rules\n",
    "Using all of these equations we can now write out the strategy rules for each type of worker.\n",
    "\n",
    "**high type worker:**\\\n",
    "$\\begin{equation}\n",
    "  \\pi_h(w_1, w_2)=\\left\\{\n",
    "  \\begin{array}{@{}ll@{}}\n",
    "    1 & \\text{if } \\lambda\\frac{w_1}{2}+(1-\\lambda)w_1\\ge w_2\\\\\n",
    "    \\frac{{\\left(\\lambda - 2\\right)} w_{2} + 2 \\, w_{1}}{\\lambda (w_{1} + w_{2})} & \\text{if } w_1>w_2; \\lambda\\frac{w_1}{2}+(1-\\lambda)w_1\\le w_2 \\text{ or } w_2>w_1; \\lambda\\frac{w_2}{2}+(1-\\lambda)w_2\\le w_1\\\\\n",
    "    0 & \\text{if } w_1 < \\lambda\\frac{w_2}{2}+(1-\\lambda)w_2\\\\\n",
    "  \\end{array}\\right.\n",
    "\\end{equation}$\n",
    "\n",
    "**low type worker:**\\\n",
    "$\\begin{equation}\n",
    "  \\pi_l(w_1, w_2)=\\left\\{\n",
    "  \\begin{array}{@{}ll@{}}\n",
    "    \\frac{2 w_1(\\lambda - 1) - w_2(1 + \\lambda)}{(1-\\lambda)(w_1 + w_2)} & \\text{if } \\lambda\\frac{w_1}{2}+(1-\\lambda)w_1\\ge w_2 \\\\\n",
    "    \\frac{(3-\\lambda)w_2-2w_1}{(1-\\lambda)(w_1+w_2)} & \\text{if } w_1>w_2; \\lambda\\frac{w_1}{2}+(1-\\lambda)w_1\\le w_2 \\text{ or } w_2>w_1; \\lambda\\frac{w_2}{2}+(1-\\lambda)w_2\\le w_1 \\\\\n",
    "    \\frac{2 w_1 - w_2(1-\\lambda)}{(1-\\lambda)(w_1 + w_2)} & \\text{if } w_1 < \\lambda\\frac{w_2}{2}+(1-\\lambda)w_2\\\\\n",
    "  \\end{array}\\right.\n",
    "\\end{equation}$"
   ]
  },
  {
   "cell_type": "markdown",
   "id": "extraordinary-lesson",
   "metadata": {},
   "source": [
    "### Profit Functions\n",
    "\n",
    "#### High Type\n",
    "**Applying to Firm 1**\n",
    "\\begin{aligned}\n",
    "\\Pi_h(F_1) &= \\lambda \\{\\pi_h (\\frac{w_1}{2}) + (1-\\pi_h)(w_1)\\} + (1-\\lambda) \\{\\pi_l (w_1) + (1-\\pi_l)(w_1)\\\\\n",
    "&= \\lambda \\{\\pi_h (\\frac{w_1}{2}) + (1-\\pi_h)(w_1)\\} + (1-\\lambda)(w_1)\\\\\n",
    "&= w_1 \\{\\lambda \\{(\\frac{\\pi_h}{2}) + 1-\\pi_h)\\} + (1-\\lambda)\\}\\\\\n",
    "&= w_1 \\{\\lambda (1 -\\frac{\\pi_h}{2}) + 1 - \\lambda \\}\\\\\n",
    "&= w_1 \\{\\lambda (1 -\\frac{\\pi_h}{2} - 1) + 1\\}\\\\\n",
    "&= w_1 \\{1 - \\lambda (\\frac{\\pi_h}{2})\\}\n",
    "\\end{aligned}\n",
    "\n",
    "**Applying to Firm 2**\n",
    "\\begin{aligned}\n",
    "\\Pi_h(F_2) &= \\lambda \\{\\pi_h (w_2) + (1-\\pi_h)\\frac{w_2}{2}\\} + (1-\\lambda)(w_2)\\\\\n",
    "&= w_2 \\{\\lambda (\\pi_h + \\frac{1-\\pi_h}{2}) + (1-\\lambda)\\}\\\\\n",
    "&= w_2 \\{\\frac{\\lambda}{2}(\\pi_h + 1) + 1 - \\lambda\\}\\\\\n",
    "&= \\frac{w_2}{2}\\{\\lambda \\pi_h + \\lambda - 2\\lambda + 2\\}\\\\\n",
    "&= \\frac{w_2}{2}\\{\\lambda(\\pi_h - 1) + 2\\}\\\\\n",
    "&= w_2\\{\\lambda \\frac{\\pi_h - 1}{2} + 1\\}\n",
    "\\end{aligned}\n",
    "\n",
    "#### Low Type\n",
    "**Applying to Firm 1**\n",
    "\\begin{aligned}\n",
    "\\Pi_l(F_1) &= \\lambda \\{\\pi_h (0) + (1-\\pi_h)(w_1)\\} + (1-\\lambda) \\{\\pi_l (\\frac{w_1}{2}) + (1-\\pi_l)(w_1)\\}\\\\\n",
    "&= \\lambda \\{(1-\\pi_h)(w_1)\\} + (1-\\lambda) \\{\\pi_l (\\frac{w_1}{2}) + (1-\\pi_l)(w_1)\\}\\\\\n",
    "&= w_1 \\{\\lambda (1-\\pi_h) + (1-\\lambda) \\{(\\frac{\\pi_l}{2}) + (1-\\pi_l))\\}\\}\\\\\n",
    "&= w_1 \\{\\lambda (1-\\pi_h) + (1-\\lambda) (1 - \\frac{\\pi_l}{2}) \\}\n",
    "\\end{aligned}\n",
    "\n",
    "**Applying to Firm 2**\n",
    "\\begin{aligned}\n",
    "\\Pi_l(F_2) &= \\lambda \\{\\pi_h (w_2) + (1-\\pi_h)(0)\\} + (1-\\lambda) \\{\\pi_l (w_2) + (1-\\pi_l)\\frac{w_2}{2}\\}\\\\\n",
    "&= w_2 \\{\\lambda \\pi_h + (1-\\lambda)(\\pi_l + \\frac{1-\\pi_l}{2})\\}\\\\\n",
    "&= w_2 \\{\\lambda \\pi_h + (1-\\lambda)(2 \\pi_l + 1 - \\pi_l)\\frac{1}{2})\\}\\\\\n",
    "&= w_2 \\{\\lambda \\pi_h + (1-\\lambda)(1 + \\pi_l)\\frac{1}{2})\\}\\\\\n",
    "&= w_2 \\{\\lambda \\pi_h + (1-\\lambda)\\frac{1 + \\pi_l}{2})\\}\n",
    "\\end{aligned}\n",
    "\n",
    "With these general profit functions we can now calculate each worker-type's expected profit dependent on the relation of $w_1$ and $w_2$."
   ]
  },
  {
   "cell_type": "markdown",
   "id": "casual-integrity",
   "metadata": {},
   "source": [
    "We can now check and make sure our found values of $\\pi_i, i = \\{1, 2, h, l\\}$ are behaving as expected."
   ]
  },
  {
   "cell_type": "code",
   "execution_count": 10,
   "id": "behavioral-equivalent",
   "metadata": {},
   "outputs": [],
   "source": [
    "Profit_h_F1 = w_1*(1-(gamma * (pi_h/2)))\n",
    "Profit_h_F2 = w_2*(gamma*((pi_h - 1)/2) + 1)\n",
    "Profit_l_F1 = w_1*((gamma*(1-pi_h)) + ((1-gamma)*(1-(pi_l/2))))\n",
    "Profit_l_F2 = w_2*((gamma*pi_h) + ((1-gamma)*((1+pi_l)/2)))"
   ]
  },
  {
   "cell_type": "code",
   "execution_count": 11,
   "id": "voluntary-trouble",
   "metadata": {},
   "outputs": [
    {
     "data": {
      "text/plain": [
       "-1/2*(((gamma - 2)*w_2 + 2*w_1)*gamma/(gamma*w_1 + gamma*w_2) - 2)*w_1"
      ]
     },
     "execution_count": 11,
     "metadata": {},
     "output_type": "execute_result"
    }
   ],
   "source": [
    "Profit_h_F1.subs(pi_h == pi_h_s)"
   ]
  },
  {
   "cell_type": "code",
   "execution_count": 12,
   "id": "crucial-cooler",
   "metadata": {},
   "outputs": [
    {
     "data": {
      "text/plain": [
       "1/2*(gamma*(((gamma - 2)*w_2 + 2*w_1)/(gamma*w_1 + gamma*w_2) - 1) + 2)*w_2"
      ]
     },
     "execution_count": 12,
     "metadata": {},
     "output_type": "execute_result"
    }
   ],
   "source": [
    "Profit_h_F2.subs(pi_h == pi_h_s)"
   ]
  },
  {
   "cell_type": "code",
   "execution_count": 13,
   "id": "educational-perth",
   "metadata": {},
   "outputs": [
    {
     "data": {
      "text/plain": [
       "True"
      ]
     },
     "execution_count": 13,
     "metadata": {},
     "output_type": "execute_result"
    }
   ],
   "source": [
    "bool([-1/2*(((gamma - 2)*w_2 + 2*w_1)*gamma/(gamma*w_1 + gamma*w_2) - 2)*w_1]==[1/2*(gamma*(((gamma - 2)*w_2 + 2*w_1)/(gamma*w_1 + gamma*w_2) - 1) + 2)*w_2])"
   ]
  },
  {
   "cell_type": "code",
   "execution_count": 14,
   "id": "interim-horror",
   "metadata": {},
   "outputs": [
    {
     "data": {
      "text/plain": [
       "-1/2*(2*gamma*(((gamma - 2)*w_2 + 2*w_1)/(gamma*w_1 + gamma*w_2) - 1) - (gamma - 1)*(((gamma - 3)*w_2 + 2*w_1)/((gamma - 1)*w_1 + (gamma - 1)*w_2) - 2))*w_1"
      ]
     },
     "execution_count": 14,
     "metadata": {},
     "output_type": "execute_result"
    }
   ],
   "source": [
    "Profit_l_F1.subs(pi_h == pi_h_s, pi_l == pi_l_s)"
   ]
  },
  {
   "cell_type": "code",
   "execution_count": 15,
   "id": "surgical-privacy",
   "metadata": {},
   "outputs": [
    {
     "data": {
      "text/plain": [
       "-1/2*((gamma - 1)*(((gamma - 3)*w_2 + 2*w_1)/((gamma - 1)*w_1 + (gamma - 1)*w_2) + 1) - 2*((gamma - 2)*w_2 + 2*w_1)*gamma/(gamma*w_1 + gamma*w_2))*w_2"
      ]
     },
     "execution_count": 15,
     "metadata": {},
     "output_type": "execute_result"
    }
   ],
   "source": [
    "Profit_l_F2.subs(pi_h == pi_h_s, pi_l == pi_l_s)"
   ]
  },
  {
   "cell_type": "code",
   "execution_count": 16,
   "id": "worldwide-airline",
   "metadata": {},
   "outputs": [
    {
     "data": {
      "text/plain": [
       "True"
      ]
     },
     "execution_count": 16,
     "metadata": {},
     "output_type": "execute_result"
    }
   ],
   "source": [
    "bool([-1/2*(2*gamma*(((gamma - 2)*w_2 + 2*w_1)/(gamma*w_1 + gamma*w_2) - 1) - (gamma - 1)*(((gamma - 3)*w_2 + 2*w_1)/((gamma - 1)*w_1 + (gamma - 1)*w_2) - 2))*w_1]==[-1/2*((gamma - 1)*(((gamma - 3)*w_2 + 2*w_1)/((gamma - 1)*w_1 + (gamma - 1)*w_2) + 1) - 2*((gamma - 2)*w_2 + 2*w_1)*gamma/(gamma*w_1 + gamma*w_2))*w_2])"
   ]
  },
  {
   "cell_type": "code",
   "execution_count": 17,
   "id": "developing-connecticut",
   "metadata": {},
   "outputs": [
    {
     "data": {
      "text/plain": [
       "-1/2*(gamma - 2)*w_1"
      ]
     },
     "execution_count": 17,
     "metadata": {},
     "output_type": "execute_result"
    }
   ],
   "source": [
    "Profit_h_F1.subs(pi_h == 1)"
   ]
  },
  {
   "cell_type": "code",
   "execution_count": 18,
   "id": "biological-farming",
   "metadata": {},
   "outputs": [
    {
     "data": {
      "text/plain": [
       "w_2"
      ]
     },
     "execution_count": 18,
     "metadata": {},
     "output_type": "execute_result"
    }
   ],
   "source": [
    "Profit_h_F2.subs(pi_h == 1)"
   ]
  },
  {
   "cell_type": "code",
   "execution_count": 19,
   "id": "forbidden-optimization",
   "metadata": {},
   "outputs": [
    {
     "data": {
      "text/plain": [
       "w_1"
      ]
     },
     "execution_count": 19,
     "metadata": {},
     "output_type": "execute_result"
    }
   ],
   "source": [
    "Profit_h_F1.subs(pi_h == 0)"
   ]
  },
  {
   "cell_type": "code",
   "execution_count": 20,
   "id": "intelligent-maryland",
   "metadata": {},
   "outputs": [
    {
     "data": {
      "text/plain": [
       "-1/2*(gamma - 2)*w_2"
      ]
     },
     "execution_count": 20,
     "metadata": {},
     "output_type": "execute_result"
    }
   ],
   "source": [
    "Profit_h_F2.subs(pi_h == 0)"
   ]
  },
  {
   "cell_type": "code",
   "execution_count": 21,
   "id": "prompt-median",
   "metadata": {},
   "outputs": [
    {
     "data": {
      "text/plain": [
       "1/2*(gamma - 1)*w_1*((2*(gamma - 1)*w_1 + (gamma + 1)*w_2)/((gamma - 1)*w_1 + (gamma - 1)*w_2) - 2)"
      ]
     },
     "execution_count": 21,
     "metadata": {},
     "output_type": "execute_result"
    }
   ],
   "source": [
    "Profit_l_F1.subs(pi_h == 1, pi_l == pi_1_s)"
   ]
  },
  {
   "cell_type": "code",
   "execution_count": 22,
   "id": "urban-terminology",
   "metadata": {},
   "outputs": [
    {
     "data": {
      "text/plain": [
       "-1/2*((gamma - 1)*((2*(gamma - 1)*w_1 + (gamma + 1)*w_2)/((gamma - 1)*w_1 + (gamma - 1)*w_2) + 1) - 2*gamma)*w_2"
      ]
     },
     "execution_count": 22,
     "metadata": {},
     "output_type": "execute_result"
    }
   ],
   "source": [
    "Profit_l_F2.subs(pi_h == 1, pi_l == pi_1_s)"
   ]
  },
  {
   "cell_type": "code",
   "execution_count": 23,
   "id": "invalid-peter",
   "metadata": {},
   "outputs": [
    {
     "data": {
      "text/plain": [
       "True"
      ]
     },
     "execution_count": 23,
     "metadata": {},
     "output_type": "execute_result"
    }
   ],
   "source": [
    "bool([1/2*(gamma - 1)*w_1*((2*(gamma - 1)*w_1 + (gamma + 1)*w_2)/((gamma - 1)*w_1 + (gamma - 1)*w_2) - 2)]==[-1/2*((gamma - 1)*((2*(gamma - 1)*w_1 + (gamma + 1)*w_2)/((gamma - 1)*w_1 + (gamma - 1)*w_2) + 1) - 2*gamma)*w_2])"
   ]
  },
  {
   "cell_type": "code",
   "execution_count": 24,
   "id": "civilian-pregnancy",
   "metadata": {},
   "outputs": [
    {
     "data": {
      "text/plain": [
       "-1/2*((gamma - 1)*(((gamma - 1)*w_2 + 2*w_1)/((gamma - 1)*w_1 + (gamma - 1)*w_2) + 2) - 2*gamma)*w_1"
      ]
     },
     "execution_count": 24,
     "metadata": {},
     "output_type": "execute_result"
    }
   ],
   "source": [
    "Profit_l_F1.subs(pi_h == 0, pi_l == pi_2_s)"
   ]
  },
  {
   "cell_type": "code",
   "execution_count": 25,
   "id": "sunset-dialogue",
   "metadata": {},
   "outputs": [
    {
     "data": {
      "text/plain": [
       "1/2*(gamma - 1)*w_2*(((gamma - 1)*w_2 + 2*w_1)/((gamma - 1)*w_1 + (gamma - 1)*w_2) - 1)"
      ]
     },
     "execution_count": 25,
     "metadata": {},
     "output_type": "execute_result"
    }
   ],
   "source": [
    "Profit_l_F2.subs(pi_h == 0, pi_l == pi_2_s)"
   ]
  },
  {
   "cell_type": "code",
   "execution_count": 26,
   "id": "completed-grade",
   "metadata": {},
   "outputs": [
    {
     "data": {
      "text/plain": [
       "True"
      ]
     },
     "execution_count": 26,
     "metadata": {},
     "output_type": "execute_result"
    }
   ],
   "source": [
    "bool([-1/2*((gamma - 1)*(((gamma - 1)*w_2 + 2*w_1)/((gamma - 1)*w_1 + (gamma - 1)*w_2) + 2) - 2*gamma)*w_1]==[1/2*(gamma - 1)*w_2*(((gamma - 1)*w_2 + 2*w_1)/((gamma - 1)*w_1 + (gamma - 1)*w_2) - 1)])"
   ]
  },
  {
   "cell_type": "code",
   "execution_count": 27,
   "id": "massive-maine",
   "metadata": {},
   "outputs": [
    {
     "data": {
      "text/plain": [
       "True"
      ]
     },
     "execution_count": 27,
     "metadata": {},
     "output_type": "execute_result"
    }
   ],
   "source": [
    "bool([1/2*(gamma - 1)*w_1*((2*(gamma - 1)*w_1 + (gamma + 1)*w_2)/((gamma - 1)*w_1 + (gamma - 1)*w_2) - 2)] == [-1/2*((gamma - 1)*(((gamma - 1)*w_2 + 2*w_1)/((gamma - 1)*w_1 + (gamma - 1)*w_2) + 2) - 2*gamma)*w_1])"
   ]
  },
  {
   "cell_type": "markdown",
   "id": "ecological-luxembourg",
   "metadata": {},
   "source": [
    "So our profit functions are behaving as expected. We now can solve these profit functions using our found values, $\\pi_i$."
   ]
  },
  {
   "cell_type": "markdown",
   "id": "honest-pasta",
   "metadata": {},
   "source": [
    "For notation purposes, I will refer to each of the possible scenarios as follows:\n",
    "\n",
    "**Scenario A**\n",
    "\\begin{aligned}\n",
    "&\\lambda\\frac{w_1}{2}+(1-\\lambda)w_1\\ge w_2\\\\\n",
    "&W_h: \\pi_h = 1\\\\\n",
    "&W_l: \\pi_l = \\frac{2 w_1(\\lambda - 1) - w_2(1+\\lambda)}{(1-\\lambda)(w_1 + w_2)}\n",
    "\\end{aligned}\n",
    "\n",
    "**Scenario B**\n",
    "\\begin{aligned}\n",
    "&w_1>w_2; \\lambda\\frac{w_1}{2}+(1-\\lambda)w_1\\le w_2\\\\\n",
    "&\\text{or}\\\\\n",
    "&w_2>w_1; \\lambda\\frac{w_2}{2}+(1-\\lambda)w_2\\le w_1\\\\\n",
    "&W_h: \\pi_h = \\frac{{\\left(\\lambda - 2\\right)} w_{2} + 2 \\, w_{1}}{\\lambda (w_{1} + w_{2})}\\\\\n",
    "&W_l: \\pi_l = \\frac{(3-\\lambda)w_2-2w_1}{(1-\\lambda)(w_1+w_2)}\n",
    "\\end{aligned}\n",
    "\n",
    "**Scenario C**\n",
    "\\begin{aligned}\n",
    "&w_1 < \\lambda\\frac{w_2}{2}+(1-\\lambda)w_2\\\\\n",
    "&W_h: \\pi_h = 0\\\\\n",
    "&W_l: \\pi_l = \\frac{2 w_1 - w_2(1-\\lambda)}{(1-\\lambda)(w_1 + w_2)}\n",
    "\\end{aligned}"
   ]
  },
  {
   "cell_type": "code",
   "execution_count": 28,
   "id": "unnecessary-wilson",
   "metadata": {},
   "outputs": [],
   "source": [
    "Prof_h_a = Profit_h_F1.subs(pi_h == 1)\n",
    "Prof_h_b = Profit_h_F1.subs(pi_h == pi_h_s)\n",
    "Prof_h_c = Profit_h_F1.subs(pi_h == 0)\n",
    "Prof_l_a = Profit_l_F1.subs(pi_h == 1, pi_l == pi_1_s)\n",
    "Prof_l_b = Profit_l_F1.subs(pi_h == pi_h_s, pi_l == pi_l_s)\n",
    "Prof_l_c = Profit_l_F1.subs(pi_h == 0, pi_l == pi_2_s)"
   ]
  },
  {
   "cell_type": "markdown",
   "id": "cloudy-mixer",
   "metadata": {},
   "source": [
    "So we can now write out the expected profits for each worker type.\n",
    "\n",
    "**high type worker:**\\\n",
    "$\\begin{equation}\n",
    "  \\pi_h(w_1, w_2)=\\left\\{\n",
    "  \\begin{array}{@{}ll@{}}\n",
    "    w_1(1 - \\frac{\\lambda}{2}) & \\text{if } \\lambda\\frac{w_1}{2}+(1-\\lambda)w_1\\ge w_2\\\\\n",
    "    w_2 \\frac{w_1(4-\\lambda)}{2(w_1+w_2)} & \\text{if } w_1>w_2; \\lambda\\frac{w_1}{2}+(1-\\lambda)w_1\\le w_2 \\text{ or } w_2>w_1; \\lambda\\frac{w_2}{2}+(1-\\lambda)w_2\\le w_1\\\\\n",
    "    w_2(1 - \\frac{\\lambda}{2}) & \\text{if } w_1 < \\lambda\\frac{w_2}{2}+(1-\\lambda)w_2\\\\\n",
    "  \\end{array}\\right.\n",
    "\\end{equation}$\n",
    "\n",
    "**low type worker:**\\\n",
    "$\\begin{equation}\n",
    "  \\pi_l(w_1, w_2)=\\left\\{\n",
    "  \\begin{array}{@{}ll@{}}\n",
    "    w_1\\frac{w_2(3-\\lambda)}{2(w_1 + w_2)} & \\text{if } \\lambda\\frac{w_1}{2}+(1-\\lambda)w_1\\ge w_2 \\\\\n",
    "    w_1\\frac{w_2(3-\\lambda)}{2(w_1+w_2)} & \\text{if } w_1>w_2; \\lambda\\frac{w_1}{2}+(1-\\lambda)w_1\\le w_2 \\text{ or } w_2>w_1; \\lambda\\frac{w_2}{2}+(1-\\lambda)w_2\\le w_1 \\\\\n",
    "    w_2\\frac{w_1(3-\\lambda)}{2(w_1+w_2)} & \\text{if } w_1 < \\lambda\\frac{w_2}{2}+(1-\\lambda)w_2\\\\\n",
    "  \\end{array}\\right.\n",
    "\\end{equation}$"
   ]
  },
  {
   "cell_type": "markdown",
   "id": "middle-jacob",
   "metadata": {},
   "source": [
    "## Plotting the Functions"
   ]
  },
  {
   "cell_type": "markdown",
   "id": "eligible-amount",
   "metadata": {},
   "source": [
    "We can set the main function (that is, when there is only a small difference between the two wages) and then use the max_symbolic argument to set the boundaries when the wages become too different.\n",
    "\n",
    "Let's try setting some values for $\\lambda$, $w_1$, and $w_2$.\\\n",
    "First we will fix $\\lambda = 0.4$, and $w_2 = 0.5$\\\n",
    "Then we vary the value of $w_1$ from 0 to 1 to satisfy the various scenario ranges."
   ]
  },
  {
   "cell_type": "markdown",
   "id": "accessible-purse",
   "metadata": {},
   "source": [
    "#### High Type, Strategy Function"
   ]
  },
  {
   "cell_type": "code",
   "execution_count": 29,
   "id": "novel-corner",
   "metadata": {},
   "outputs": [
    {
     "data": {
      "image/png": "[encoded data removed]",
      "text/plain": [
       "Graphics object consisting of 1 graphics primitive"
      ]
     },
     "metadata": {},
     "output_type": "display_data"
    }
   ],
   "source": [
    "strat_h = pi_h_s.subs(gamma == 0.4, w_2 == 0.5)\n",
    "Prob_h = max_symbolic(0, min_symbolic(strat_h, 1))\n",
    "show(plot(Prob_h, 0, 1, figsize=[4,2], color=(1,.5,0) ) )"
   ]
  },
  {
   "cell_type": "markdown",
   "id": "senior-integrity",
   "metadata": {},
   "source": [
    "#### Low Type, Strategy Function"
   ]
  },
  {
   "cell_type": "code",
   "execution_count": 30,
   "id": "experimental-montana",
   "metadata": {},
   "outputs": [
    {
     "data": {
      "image/png": "[encoded data removed]",
      "text/plain": [
       "Graphics object consisting of 1 graphics primitive"
      ]
     },
     "metadata": {},
     "output_type": "display_data"
    }
   ],
   "source": [
    "strat_l = pi_l_s.subs(gamma == 0.4, w_2 == 0.5)\n",
    "Prob_l = max_symbolic(0, min_symbolic(strat_l, 1))\n",
    "show(plot(Prob_l, 0, 1, figsize=[4,2], color=(0,.5,1) ) )"
   ]
  },
  {
   "cell_type": "markdown",
   "id": "raised-scoop",
   "metadata": {},
   "source": [
    "### Strategy Functions"
   ]
  },
  {
   "cell_type": "code",
   "execution_count": 31,
   "id": "isolated-blood",
   "metadata": {},
   "outputs": [
    {
     "data": {
      "image/png": "[encoded data removed]",
      "text/plain": [
       "Graphics object consisting of 2 graphics primitives"
      ]
     },
     "metadata": {},
     "output_type": "display_data"
    }
   ],
   "source": [
    "Prob_h_plot = (plot(Prob_h, 0, 1, figsize=[6,4], color=(1,.5,0) ) )\n",
    "Prob_l_plot = (plot(Prob_l, 0, 1, figsize=[6,4], color=(0,.5,1) ) )\n",
    "show(Prob_h_plot + Prob_l_plot)"
   ]
  },
  {
   "cell_type": "markdown",
   "id": "synthetic-detroit",
   "metadata": {},
   "source": [
    "As we can see above, the two functions intersect when $w_1 = 0.5$ at $0.5$ as we would expect, given when the wages are equal $\\pi_l = \\pi_h = \\frac{1}{2} = 0.5$ as was shown at the beginning of this project."
   ]
  },
  {
   "cell_type": "markdown",
   "id": "cathedral-supplement",
   "metadata": {},
   "source": [
    "### Payoff Functions"
   ]
  },
  {
   "cell_type": "code",
   "execution_count": 32,
   "id": "appreciated-endorsement",
   "metadata": {},
   "outputs": [],
   "source": [
    "Pay_h = Prof_h_b.subs(gamma == 0.4, w_2 == 0.5)\n",
    "Payoff_h = max_symbolic(0, min_symbolic(Pay_h, 1))"
   ]
  },
  {
   "cell_type": "code",
   "execution_count": 33,
   "id": "historical-situation",
   "metadata": {},
   "outputs": [
    {
     "data": {
      "image/png": "[encoded data removed]",
      "text/plain": [
       "Graphics object consisting of 1 graphics primitive"
      ]
     },
     "metadata": {},
     "output_type": "display_data"
    }
   ],
   "source": [
    "show(plot(Payoff_h, 0, 1, figsize=[4,2], color=(1,.5,0) ) )"
   ]
  },
  {
   "cell_type": "code",
   "execution_count": 34,
   "id": "numerical-edwards",
   "metadata": {},
   "outputs": [],
   "source": [
    "Pay_l = Prof_l_b.subs(gamma == 0.4, w_2 == 0.5)\n",
    "Payoff_l = max_symbolic(0, min_symbolic(Pay_l, 1))"
   ]
  },
  {
   "cell_type": "code",
   "execution_count": 35,
   "id": "ahead-substitute",
   "metadata": {},
   "outputs": [
    {
     "data": {
      "image/png": "[encoded data removed]",
      "text/plain": [
       "Graphics object consisting of 1 graphics primitive"
      ]
     },
     "metadata": {},
     "output_type": "display_data"
    }
   ],
   "source": [
    "show(plot(Payoff_l, 0, 1, figsize=[4,2], color=(0,.5,1) ) )"
   ]
  },
  {
   "cell_type": "code",
   "execution_count": 36,
   "id": "rural-mailing",
   "metadata": {},
   "outputs": [
    {
     "data": {
      "image/png": "[encoded data removed]",
      "text/plain": [
       "Graphics object consisting of 2 graphics primitives"
      ]
     },
     "metadata": {},
     "output_type": "display_data"
    }
   ],
   "source": [
    "Payoff_h_plot = (plot(Payoff_h, 0, 1, figsize=[6,4], color=(1,.5,0) ) )\n",
    "Payoff_l_plot = (plot(Payoff_l, 0, 1, figsize=[6,4], color=(0,.5,1) ) )\n",
    "show(Payoff_h_plot + Payoff_l_plot)"
   ]
  },
  {
   "cell_type": "markdown",
   "id": "seasonal-oxford",
   "metadata": {},
   "source": [
    "## Firm Revenue\n",
    "We now move on to the firm-side of this problem, beginning by establishing the firms' revenue functions, $\\Pi_1, \\Pi_2$.\n",
    "\n",
    "As above, we view the problem as three separate scenarios.\n",
    "\n",
    "**Scenario A**\n",
    "\\begin{aligned}\n",
    "&\\lambda\\frac{w_1}{2}+(1-\\lambda)w_1\\ge w_2\\\\\n",
    "&W_h: \\pi_h = 1\\\\\n",
    "&W_l: \\pi_l = \\frac{(2\\lambda + 1)w_2 - w_1 - 2}{2(w_2 - w_1)}\n",
    "\\end{aligned}\n",
    "\n",
    "**Scenario B**\n",
    "\\begin{aligned}\n",
    "&w_1>w_2; \\lambda\\frac{w_1}{2}+(1-\\lambda)w_1\\le w_2 \\text{ or }\\\\ \n",
    "&w_2>w_1; \\lambda\\frac{w_2}{2}+(1-\\lambda)w_2\\le w_1\\\\\n",
    "&W_h: \\pi_h = \\frac{{\\left(\\lambda - 2\\right)} w_{2} + 2 \\, w_{1}}{\\lambda w_{1} + \\lambda w_{2}}\\\\\n",
    "&W_l: \\pi_l = \\frac{(3-\\lambda)w_2-2w_1}{(1-\\lambda)(w_1+w_2)}\n",
    "\\end{aligned}\n",
    "\n",
    "**Scenario C**\n",
    "\\begin{aligned}\n",
    "&w_1 < \\lambda\\frac{w_2}{2}+(1-\\lambda)w_2\\\\\n",
    "&W_h: \\pi_h = 0\\\\\n",
    "&W_l: \\pi_l = \\frac{(2\\lambda + 1)w_1 - w_2 - 2}{2(w_1 - w_2)}\n",
    "\\end{aligned}"
   ]
  },
  {
   "cell_type": "markdown",
   "id": "identical-plain",
   "metadata": {},
   "source": [
    "Each firm's expected revenue is dependent on what type of worker they hire (if any) and the wage they pay to that worker. We assume low type workers provide the firm with work/effort equal to $Y > 0$, and high type workers provide the firm with work/effor equal to $\\beta Y, \\beta>1$\n",
    "\n",
    "If **firm 1** hires a high type worker, their profit is\\\n",
    "$\\hspace{15pt}\\Pi_1(t=h)=\\beta Y - w_1$\\\n",
    "and if they hire a low type worker their profit is\\\n",
    "$\\hspace{15pt}\\Pi_1(t=l)=Y-w_1$. \n",
    "\n",
    "If **firm 2** hires a high type worker, their profit is\\\n",
    "$\\hspace{15pt}\\Pi_2(t=h)=\\beta Y - w_2$\\\n",
    "and if they hire a low type worker their profit is\\\n",
    "$\\hspace{15pt}\\Pi_2(t=l)=Y-w_2$.\n",
    "\n",
    "If either firm hires no one, their profit is zero:\\\n",
    "$\\hspace{15pt}\\Pi_1(t=none)= \\Pi_2(t=none)=0$"
   ]
  },
  {
   "cell_type": "markdown",
   "id": "departmental-chaos",
   "metadata": {},
   "source": [
    "If two workers of the same type apply to the same firm, the firm chooses each with probability $\\frac{1}{2}$. If two workers of differing types apply, the firm will always hire the high-type worker since $\\Pi_i(t=h)>\\Pi_i(t=l)$.\n",
    "\n",
    "We also assume $Y > w_i$ such that if a firm is given a chance to hire any type of worker, they will always choose to do so."
   ]
  },
  {
   "cell_type": "markdown",
   "id": "downtown-feelings",
   "metadata": {},
   "source": [
    "**Firm 1**\\\n",
    "Probability of hiring a worker:\n",
    "\\begin{aligned}\n",
    "Prob(\\text{at least one hight type worker applies}) = Prob(h) &= \\lambda^2\\{\\pi_h^2 + 2\\pi_h(1-\\pi_h)\\} + 2\\lambda(1-\\lambda)\\{\\pi_h \\pi_l + \\pi_h(1-\\pi_l)\\}\\\\\n",
    "Prob(\\text{only low type workers apply}) = Prob(l) &= (1-\\lambda)^2\\{\\pi_l^2 + 2\\pi_l(1-\\pi_l)\\} + 2\\lambda(1-\\lambda)\\{\\pi_l(1-\\pi_h)\\}\n",
    "\\end{aligned}\n",
    "\n",
    "Revenue of hiring a worker:\n",
    "\\begin{aligned}\n",
    "\\Pi_1 &= Prob(h)\\{Y\\beta - w_1\\} + Prob(l)\\{Y - w_1\\} + Prob(none)\\{0 - 0\\}\\\\\n",
    "&= Prob(h) (Y\\beta-w_1) + Prob(l) (Y-w_1)\n",
    "\\end{aligned}"
   ]
  },
  {
   "cell_type": "code",
   "execution_count": 37,
   "id": "stuffed-aruba",
   "metadata": {},
   "outputs": [],
   "source": [
    "Prob_1_h = ((gamma^2) * (pi_h^2 + (2*pi_h*(1-pi_h)))) + ((2*gamma*(1-gamma))*((pi_h*pi_l) + (pi_h*(1-pi_l))))"
   ]
  },
  {
   "cell_type": "code",
   "execution_count": 38,
   "id": "incorporated-privacy",
   "metadata": {},
   "outputs": [],
   "source": [
    "Prob_1_h_simp = gamma*pi_h*(2-gamma*pi_h)"
   ]
  },
  {
   "cell_type": "code",
   "execution_count": 39,
   "id": "negative-rebel",
   "metadata": {},
   "outputs": [
    {
     "data": {
      "text/plain": [
       "True"
      ]
     },
     "execution_count": 39,
     "metadata": {},
     "output_type": "execute_result"
    }
   ],
   "source": [
    "bool([Prob_1_h]==[gamma*pi_h*(2-gamma*pi_h)])"
   ]
  },
  {
   "cell_type": "code",
   "execution_count": 40,
   "id": "provincial-flash",
   "metadata": {},
   "outputs": [],
   "source": [
    "Prob_1_l = (((1-gamma)^2) * ((pi_l^2) + (2*pi_l*(1-pi_l)))) + ((2*gamma*(1-gamma))*(pi_l*(1-pi_h)))"
   ]
  },
  {
   "cell_type": "code",
   "execution_count": 41,
   "id": "secure-outdoors",
   "metadata": {},
   "outputs": [],
   "source": [
    "Prob_1_l_simp = (1-gamma)*pi_l*((2*(1-gamma*pi_h))+(pi_l*(gamma-1)))"
   ]
  },
  {
   "cell_type": "code",
   "execution_count": 42,
   "id": "diverse-message",
   "metadata": {},
   "outputs": [
    {
     "data": {
      "text/plain": [
       "True"
      ]
     },
     "execution_count": 42,
     "metadata": {},
     "output_type": "execute_result"
    }
   ],
   "source": [
    "bool([Prob_1_l]==[(1-gamma)*pi_l*((2*(1-gamma*pi_h))+(pi_l*(gamma-1)))])"
   ]
  },
  {
   "cell_type": "markdown",
   "id": "assured-burst",
   "metadata": {},
   "source": [
    "So, simplifying the two probabilities, we have:\\\n",
    "\\begin{aligned}\n",
    "Prob_1(h) &= \\lambda \\pi_h (2-\\lambda \\pi_h)\\\\\n",
    "Prob_1(l) &= (1-\\lambda)\\pi_l\\{2(1-\\lambda \\pi_h) + pi_l(\\lambda - 1)\\}\n",
    "\\end{aligned}\n",
    "\n",
    "Using these probabilities, we can now calculate the firm's total expected revenue:"
   ]
  },
  {
   "cell_type": "code",
   "execution_count": 43,
   "id": "composed-uniform",
   "metadata": {},
   "outputs": [
    {
     "data": {
      "text/html": [
       "<html><script type=\"math/tex; mode=display\">\\newcommand{\\Bold}[1]{\\mathbf{#1}}{\\left(2 \\, {\\left(\\pi_{h} {\\left(\\pi_{l} - 1\\right)} - \\pi_{h} \\pi_{l}\\right)} {\\left(\\gamma - 1\\right)} \\gamma - {\\left(2 \\, {\\left(\\pi_{h} - 1\\right)} \\pi_{h} - \\pi_{h}^{2}\\right)} \\gamma^{2}\\right)} {\\left(Y \\beta - w_{1}\\right)} + {\\left(2 \\, {\\left(\\gamma - 1\\right)} \\gamma {\\left(\\pi_{h} - 1\\right)} \\pi_{l} - {\\left(2 \\, {\\left(\\pi_{l} - 1\\right)} \\pi_{l} - \\pi_{l}^{2}\\right)} {\\left(\\gamma - 1\\right)}^{2}\\right)} {\\left(Y - w_{1}\\right)}</script></html>"
      ],
      "text/latex": [
       "\\begin{math}\n",
       "\\newcommand{\\Bold}[1]{\\mathbf{#1}}{\\left(2 \\, {\\left(\\pi_{h} {\\left(\\pi_{l} - 1\\right)} - \\pi_{h} \\pi_{l}\\right)} {\\left(\\gamma - 1\\right)} \\gamma - {\\left(2 \\, {\\left(\\pi_{h} - 1\\right)} \\pi_{h} - \\pi_{h}^{2}\\right)} \\gamma^{2}\\right)} {\\left(Y \\beta - w_{1}\\right)} + {\\left(2 \\, {\\left(\\gamma - 1\\right)} \\gamma {\\left(\\pi_{h} - 1\\right)} \\pi_{l} - {\\left(2 \\, {\\left(\\pi_{l} - 1\\right)} \\pi_{l} - \\pi_{l}^{2}\\right)} {\\left(\\gamma - 1\\right)}^{2}\\right)} {\\left(Y - w_{1}\\right)}\n",
       "\\end{math}"
      ],
      "text/plain": [
       "(2*(pi_h*(pi_l - 1) - pi_h*pi_l)*(gamma - 1)*gamma - (2*(pi_h - 1)*pi_h - pi_h^2)*gamma^2)*(Y*beta - w_1) + (2*(gamma - 1)*gamma*(pi_h - 1)*pi_l - (2*(pi_l - 1)*pi_l - pi_l^2)*(gamma - 1)^2)*(Y - w_1)"
      ]
     },
     "metadata": {},
     "output_type": "display_data"
    }
   ],
   "source": [
    "var('beta, Y')\n",
    "Pi_1 = Prob_1_h*(Y*beta - w_1) + Prob_1_l*(Y - w_1)\n",
    "show(Pi_1)"
   ]
  },
  {
   "cell_type": "markdown",
   "id": "reduced-northwest",
   "metadata": {},
   "source": [
    "**Firm 2**\\\n",
    "Probability of hiring a worker:\n",
    "\\begin{aligned}\n",
    "Prob(\\text{at least one hight type worker applies}) = Prob(h) &= \\lambda^2\\{(1-\\pi_h)^2 + 2\\pi_h(1-\\pi_h)\\} + 2\\lambda(1-\\lambda)\\{(1-\\pi_h)\\pi_l + (1-\\pi_h)(1-\\pi_l)\\}\\\\\n",
    "Prob(\\text{only low type workers apply}) = Prob(l) &= (1-\\lambda)^2 \\{(1-\\pi_l)^2 + 2\\pi_l(1-\\pi_l)\\} + 2\\lambda(1-\\lambda)\\{\\pi_h(1-\\pi_l)\\}\n",
    "\\end{aligned}\n",
    "\n",
    "Revenue of hiring a worker:\n",
    "\\begin{aligned}\n",
    "\\Pi_2 &= Prob(h)\\{Y\\beta - w_2\\} + Prob(l)\\{1 - w_2\\} + Prob(none)\\{0 - 0\\}\\\\\n",
    "&= Prob(h) (Y\\beta-w_2) + Prob(l) (1-w_2)\n",
    "\\end{aligned}"
   ]
  },
  {
   "cell_type": "code",
   "execution_count": 44,
   "id": "furnished-pound",
   "metadata": {},
   "outputs": [],
   "source": [
    "Prob_2_h = ((gamma^2) * ((1-pi_h)^2 + (2*pi_h*(1-pi_h)))) + ((2*gamma*(1-gamma))*(((1-pi_h)*pi_l) + ((1-pi_h)*(1-pi_l))))"
   ]
  },
  {
   "cell_type": "code",
   "execution_count": 45,
   "id": "metropolitan-showcase",
   "metadata": {},
   "outputs": [],
   "source": [
    "Prob_2_h_simp = gamma*(1-pi_h)*(2+(gamma*(pi_h-1)))"
   ]
  },
  {
   "cell_type": "code",
   "execution_count": 46,
   "id": "planned-organ",
   "metadata": {},
   "outputs": [
    {
     "data": {
      "text/plain": [
       "True"
      ]
     },
     "execution_count": 46,
     "metadata": {},
     "output_type": "execute_result"
    }
   ],
   "source": [
    "bool(Prob_2_h == Prob_2_h_simp)"
   ]
  },
  {
   "cell_type": "code",
   "execution_count": 47,
   "id": "primary-stamp",
   "metadata": {},
   "outputs": [],
   "source": [
    "Prob_2_l = (((1-gamma)^2) * (((1-pi_l)^2) + (2*pi_l*(1-pi_l)))) + ((2*gamma*(1-gamma))*(pi_h*(1-pi_l)))"
   ]
  },
  {
   "cell_type": "code",
   "execution_count": 48,
   "id": "residential-webster",
   "metadata": {},
   "outputs": [],
   "source": [
    "Prob_2_l_simp = (1-gamma)*(1-pi_l)*((1-gamma)*(1+pi_l) + (2*gamma*pi_h))"
   ]
  },
  {
   "cell_type": "code",
   "execution_count": 49,
   "id": "exact-beginning",
   "metadata": {},
   "outputs": [
    {
     "data": {
      "text/plain": [
       "True"
      ]
     },
     "execution_count": 49,
     "metadata": {},
     "output_type": "execute_result"
    }
   ],
   "source": [
    "bool(Prob_2_l == Prob_2_l_simp)"
   ]
  },
  {
   "cell_type": "markdown",
   "id": "suburban-vegetable",
   "metadata": {},
   "source": [
    "So, simplifying the two probabilities, we have:\\\n",
    "\\begin{aligned}\n",
    "Prob_2(h) &= \\lambda (1-\\pi_h) (2+\\lambda(\\pi_h-1))\\\\\n",
    "Prob_2(l) &= (1-\\lambda)(1-\\pi_l)((1-\\lambda)(1+\\pi_l) + 2 \\lambda \\pi_h)\n",
    "\\end{aligned}\n",
    "\n",
    "Using these probabilities, we can now calculate the firm's total expected revenue:"
   ]
  },
  {
   "cell_type": "code",
   "execution_count": 50,
   "id": "british-account",
   "metadata": {},
   "outputs": [
    {
     "data": {
      "text/html": [
       "<html><script type=\"math/tex; mode=display\">\\newcommand{\\Bold}[1]{\\mathbf{#1}}-{\\left(Y \\beta - w_{2}\\right)} {\\left(\\gamma {\\left(\\pi_{h} - 1\\right)} + 2\\right)} \\gamma {\\left(\\pi_{h} - 1\\right)} + {\\left(2 \\, \\gamma \\pi_{h} - {\\left(\\gamma - 1\\right)} {\\left(\\pi_{l} + 1\\right)}\\right)} {\\left(Y - w_{2}\\right)} {\\left(\\gamma - 1\\right)} {\\left(\\pi_{l} - 1\\right)}</script></html>"
      ],
      "text/latex": [
       "\\begin{math}\n",
       "\\newcommand{\\Bold}[1]{\\mathbf{#1}}-{\\left(Y \\beta - w_{2}\\right)} {\\left(\\gamma {\\left(\\pi_{h} - 1\\right)} + 2\\right)} \\gamma {\\left(\\pi_{h} - 1\\right)} + {\\left(2 \\, \\gamma \\pi_{h} - {\\left(\\gamma - 1\\right)} {\\left(\\pi_{l} + 1\\right)}\\right)} {\\left(Y - w_{2}\\right)} {\\left(\\gamma - 1\\right)} {\\left(\\pi_{l} - 1\\right)}\n",
       "\\end{math}"
      ],
      "text/plain": [
       "-(Y*beta - w_2)*(gamma*(pi_h - 1) + 2)*gamma*(pi_h - 1) + (2*gamma*pi_h - (gamma - 1)*(pi_l + 1))*(Y - w_2)*(gamma - 1)*(pi_l - 1)"
      ]
     },
     "metadata": {},
     "output_type": "display_data"
    }
   ],
   "source": [
    "Pi_2 = Prob_2_h_simp*(Y*beta - w_2) + Prob_2_l_simp*(Y-w_2)\n",
    "show(Pi_2)"
   ]
  },
  {
   "cell_type": "markdown",
   "id": "alpha-respect",
   "metadata": {},
   "source": [
    "We now calculate the profits for each of the specific scenarios."
   ]
  },
  {
   "cell_type": "markdown",
   "id": "marked-group",
   "metadata": {},
   "source": [
    "### Scenario A\n",
    "\\begin{aligned}\n",
    "&\\lambda\\frac{w_1}{2}+(1-\\lambda)w_1\\ge w_2\\\\\n",
    "&W_h: \\pi_h = 1\\\\\n",
    "&W_l: \\pi_l = \\frac{(2\\lambda + 1)w_2 - w_1 - 2}{2(w_2 - w_1)}\n",
    "\\end{aligned}"
   ]
  },
  {
   "cell_type": "code",
   "execution_count": 51,
   "id": "agreed-roberts",
   "metadata": {},
   "outputs": [
    {
     "data": {
      "text/plain": [
       "-(Y - w_1)*(gamma - 1)^2*(2*(2*(gamma - 1)*w_1 + (gamma + 1)*w_2)*((2*(gamma - 1)*w_1 + (gamma + 1)*w_2)/((gamma - 1)*w_1 + (gamma - 1)*w_2) - 1)/((gamma - 1)*w_1 + (gamma - 1)*w_2) - (2*(gamma - 1)*w_1 + (gamma + 1)*w_2)^2/((gamma - 1)*w_1 + (gamma - 1)*w_2)^2) - (Y*beta - w_1)*(2*(gamma - 1)*gamma - gamma^2)"
      ]
     },
     "execution_count": 51,
     "metadata": {},
     "output_type": "execute_result"
    }
   ],
   "source": [
    "Pi_1_a = Pi_1.subs(pi_h == 1, pi_l == pi_1_s)\n",
    "Pi_1_a"
   ]
  },
  {
   "cell_type": "code",
   "execution_count": 52,
   "id": "general-botswana",
   "metadata": {},
   "outputs": [
    {
     "data": {
      "text/plain": [
       "-((gamma - 1)*((2*(gamma - 1)*w_1 + (gamma + 1)*w_2)/((gamma - 1)*w_1 + (gamma - 1)*w_2) + 1) - 2*gamma)*(Y - w_2)*(gamma - 1)*((2*(gamma - 1)*w_1 + (gamma + 1)*w_2)/((gamma - 1)*w_1 + (gamma - 1)*w_2) - 1)"
      ]
     },
     "execution_count": 52,
     "metadata": {},
     "output_type": "execute_result"
    }
   ],
   "source": [
    "Pi_2_a = Pi_2.subs(pi_h == 1, pi_l == pi_1_s)\n",
    "Pi_2_a"
   ]
  },
  {
   "cell_type": "markdown",
   "id": "difficult-strand",
   "metadata": {},
   "source": [
    "### Scenario B\n",
    "\\begin{aligned}\n",
    "&w_1>w_2; \\lambda\\frac{w_1}{2}+(1-\\lambda)w_1\\le w_2 \\text{ or }\\\\ \n",
    "&w_2>w_1; \\lambda\\frac{w_2}{2}+(1-\\lambda)w_2\\le w_1\\\\\n",
    "&W_h: \\pi_h = \\frac{{\\left(\\lambda - 2\\right)} w_{2} + 2 \\, w_{1}}{\\lambda w_{1} + \\lambda w_{2}}\\\\\n",
    "&W_l: \\pi_l = \\frac{(3-\\lambda)w_2-2w_1}{(1-\\lambda)(w_1+w_2)}\n",
    "\\end{aligned}"
   ]
  },
  {
   "cell_type": "code",
   "execution_count": 53,
   "id": "encouraging-pipeline",
   "metadata": {},
   "outputs": [
    {
     "data": {
      "text/plain": [
       "-(gamma^2*(2*((gamma - 2)*w_2 + 2*w_1)*(((gamma - 2)*w_2 + 2*w_1)/(gamma*w_1 + gamma*w_2) - 1)/(gamma*w_1 + gamma*w_2) - ((gamma - 2)*w_2 + 2*w_1)^2/(gamma*w_1 + gamma*w_2)^2) - 2*(gamma - 1)*gamma*(((gamma - 2)*w_2 + 2*w_1)*(((gamma - 3)*w_2 + 2*w_1)/((gamma - 1)*w_1 + (gamma - 1)*w_2) - 1)/(gamma*w_1 + gamma*w_2) - ((gamma - 2)*w_2 + 2*w_1)*((gamma - 3)*w_2 + 2*w_1)/(((gamma - 1)*w_1 + (gamma - 1)*w_2)*(gamma*w_1 + gamma*w_2))))*(Y*beta - w_1) - ((gamma - 1)^2*(2*((gamma - 3)*w_2 + 2*w_1)*(((gamma - 3)*w_2 + 2*w_1)/((gamma - 1)*w_1 + (gamma - 1)*w_2) - 1)/((gamma - 1)*w_1 + (gamma - 1)*w_2) - ((gamma - 3)*w_2 + 2*w_1)^2/((gamma - 1)*w_1 + (gamma - 1)*w_2)^2) - 2*((gamma - 3)*w_2 + 2*w_1)*(gamma - 1)*gamma*(((gamma - 2)*w_2 + 2*w_1)/(gamma*w_1 + gamma*w_2) - 1)/((gamma - 1)*w_1 + (gamma - 1)*w_2))*(Y - w_1)"
      ]
     },
     "execution_count": 53,
     "metadata": {},
     "output_type": "execute_result"
    }
   ],
   "source": [
    "Pi_1_b = Pi_1.subs(pi_h == pi_h_s, pi_l == pi_l_s)\n",
    "Pi_1_b"
   ]
  },
  {
   "cell_type": "code",
   "execution_count": 54,
   "id": "liberal-alloy",
   "metadata": {},
   "outputs": [
    {
     "data": {
      "text/plain": [
       "-(Y*beta - w_2)*(gamma*(((gamma - 2)*w_2 + 2*w_1)/(gamma*w_1 + gamma*w_2) - 1) + 2)*gamma*(((gamma - 2)*w_2 + 2*w_1)/(gamma*w_1 + gamma*w_2) - 1) - ((gamma - 1)*(((gamma - 3)*w_2 + 2*w_1)/((gamma - 1)*w_1 + (gamma - 1)*w_2) + 1) - 2*((gamma - 2)*w_2 + 2*w_1)*gamma/(gamma*w_1 + gamma*w_2))*(Y - w_2)*(gamma - 1)*(((gamma - 3)*w_2 + 2*w_1)/((gamma - 1)*w_1 + (gamma - 1)*w_2) - 1)"
      ]
     },
     "execution_count": 54,
     "metadata": {},
     "output_type": "execute_result"
    }
   ],
   "source": [
    "Pi_2_b = Pi_2.subs(pi_h == pi_h_s, pi_l == pi_l_s)\n",
    "Pi_2_b"
   ]
  },
  {
   "cell_type": "markdown",
   "id": "laden-bulgaria",
   "metadata": {},
   "source": [
    "### Scenario C\n",
    "\\begin{aligned}\n",
    "&w_1 < \\lambda\\frac{w_2}{2}+(1-\\lambda)w_2\\\\\n",
    "&W_h: \\pi_h = 0\\\\\n",
    "&W_l: \\pi_l = \\frac{(2\\lambda + 1)w_1 - w_2 - 2}{2(w_1 - w_2)}\n",
    "\\end{aligned}"
   ]
  },
  {
   "cell_type": "code",
   "execution_count": 55,
   "id": "warming-milan",
   "metadata": {},
   "outputs": [
    {
     "data": {
      "text/plain": [
       "-((gamma - 1)^2*(2*((gamma - 1)*w_2 + 2*w_1)*(((gamma - 1)*w_2 + 2*w_1)/((gamma - 1)*w_1 + (gamma - 1)*w_2) + 1)/((gamma - 1)*w_1 + (gamma - 1)*w_2) - ((gamma - 1)*w_2 + 2*w_1)^2/((gamma - 1)*w_1 + (gamma - 1)*w_2)^2) - 2*((gamma - 1)*w_2 + 2*w_1)*(gamma - 1)*gamma/((gamma - 1)*w_1 + (gamma - 1)*w_2))*(Y - w_1)"
      ]
     },
     "execution_count": 55,
     "metadata": {},
     "output_type": "execute_result"
    }
   ],
   "source": [
    "Pi_1_c = Pi_1.subs(pi_h == 0, pi_l == pi_2_s)\n",
    "Pi_1_c"
   ]
  },
  {
   "cell_type": "code",
   "execution_count": 56,
   "id": "decimal-powder",
   "metadata": {},
   "outputs": [
    {
     "data": {
      "text/plain": [
       "-(Y - w_2)*(gamma - 1)^2*(((gamma - 1)*w_2 + 2*w_1)/((gamma - 1)*w_1 + (gamma - 1)*w_2) + 1)*(((gamma - 1)*w_2 + 2*w_1)/((gamma - 1)*w_1 + (gamma - 1)*w_2) - 1) - (Y*beta - w_2)*(gamma - 2)*gamma"
      ]
     },
     "execution_count": 56,
     "metadata": {},
     "output_type": "execute_result"
    }
   ],
   "source": [
    "Pi_2_c = Pi_2.subs(pi_h == 0, pi_l == pi_2_s)\n",
    "Pi_2_c"
   ]
  },
  {
   "cell_type": "markdown",
   "id": "abroad-waste",
   "metadata": {},
   "source": [
    "Let's return again to our, example: fix $\\lambda = 0.4$, and $w_2 = 0.5$\\\n",
    "We also set $Y = 1$ and $\\beta = 1.5$\\\n",
    "Then, as before, we vary the value of $w_1$ from 0 to 1 to satisfy the various scenario ranges."
   ]
  },
  {
   "cell_type": "code",
   "execution_count": 57,
   "id": "extended-hawaii",
   "metadata": {},
   "outputs": [
    {
     "data": {
      "image/png": "[encoded data removed]",
      "text/plain": [
       "Graphics object consisting of 1 graphics primitive"
      ]
     },
     "metadata": {},
     "output_type": "display_data"
    }
   ],
   "source": [
    "Pi_1_s = Pi_1_a.subs(pi_h == pi_h_s, pi_l == pi_l_s, gamma == 0.4, w_2 == 0.5, beta == 1.5, Y == 1)\n",
    "Pi_1_m = max_symbolic(0, min_symbolic(Pi_1_s, 1))\n",
    "show(plot(Pi_1_m, 0, 1, figsize=[4,2], color=(1,.5,0) ) )"
   ]
  },
  {
   "cell_type": "code",
   "execution_count": 58,
   "id": "genuine-landscape",
   "metadata": {},
   "outputs": [
    {
     "data": {
      "image/png": "[encoded data removed]",
      "text/plain": [
       "Graphics object consisting of 1 graphics primitive"
      ]
     },
     "metadata": {},
     "output_type": "display_data"
    }
   ],
   "source": [
    "Pi_2_s = Pi_2_a.subs(pi_h == pi_h_s, pi_l == pi_l_s, gamma == 0.4, w_2 == 0.5, beta == 1.5, Y == 1)\n",
    "Pi_2_m = max_symbolic(0, min_symbolic(Pi_2_s, 1))\n",
    "show(plot(Pi_2_m, 0, 1, figsize=[4,2], color=(0,.5,1) ) )"
   ]
  },
  {
   "cell_type": "code",
   "execution_count": 59,
   "id": "spanish-action",
   "metadata": {},
   "outputs": [
    {
     "data": {
      "image/png": "[encoded data removed]",
      "text/plain": [
       "Graphics object consisting of 2 graphics primitives"
      ]
     },
     "metadata": {},
     "output_type": "display_data"
    }
   ],
   "source": [
    "Prof_1_plot = (plot(Pi_1_m, 0, 1, figsize=[6,4], color=(1,.5,0) ) )\n",
    "Prof_2_plot = (plot(Pi_2_m, 0, 1, figsize=[6,4], color=(0,.5,1) ) )\n",
    "show(Prof_1_plot + Prof_2_plot)"
   ]
  },
  {
   "cell_type": "code",
   "execution_count": 60,
   "id": "liquid-helping",
   "metadata": {},
   "outputs": [
    {
     "data": {
      "text/plain": [
       "(0.5874329172380719, 0.5657991571110855)"
      ]
     },
     "execution_count": 60,
     "metadata": {},
     "output_type": "execute_result"
    }
   ],
   "source": [
    "max_1 = find_local_maximum(Pi_1_m,0,1)\n",
    "max_1"
   ]
  },
  {
   "cell_type": "code",
   "execution_count": 61,
   "id": "future-population",
   "metadata": {},
   "outputs": [
    {
     "data": {
      "text/plain": [
       "(0.49999999999999994, 0.312500001574188)"
      ]
     },
     "execution_count": 61,
     "metadata": {},
     "output_type": "execute_result"
    }
   ],
   "source": [
    "max_2 = find_local_maximum(Pi_2_m,0,1)\n",
    "max_2"
   ]
  },
  {
   "cell_type": "markdown",
   "id": "recovered-capability",
   "metadata": {},
   "source": [
    "At each of these found maximums, the wage falls within **scenario B**, so we can calculate firm 1's expected profit of offering each $w_1$ using our profit function for scenario B."
   ]
  },
  {
   "cell_type": "code",
   "execution_count": 62,
   "id": "front-soldier",
   "metadata": {},
   "outputs": [
    {
     "data": {
      "text/plain": [
       "0.586274212602211"
      ]
     },
     "execution_count": 62,
     "metadata": {},
     "output_type": "execute_result"
    }
   ],
   "source": [
    "Pi_max_1_a = Pi_1_s.subs(w_1 = max_1[0])\n",
    "Pi_max_1_a"
   ]
  },
  {
   "cell_type": "code",
   "execution_count": 63,
   "id": "angry-vermont",
   "metadata": {},
   "outputs": [
    {
     "data": {
      "text/plain": [
       "0.587432917238072"
      ]
     },
     "execution_count": 63,
     "metadata": {},
     "output_type": "execute_result"
    }
   ],
   "source": [
    "Pi_max_1_b = Pi_1_s.subs(w_1 = max_1[1])\n",
    "Pi_max_1_b"
   ]
  },
  {
   "cell_type": "code",
   "execution_count": 64,
   "id": "urban-digit",
   "metadata": {},
   "outputs": [
    {
     "data": {
      "text/plain": [
       "0.455000000000000"
      ]
     },
     "execution_count": 64,
     "metadata": {},
     "output_type": "execute_result"
    }
   ],
   "source": [
    "Pi_max_2_a = Pi_2_s.subs(w_1 = max_2[0])\n",
    "Pi_max_2_a"
   ]
  },
  {
   "cell_type": "code",
   "execution_count": 65,
   "id": "unlimited-property",
   "metadata": {},
   "outputs": [
    {
     "data": {
      "text/plain": [
       "0.320000004262417"
      ]
     },
     "execution_count": 65,
     "metadata": {},
     "output_type": "execute_result"
    }
   ],
   "source": [
    "Pi_max_2_b = Pi_1_s.subs(w_1 = max_2[1])\n",
    "Pi_max_2_b"
   ]
  },
  {
   "cell_type": "markdown",
   "id": "higher-holder",
   "metadata": {},
   "source": [
    "So at these arbitrary values, each player would behave as follows:\\\n",
    "Firm 1 sets wage as $w_1 = max_{1a}$, high type workers would apply to firm 1 with probability $\\pi_h$ and low type workers would apply to firm 1 with probability $\\pi_l$.\n",
    "\n",
    "This is not a full solution however, as both firms would set their wages to maximize their profits, rather than $w_2$ being fixed.\\\n",
    "Having done this visualization, we now approach the firms' problems again, allow each wage to be set by its respective firm."
   ]
  },
  {
   "cell_type": "markdown",
   "id": "effective-forge",
   "metadata": {},
   "source": [
    "## Establishing Firm Profits, General Case\n",
    "We still fix $\\lambda = 0.4$, $Y = 1$, and $\\beta = 1.5$."
   ]
  },
  {
   "cell_type": "code",
   "execution_count": 66,
   "id": "premium-softball",
   "metadata": {
    "scrolled": true
   },
   "outputs": [
    {
     "data": {
      "text/html": [
       "<html><script type=\"math/tex; mode=display\">\\newcommand{\\Bold}[1]{\\mathbf{#1}}0.600000000000000 \\, {\\left(0.800000000000000 \\, \\pi_{h} + 0.600000000000000 \\, \\pi_{l} - 2\\right)} \\pi_{l} {\\left(w_{1} - 1\\right)} + 0.400000000000000 \\, \\pi_{h} {\\left(0.400000000000000 \\, \\pi_{h} - 2\\right)} {\\left(w_{1} - 1.50000000000000\\right)}</script></html>"
      ],
      "text/latex": [
       "\\begin{math}\n",
       "\\newcommand{\\Bold}[1]{\\mathbf{#1}}0.600000000000000 \\, {\\left(0.800000000000000 \\, \\pi_{h} + 0.600000000000000 \\, \\pi_{l} - 2\\right)} \\pi_{l} {\\left(w_{1} - 1\\right)} + 0.400000000000000 \\, \\pi_{h} {\\left(0.400000000000000 \\, \\pi_{h} - 2\\right)} {\\left(w_{1} - 1.50000000000000\\right)}\n",
       "\\end{math}"
      ],
      "text/plain": [
       "0.600000000000000*(0.800000000000000*pi_h + 0.600000000000000*pi_l - 2)*pi_l*(w_1 - 1) + 0.400000000000000*pi_h*(0.400000000000000*pi_h - 2)*(w_1 - 1.50000000000000)"
      ]
     },
     "metadata": {},
     "output_type": "display_data"
    }
   ],
   "source": [
    "Pi_1 = (Prob_1_h_simp*(Y*beta - w_1) + Prob_1_l_simp*(Y-w_1)).subs(gamma == 0.4, Y == 1, beta == 1.5)\n",
    "show(Pi_1)"
   ]
  },
  {
   "cell_type": "code",
   "execution_count": 67,
   "id": "hawaiian-wheat",
   "metadata": {},
   "outputs": [
    {
     "data": {
      "text/html": [
       "<html><script type=\"math/tex; mode=display\">\\newcommand{\\Bold}[1]{\\mathbf{#1}}0.600000000000000 \\, {\\left(0.800000000000000 \\, \\pi_{h} + 0.600000000000000 \\, \\pi_{l} + 0.600000000000000\\right)} {\\left(\\pi_{l} - 1\\right)} {\\left(w_{2} - 1\\right)} + 0.400000000000000 \\, {\\left(\\pi_{h} - 1\\right)} {\\left(0.400000000000000 \\, \\pi_{h} + 1.60000000000000\\right)} {\\left(w_{2} - 1.50000000000000\\right)}</script></html>"
      ],
      "text/latex": [
       "\\begin{math}\n",
       "\\newcommand{\\Bold}[1]{\\mathbf{#1}}0.600000000000000 \\, {\\left(0.800000000000000 \\, \\pi_{h} + 0.600000000000000 \\, \\pi_{l} + 0.600000000000000\\right)} {\\left(\\pi_{l} - 1\\right)} {\\left(w_{2} - 1\\right)} + 0.400000000000000 \\, {\\left(\\pi_{h} - 1\\right)} {\\left(0.400000000000000 \\, \\pi_{h} + 1.60000000000000\\right)} {\\left(w_{2} - 1.50000000000000\\right)}\n",
       "\\end{math}"
      ],
      "text/plain": [
       "0.600000000000000*(0.800000000000000*pi_h + 0.600000000000000*pi_l + 0.600000000000000)*(pi_l - 1)*(w_2 - 1) + 0.400000000000000*(pi_h - 1)*(0.400000000000000*pi_h + 1.60000000000000)*(w_2 - 1.50000000000000)"
      ]
     },
     "metadata": {},
     "output_type": "display_data"
    }
   ],
   "source": [
    "Pi_2 = (Prob_2_h_simp*(Y*beta - w_2) + Prob_2_l_simp*(Y-w_2)).subs(gamma == 0.4, Y == 1, beta == 1.5)\n",
    "show(Pi_2)"
   ]
  },
  {
   "cell_type": "code",
   "execution_count": 68,
   "id": "developed-salad",
   "metadata": {},
   "outputs": [],
   "source": [
    "pi_h_a = 1\n",
    "pi_h_b = pi_h_s.subs(gamma == 0.4)\n",
    "pi_h_c = 0\n",
    "pi_l_a = pi_1_s.subs(gamma == 0.4)\n",
    "pi_l_b = pi_l_s.subs(gamma == 0.4)\n",
    "pi_l_c = pi_2_s.subs(gamma == 0.4)"
   ]
  },
  {
   "cell_type": "code",
   "execution_count": 69,
   "id": "actual-democrat",
   "metadata": {},
   "outputs": [],
   "source": [
    "Pi_1_A = Pi_1.subs(pi_h == pi_h_a, pi_l == pi_l_a)\n",
    "Pi_2_A = Pi_2.subs(pi_h == pi_h_a, pi_l == pi_l_a)\n",
    "Pi_1_B = Pi_1.subs(pi_h == pi_h_b, pi_l == pi_l_b)\n",
    "Pi_2_B = Pi_2.subs(pi_h == pi_h_b, pi_l == pi_l_b)\n",
    "Pi_1_C = Pi_1.subs(pi_h == pi_h_c, pi_l == pi_l_c)\n",
    "Pi_2_C = Pi_2.subs(pi_h == pi_h_c, pi_l == pi_l_c)"
   ]
  },
  {
   "cell_type": "markdown",
   "id": "renewable-journalist",
   "metadata": {},
   "source": [
    "With our fixed value of $\\lambda$ we can write $w_2$ solely in terms of $w_1$."
   ]
  },
  {
   "cell_type": "code",
   "execution_count": 70,
   "id": "advance-estonia",
   "metadata": {},
   "outputs": [],
   "source": [
    "scenA = (gamma*w_1/2 + (1-gamma)*w_1 > w_2)\n",
    "scenB1 = (gamma*w_1/2 + (1-gamma)*w_1 < w_2)\n",
    "scenB2 = (gamma*w_2/2 + (1-gamma)*w_2 < w_1)\n",
    "scenC = (w_1<gamma*w_2/2 + (1-gamma)*w_2)"
   ]
  },
  {
   "cell_type": "code",
   "execution_count": 71,
   "id": "incorporate-palace",
   "metadata": {},
   "outputs": [
    {
     "data": {
      "text/plain": [
       "0.800000000000000*w_1 > w_2"
      ]
     },
     "execution_count": 71,
     "metadata": {},
     "output_type": "execute_result"
    }
   ],
   "source": [
    "scenA.subs(gamma == 0.4)"
   ]
  },
  {
   "cell_type": "code",
   "execution_count": 72,
   "id": "essential-trade",
   "metadata": {},
   "outputs": [
    {
     "data": {
      "text/plain": [
       "0.800000000000000*w_1 < w_2"
      ]
     },
     "execution_count": 72,
     "metadata": {},
     "output_type": "execute_result"
    }
   ],
   "source": [
    "scenB1.subs(gamma==0.4)"
   ]
  },
  {
   "cell_type": "code",
   "execution_count": 73,
   "id": "revolutionary-proposition",
   "metadata": {},
   "outputs": [
    {
     "data": {
      "text/plain": [
       "0.800000000000000*w_2 < w_1"
      ]
     },
     "execution_count": 73,
     "metadata": {},
     "output_type": "execute_result"
    }
   ],
   "source": [
    "scenB2.subs(gamma==0.4)"
   ]
  },
  {
   "cell_type": "code",
   "execution_count": 74,
   "id": "adjustable-gravity",
   "metadata": {},
   "outputs": [
    {
     "data": {
      "text/plain": [
       "w_1 < 0.800000000000000*w_2"
      ]
     },
     "execution_count": 74,
     "metadata": {},
     "output_type": "execute_result"
    }
   ],
   "source": [
    "scenC.subs(gamma==0.4)"
   ]
  },
  {
   "cell_type": "markdown",
   "id": "american-nothing",
   "metadata": {},
   "source": [
    "So for each scenario, we can write the wage relation as follows:\n",
    "\n",
    "**Scenario A**\\\n",
    "\\begin{aligned}\n",
    "w_2 &\\leq 0.8 w_1\\\\\n",
    "\\frac{w_2}{w_1} &\\leq 0.8\n",
    "\\end{aligned}\n",
    "\n",
    "**Scenario B**\\\n",
    "\\begin{aligned}\n",
    "w_2 &> 0.8w_1, w_1 \\geq w_2\\\\\n",
    "w_1 &\\geq w_2 > 0.8w_1\\\\\n",
    "1 &\\geq \\frac{w_2}{w_1} > 0.8\\\\\n",
    "\\text{or}\\\\\n",
    "w_2 &< \\frac{w_1}{0.8}, w_2 \\geq w_1\\\\\n",
    "w_1 &\\leq w_2 < \\frac{w_1}{0.8}\\\\\n",
    "1 &\\leq \\frac{w_2}{w_1} < 1.25\\\\\n",
    "\\text{so}\\\\\n",
    "1.25 &> \\frac{w_2}{w_1} > 0.8\n",
    "\\end{aligned}\n",
    "\n",
    "**Scenario C**\\\n",
    "\\begin{aligned}\n",
    "w_2 &\\geq \\frac{w_1}{0.8}\\\\\n",
    "\\frac{w_2}{w_1} &\\geq 1.25\n",
    "\\end{aligned}\n",
    "\n",
    "So we can now write out the complete expected profit functions for each firm, dependent on $w_1$ and $w_2$:\n",
    "\n",
    "**firm 1:**\\\n",
    "$\\begin{equation}\n",
    "  \\Pi_1(w_1, w_2)=\\left\\{\n",
    "  \\begin{array}{@{}ll@{}}\n",
    "    \\Pi_1(A) & \\text{if } \\frac{w_2}{w_1} \\leq 0.8\\\\\n",
    "    \\Pi_1(B) & \\text{if } 1.25 > \\frac{w_2}{w_1} > 0.8\\\\\n",
    "    \\Pi_1(C) & \\text{if } \\frac{w_2}{w_1} \\geq 1.25\\\\\n",
    "  \\end{array}\\right.\n",
    "\\end{equation}$\n",
    "\n",
    "**firm 2:**\\\n",
    "$\\begin{equation}\n",
    "  \\Pi_2(w_1, w_2)=\\left\\{\n",
    "  \\begin{array}{@{}ll@{}}\n",
    "    \\Pi_2(A) & \\text{if } \\frac{w_2}{w_1} \\leq 0.8\\\\\n",
    "    \\Pi_2(B) & \\text{if } 1.25 > \\frac{w_2}{w_1} > 0.8\\\\\n",
    "    \\Pi_2(C) & \\text{if } \\frac{w_2}{w_1} \\geq 1.25\\\\\n",
    "  \\end{array}\\right.\n",
    "\\end{equation}$"
   ]
  },
  {
   "cell_type": "code",
   "execution_count": 75,
   "id": "acoustic-diabetes",
   "metadata": {},
   "outputs": [
    {
     "data": {
      "text/html": [
       "<html><script type=\"math/tex; mode=display\">\\newcommand{\\Bold}[1]{\\mathbf{#1}}\\left[\\left[w_{1} = 0, w_{2} = \\left(-\\frac{52}{15}\\right)\\right], \\left[w_{1} = 0, w_{2} = 0\\right], \\left[w_{1} = 0.5117363076410854, w_{2} = 0.4121924802723194\\right], \\left[w_{1} = \\left(-2.249156638576387 + 1.810159815729027i\\right), w_{2} = \\left(0.4223066584191547 + 0.3126630912418i\\right)\\right], \\left[w_{1} = \\left(-2.249156638576387 - 1.810159815729027i\\right), w_{2} = \\left(0.4223066584191547 - 0.3126630912418i\\right)\\right], \\left[w_{1} = \\left(-0.3843246795925074\\right), w_{2} = \\left(-4.916778523489933\\right)\\right]\\right]</script></html>"
      ],
      "text/latex": [
       "\\begin{math}\n",
       "\\newcommand{\\Bold}[1]{\\mathbf{#1}}\\left[\\left[w_{1} = 0, w_{2} = \\left(-\\frac{52}{15}\\right)\\right], \\left[w_{1} = 0, w_{2} = 0\\right], \\left[w_{1} = 0.5117363076410854, w_{2} = 0.4121924802723194\\right], \\left[w_{1} = \\left(-2.249156638576387 + 1.810159815729027i\\right), w_{2} = \\left(0.4223066584191547 + 0.3126630912418i\\right)\\right], \\left[w_{1} = \\left(-2.249156638576387 - 1.810159815729027i\\right), w_{2} = \\left(0.4223066584191547 - 0.3126630912418i\\right)\\right], \\left[w_{1} = \\left(-0.3843246795925074\\right), w_{2} = \\left(-4.916778523489933\\right)\\right]\\right]\n",
       "\\end{math}"
      ],
      "text/plain": [
       "[[w_1 == 0, w_2 == (-52/15)], [w_1 == 0, w_2 == 0], [w_1 == 0.5117363076410854, w_2 == 0.4121924802723194], [w_1 == (-2.249156638576387 + 1.810159815729027*I), w_2 == (0.4223066584191547 + 0.3126630912418*I)], [w_1 == (-2.249156638576387 - 1.810159815729027*I), w_2 == (0.4223066584191547 - 0.3126630912418*I)], [w_1 == -0.3843246795925074, w_2 == -4.916778523489933]]"
      ]
     },
     "metadata": {},
     "output_type": "display_data"
    }
   ],
   "source": [
    "deriv_1A = derivative(Pi_1_A, w_1)\n",
    "deriv_2A = derivative(Pi_2_A, w_2)\n",
    "A_array = (solve((deriv_1A == 0, deriv_2A == 0), w_1, w_2))\n",
    "show(A_array)"
   ]
  },
  {
   "cell_type": "code",
   "execution_count": 76,
   "id": "cardiac-explosion",
   "metadata": {},
   "outputs": [
    {
     "data": {
      "text/plain": [
       "0.8054782787884915"
      ]
     },
     "execution_count": 76,
     "metadata": {},
     "output_type": "execute_result"
    }
   ],
   "source": [
    "A_array[2][1].rhs()/A_array[2][0].rhs()"
   ]
  },
  {
   "cell_type": "markdown",
   "id": "metallic-advocate",
   "metadata": {},
   "source": [
    "So the only possible strategy within scenario A, violates the restriction $\\frac{w_2}{w_1} \\leq 0.8$"
   ]
  },
  {
   "cell_type": "code",
   "execution_count": 77,
   "id": "tropical-appraisal",
   "metadata": {},
   "outputs": [
    {
     "data": {
      "text/html": [
       "<html><script type=\"math/tex; mode=display\">\\newcommand{\\Bold}[1]{\\mathbf{#1}}\\left[\\left[w_{1} = 0, w_{2} = 0\\right], \\left[w_{1} = 0, w_{2} = \\left(\\frac{234}{25}\\right)\\right], \\left[w_{1} = \\left(\\frac{234}{25}\\right), w_{2} = 0\\right], \\left[w_{1} = \\left(\\frac{47}{50}\\right), w_{2} = \\left(\\frac{47}{50}\\right)\\right], \\left[w_{1} = -\\frac{1}{25} \\, \\sqrt{61149} + \\frac{187}{25}, w_{2} = \\frac{1}{25} \\, \\sqrt{61149} + \\frac{187}{25}\\right], \\left[w_{1} = \\frac{1}{25} \\, \\sqrt{61149} + \\frac{187}{25}, w_{2} = -\\frac{1}{25} \\, \\sqrt{61149} + \\frac{187}{25}\\right]\\right]</script></html>"
      ],
      "text/latex": [
       "\\begin{math}\n",
       "\\newcommand{\\Bold}[1]{\\mathbf{#1}}\\left[\\left[w_{1} = 0, w_{2} = 0\\right], \\left[w_{1} = 0, w_{2} = \\left(\\frac{234}{25}\\right)\\right], \\left[w_{1} = \\left(\\frac{234}{25}\\right), w_{2} = 0\\right], \\left[w_{1} = \\left(\\frac{47}{50}\\right), w_{2} = \\left(\\frac{47}{50}\\right)\\right], \\left[w_{1} = -\\frac{1}{25} \\, \\sqrt{61149} + \\frac{187}{25}, w_{2} = \\frac{1}{25} \\, \\sqrt{61149} + \\frac{187}{25}\\right], \\left[w_{1} = \\frac{1}{25} \\, \\sqrt{61149} + \\frac{187}{25}, w_{2} = -\\frac{1}{25} \\, \\sqrt{61149} + \\frac{187}{25}\\right]\\right]\n",
       "\\end{math}"
      ],
      "text/plain": [
       "[[w_1 == 0, w_2 == 0], [w_1 == 0, w_2 == (234/25)], [w_1 == (234/25), w_2 == 0], [w_1 == (47/50), w_2 == (47/50)], [w_1 == -1/25*sqrt(61149) + 187/25, w_2 == 1/25*sqrt(61149) + 187/25], [w_1 == 1/25*sqrt(61149) + 187/25, w_2 == -1/25*sqrt(61149) + 187/25]]"
      ]
     },
     "metadata": {},
     "output_type": "display_data"
    }
   ],
   "source": [
    "deriv_1B = derivative(Pi_1_B, w_1)\n",
    "deriv_2B = derivative(Pi_2_B, w_2)\n",
    "B_array = (solve((deriv_1B == 0, deriv_2B == 0), w_1, w_2))\n",
    "show(B_array)"
   ]
  },
  {
   "cell_type": "code",
   "execution_count": 78,
   "id": "agricultural-portable",
   "metadata": {},
   "outputs": [
    {
     "data": {
      "text/plain": [
       "0.225000000000000"
      ]
     },
     "execution_count": 78,
     "metadata": {},
     "output_type": "execute_result"
    }
   ],
   "source": [
    "Pi_1_B.subs(w_1 == B_array[3][0].rhs(), w_2 == B_array[3][1].rhs())"
   ]
  },
  {
   "cell_type": "code",
   "execution_count": 79,
   "id": "instructional-committee",
   "metadata": {},
   "outputs": [
    {
     "data": {
      "text/plain": [
       "0.225000000000000"
      ]
     },
     "execution_count": 79,
     "metadata": {},
     "output_type": "execute_result"
    }
   ],
   "source": [
    "Pi_2_B.subs(w_1 == B_array[3][0].rhs(), w_2 == B_array[3][1].rhs())"
   ]
  },
  {
   "cell_type": "code",
   "execution_count": 80,
   "id": "metallic-contrary",
   "metadata": {
    "scrolled": true
   },
   "outputs": [
    {
     "data": {
      "text/html": [
       "<html><script type=\"math/tex; mode=display\">\\newcommand{\\Bold}[1]{\\mathbf{#1}}\\left[\\left[w_{1} = \\left(-\\frac{52}{15}\\right), w_{2} = 0\\right], \\left[w_{1} = 0, w_{2} = 0\\right], \\left[w_{1} = 0.4121924802723194, w_{2} = 0.5117363076410854\\right], \\left[w_{1} = \\left(0.4223066584191547 + 0.3126630912418i\\right), w_{2} = \\left(-2.249156638576388 + 1.810159815729027i\\right)\\right], \\left[w_{1} = \\left(0.4223066584191547 - 0.3126630912418i\\right), w_{2} = \\left(-2.249156638576387 - 1.810159815729026i\\right)\\right], \\left[w_{1} = \\left(-4.916778523489933\\right), w_{2} = \\left(-0.3843246795925074\\right)\\right]\\right]</script></html>"
      ],
      "text/latex": [
       "\\begin{math}\n",
       "\\newcommand{\\Bold}[1]{\\mathbf{#1}}\\left[\\left[w_{1} = \\left(-\\frac{52}{15}\\right), w_{2} = 0\\right], \\left[w_{1} = 0, w_{2} = 0\\right], \\left[w_{1} = 0.4121924802723194, w_{2} = 0.5117363076410854\\right], \\left[w_{1} = \\left(0.4223066584191547 + 0.3126630912418i\\right), w_{2} = \\left(-2.249156638576388 + 1.810159815729027i\\right)\\right], \\left[w_{1} = \\left(0.4223066584191547 - 0.3126630912418i\\right), w_{2} = \\left(-2.249156638576387 - 1.810159815729026i\\right)\\right], \\left[w_{1} = \\left(-4.916778523489933\\right), w_{2} = \\left(-0.3843246795925074\\right)\\right]\\right]\n",
       "\\end{math}"
      ],
      "text/plain": [
       "[[w_1 == (-52/15), w_2 == 0], [w_1 == 0, w_2 == 0], [w_1 == 0.4121924802723194, w_2 == 0.5117363076410854], [w_1 == (0.4223066584191547 + 0.3126630912418*I), w_2 == (-2.249156638576388 + 1.810159815729027*I)], [w_1 == (0.4223066584191547 - 0.3126630912418*I), w_2 == (-2.249156638576387 - 1.810159815729026*I)], [w_1 == -4.916778523489933, w_2 == -0.3843246795925074]]"
      ]
     },
     "metadata": {},
     "output_type": "display_data"
    }
   ],
   "source": [
    "deriv_1C = derivative(Pi_1_C, w_1)\n",
    "deriv_2C = derivative(Pi_2_C, w_2)\n",
    "C_array = (solve((deriv_1C == 0, deriv_2C == 0), w_1, w_2))\n",
    "show(C_array)"
   ]
  },
  {
   "cell_type": "code",
   "execution_count": 81,
   "id": "qualified-champagne",
   "metadata": {},
   "outputs": [
    {
     "data": {
      "text/plain": [
       "1.241498407013639"
      ]
     },
     "execution_count": 81,
     "metadata": {},
     "output_type": "execute_result"
    }
   ],
   "source": [
    "C_array[2][1].rhs()/C_array[2][0].rhs()"
   ]
  },
  {
   "cell_type": "markdown",
   "id": "curious-hunter",
   "metadata": {},
   "source": [
    "The only possible solution within scenario C violates the restriction $\\frac{w_2}{w_1} \\geq 1.25$. Thus the strategy found above in scenario B provides the optimal solution.\n",
    "\n",
    "So, for $Y = 1, \\beta = 1.5$ and $\\lambda = 0.4$:\\\n",
    "Firm 1 offers $w_1 = 0.225$\\\n",
    "Firm 2 offers $w_2 = 0.225$\\\n",
    "High type players apply to firm 1 with probability:\n",
    "\\begin{aligned}\n",
    "\\pi_h &= \\frac{(\\lambda - 2)w_2 + 2w_1}{\\lambda(w_1 + w_2)}\\\\\n",
    "&= \\frac{(0.4 - 2)0.225 + 2*0.225}{0.4(0.4(0.225 + 0.225)}\\\\\n",
    "&= 0.5\n",
    "\\end{aligned}\n",
    "Low type players apply to firm 1 with probability:\n",
    "\\begin{aligned}\n",
    "\\pi_l &= \\frac{(3 - \\lambda)w_2 - 2w_1}{\\lambda(w_1 + w_2)}\\\\\n",
    "&= \\frac{(0.4 - 2)0.225 + 2*0.225}{0.4(0.4(0.225 + 0.225)}\\\\\n",
    "&= 0.5\n",
    "\\end{aligned}"
   ]
  },
  {
   "cell_type": "code",
   "execution_count": 82,
   "id": "metallic-presence",
   "metadata": {},
   "outputs": [
    {
     "data": {
      "text/plain": [
       "0.500000000000000"
      ]
     },
     "execution_count": 82,
     "metadata": {},
     "output_type": "execute_result"
    }
   ],
   "source": [
    "pi_h_B = pi_h_s.subs(gamma == 0.4, beta == 1.5, w_1 == 0.225, w_2 == 0.225)\n",
    "pi_h_B"
   ]
  },
  {
   "cell_type": "code",
   "execution_count": 83,
   "id": "powered-letter",
   "metadata": {},
   "outputs": [
    {
     "data": {
      "text/plain": [
       "0.500000000000000"
      ]
     },
     "execution_count": 83,
     "metadata": {},
     "output_type": "execute_result"
    }
   ],
   "source": [
    "pi_l_B = pi_l_s.subs(gamma == 0.4, beta == 1.5, w_1 == 0.225, w_2 == 0.225)\n",
    "pi_l_B"
   ]
  },
  {
   "cell_type": "markdown",
   "id": "looking-basic",
   "metadata": {},
   "source": [
    "## Altering the Parameters\n",
    "\n",
    "Let's keep $Y, \\beta$ as before and increase $\\lambda$.\\\n",
    "$Y = 1, \\beta = 1.5, \\lambda = 0.8$"
   ]
  },
  {
   "cell_type": "code",
   "execution_count": 84,
   "id": "saved-induction",
   "metadata": {},
   "outputs": [],
   "source": [
    "Pi_1 = (Prob_1_h_simp*(Y*beta - w_1) + Prob_1_l_simp*(Y-w_1)).subs(gamma == 0.8, Y == 1, beta == 1.5)\n",
    "Pi_2 = (Prob_2_h_simp*(Y*beta - w_1) + Prob_2_l_simp*(Y-w_1)).subs(gamma == 0.8, Y == 1, beta == 1.5)"
   ]
  },
  {
   "cell_type": "code",
   "execution_count": 85,
   "id": "covered-oriental",
   "metadata": {},
   "outputs": [],
   "source": [
    "pi_h_a = 1\n",
    "pi_h_b = pi_h_s.subs(gamma == 0.8)\n",
    "pi_h_c = 0\n",
    "pi_l_a = pi_1_s.subs(gamma == 0.8)\n",
    "pi_l_b = pi_l_s.subs(gamma == 0.8)\n",
    "pi_l_c = pi_2_s.subs(gamma == 0.8)\n",
    "Pi_1_A = Pi_1.subs(pi_h == pi_h_a, pi_l == pi_l_a)\n",
    "Pi_2_A = Pi_2.subs(pi_h == pi_h_a, pi_l == pi_l_a)\n",
    "Pi_1_B = Pi_1.subs(pi_h == pi_h_b, pi_l == pi_l_b)\n",
    "Pi_2_B = Pi_2.subs(pi_h == pi_h_b, pi_l == pi_l_b)\n",
    "Pi_1_C = Pi_1.subs(pi_h == pi_h_c, pi_l == pi_l_c)\n",
    "Pi_2_C = Pi_2.subs(pi_h == pi_h_c, pi_l == pi_l_c)"
   ]
  },
  {
   "cell_type": "code",
   "execution_count": 86,
   "id": "opened-terminology",
   "metadata": {},
   "outputs": [
    {
     "data": {
      "text/plain": [
       "0.600000000000000*w_1 > w_2"
      ]
     },
     "execution_count": 86,
     "metadata": {},
     "output_type": "execute_result"
    }
   ],
   "source": [
    "scenA.subs(gamma == 0.8)"
   ]
  },
  {
   "cell_type": "code",
   "execution_count": 87,
   "id": "permanent-playback",
   "metadata": {},
   "outputs": [
    {
     "data": {
      "text/plain": [
       "0.600000000000000*w_1 < w_2"
      ]
     },
     "execution_count": 87,
     "metadata": {},
     "output_type": "execute_result"
    }
   ],
   "source": [
    "scenB1.subs(gamma == 0.8)"
   ]
  },
  {
   "cell_type": "code",
   "execution_count": 88,
   "id": "compressed-metropolitan",
   "metadata": {},
   "outputs": [
    {
     "data": {
      "text/plain": [
       "0.600000000000000*w_2 < w_1"
      ]
     },
     "execution_count": 88,
     "metadata": {},
     "output_type": "execute_result"
    }
   ],
   "source": [
    "scenB2.subs(gamma == 0.8)"
   ]
  },
  {
   "cell_type": "code",
   "execution_count": 89,
   "id": "recreational-campaign",
   "metadata": {},
   "outputs": [
    {
     "data": {
      "text/plain": [
       "w_1 < 0.600000000000000*w_2"
      ]
     },
     "execution_count": 89,
     "metadata": {},
     "output_type": "execute_result"
    }
   ],
   "source": [
    "scenC.subs(gamma == 0.8)"
   ]
  },
  {
   "cell_type": "markdown",
   "id": "brazilian-comment",
   "metadata": {},
   "source": [
    "So we can now write out the complete expected profit functions for each firm, dependent on $w_1$ and $w_2$:\n",
    "\n",
    "**firm 1:**\\\n",
    "$\\begin{equation}\n",
    "  \\Pi_1(w_1, w_2)=\\left\\{\n",
    "  \\begin{array}{@{}ll@{}}\n",
    "    \\Pi_1(A) & \\text{if } \\frac{w_2}{w_1} \\leq 0.6\\\\\n",
    "    \\Pi_1(B) & \\text{if } \\frac{1}{0.6} > \\frac{w_2}{w_1} > 0.6\\\\\n",
    "    \\Pi_1(C) & \\text{if } \\frac{w_2}{w_1} \\geq \\frac{1}{0.6}\\\\\n",
    "  \\end{array}\\right.\n",
    "\\end{equation}$\n",
    "\n",
    "**firm 2:**\\\n",
    "$\\begin{equation}\n",
    "  \\Pi_2(w_1, w_2)=\\left\\{\n",
    "  \\begin{array}{@{}ll@{}}\n",
    "    \\Pi_2(A) & \\text{if } \\frac{w_2}{w_1} \\leq 0.6\\\\\n",
    "    \\Pi_2(B) & \\text{if } \\frac{1}{0.6} > \\frac{w_2}{w_1} > 0.6\\\\\n",
    "    \\Pi_2(C) & \\text{if } \\frac{w_2}{w_1} \\geq \\frac{1}{0.6}\\\\\n",
    "  \\end{array}\\right.\n",
    "\\end{equation}$"
   ]
  },
  {
   "cell_type": "code",
   "execution_count": 90,
   "id": "overall-claim",
   "metadata": {},
   "outputs": [
    {
     "data": {
      "text/html": [
       "<html><script type=\"math/tex; mode=display\">\\newcommand{\\Bold}[1]{\\mathbf{#1}}\\left[\\left[w_{1} = 0, w_{2} = \\left(-\\frac{44}{15}\\right)\\right], \\left[w_{1} = 0, w_{2} = 0\\right], \\left[w_{1} = 1, w_{2} = \\left(\\frac{6}{5}\\right)\\right], \\left[w_{1} = 1, w_{2} = \\left(-\\frac{4}{15}\\right)\\right], \\left[w_{1} = 1, w_{2} = \\left(-1\\right)\\right]\\right]</script></html>"
      ],
      "text/latex": [
       "\\begin{math}\n",
       "\\newcommand{\\Bold}[1]{\\mathbf{#1}}\\left[\\left[w_{1} = 0, w_{2} = \\left(-\\frac{44}{15}\\right)\\right], \\left[w_{1} = 0, w_{2} = 0\\right], \\left[w_{1} = 1, w_{2} = \\left(\\frac{6}{5}\\right)\\right], \\left[w_{1} = 1, w_{2} = \\left(-\\frac{4}{15}\\right)\\right], \\left[w_{1} = 1, w_{2} = \\left(-1\\right)\\right]\\right]\n",
       "\\end{math}"
      ],
      "text/plain": [
       "[[w_1 == 0, w_2 == (-44/15)], [w_1 == 0, w_2 == 0], [w_1 == 1, w_2 == (6/5)], [w_1 == 1, w_2 == (-4/15)], [w_1 == 1, w_2 == -1]]"
      ]
     },
     "metadata": {},
     "output_type": "display_data"
    }
   ],
   "source": [
    "deriv_1A = derivative(Pi_1_A, w_1)\n",
    "deriv_2A = derivative(Pi_2_A, w_2)\n",
    "A_array = (solve((deriv_1A == 0, deriv_2A == 0), w_1, w_2))\n",
    "show(A_array)"
   ]
  },
  {
   "cell_type": "code",
   "execution_count": 91,
   "id": "proper-calvin",
   "metadata": {},
   "outputs": [
    {
     "data": {
      "text/plain": [
       "6/5"
      ]
     },
     "execution_count": 91,
     "metadata": {},
     "output_type": "execute_result"
    }
   ],
   "source": [
    "(A_array[2][1].rhs())/(A_array[2][0].rhs())"
   ]
  },
  {
   "cell_type": "markdown",
   "id": "other-oxygen",
   "metadata": {},
   "source": [
    "None of the wage pairings in scenario A satisfy the restrictions."
   ]
  },
  {
   "cell_type": "code",
   "execution_count": 92,
   "id": "rapid-concord",
   "metadata": {},
   "outputs": [
    {
     "data": {
      "text/html": [
       "<html><script type=\"math/tex; mode=display\">\\newcommand{\\Bold}[1]{\\mathbf{#1}}\\left[\\left[w_{1} = 0, w_{2} = 0\\right], \\left[w_{1} = 0, w_{2} = \\left(\\frac{176}{25}\\right)\\right], \\left[w_{1} = \\left(\\frac{299}{335}\\right), w_{2} = \\left(\\frac{46}{25}\\right)\\right], \\left[w_{1} = \\left(\\frac{153}{25}\\right), w_{2} = \\left(-\\frac{153}{25}\\right)\\right]\\right]</script></html>"
      ],
      "text/latex": [
       "\\begin{math}\n",
       "\\newcommand{\\Bold}[1]{\\mathbf{#1}}\\left[\\left[w_{1} = 0, w_{2} = 0\\right], \\left[w_{1} = 0, w_{2} = \\left(\\frac{176}{25}\\right)\\right], \\left[w_{1} = \\left(\\frac{299}{335}\\right), w_{2} = \\left(\\frac{46}{25}\\right)\\right], \\left[w_{1} = \\left(\\frac{153}{25}\\right), w_{2} = \\left(-\\frac{153}{25}\\right)\\right]\\right]\n",
       "\\end{math}"
      ],
      "text/plain": [
       "[[w_1 == 0, w_2 == 0], [w_1 == 0, w_2 == (176/25)], [w_1 == (299/335), w_2 == (46/25)], [w_1 == (153/25), w_2 == (-153/25)]]"
      ]
     },
     "metadata": {},
     "output_type": "display_data"
    }
   ],
   "source": [
    "deriv_1B = derivative(Pi_1_B, w_1)\n",
    "deriv_2B = derivative(Pi_2_B, w_2)\n",
    "B_array = (solve((deriv_1B == 0, deriv_2B == 0), w_1, w_2))\n",
    "show(B_array)"
   ]
  },
  {
   "cell_type": "code",
   "execution_count": 93,
   "id": "peripheral-fault",
   "metadata": {},
   "outputs": [
    {
     "data": {
      "text/plain": [
       "False"
      ]
     },
     "execution_count": 93,
     "metadata": {},
     "output_type": "execute_result"
    }
   ],
   "source": [
    "bool([(B_array[2][1].rhs())/(B_array[2][0].rhs())] < [1/0.6])"
   ]
  },
  {
   "cell_type": "markdown",
   "id": "annoying-cyprus",
   "metadata": {},
   "source": [
    "None of the wage pairings in scenario B satisfy the restrictions."
   ]
  },
  {
   "cell_type": "code",
   "execution_count": 94,
   "id": "unable-thumbnail",
   "metadata": {},
   "outputs": [
    {
     "data": {
      "text/html": [
       "<html><script type=\"math/tex; mode=display\">\\newcommand{\\Bold}[1]{\\mathbf{#1}}\\left[\\left[w_{1} = 0, w_{2} = 0\\right], \\left[w_{1} = 0, w_{2} = \\left(-12\\right)\\right], \\left[w_{1} = 1, w_{2} = 10\\right], \\left[w_{1} = 1, w_{2} = 0\\right], \\left[w_{1} = 1, w_{2} = \\left(-1\\right)\\right]\\right]</script></html>"
      ],
      "text/latex": [
       "\\begin{math}\n",
       "\\newcommand{\\Bold}[1]{\\mathbf{#1}}\\left[\\left[w_{1} = 0, w_{2} = 0\\right], \\left[w_{1} = 0, w_{2} = \\left(-12\\right)\\right], \\left[w_{1} = 1, w_{2} = 10\\right], \\left[w_{1} = 1, w_{2} = 0\\right], \\left[w_{1} = 1, w_{2} = \\left(-1\\right)\\right]\\right]\n",
       "\\end{math}"
      ],
      "text/plain": [
       "[[w_1 == 0, w_2 == 0], [w_1 == 0, w_2 == -12], [w_1 == 1, w_2 == 10], [w_1 == 1, w_2 == 0], [w_1 == 1, w_2 == -1]]"
      ]
     },
     "metadata": {},
     "output_type": "display_data"
    }
   ],
   "source": [
    "deriv_1C = derivative(Pi_1_C, w_1)\n",
    "deriv_2C = derivative(Pi_2_C, w_2)\n",
    "C_array = (solve((deriv_1C == 0, deriv_2C == 0), w_1, w_2))\n",
    "show(C_array)"
   ]
  },
  {
   "cell_type": "code",
   "execution_count": 95,
   "id": "christian-number",
   "metadata": {},
   "outputs": [
    {
     "data": {
      "text/plain": [
       "10"
      ]
     },
     "execution_count": 95,
     "metadata": {},
     "output_type": "execute_result"
    }
   ],
   "source": [
    "C_array[2][1].rhs()/C_array[2][0].rhs()"
   ]
  },
  {
   "cell_type": "code",
   "execution_count": 96,
   "id": "leading-newspaper",
   "metadata": {},
   "outputs": [
    {
     "data": {
      "text/plain": [
       "0"
      ]
     },
     "execution_count": 96,
     "metadata": {},
     "output_type": "execute_result"
    }
   ],
   "source": [
    "Pi_1_C.subs(w_1 == C_array[2][0].rhs(), w_2 == C_array[2][1].rhs())"
   ]
  },
  {
   "cell_type": "code",
   "execution_count": 97,
   "id": "toxic-advocate",
   "metadata": {},
   "outputs": [
    {
     "data": {
      "text/plain": [
       "0.480000000000000"
      ]
     },
     "execution_count": 97,
     "metadata": {},
     "output_type": "execute_result"
    }
   ],
   "source": [
    "Pi_2_C.subs(w_1 == C_array[2][0].rhs(), w_2 == C_array[2][1].rhs())"
   ]
  },
  {
   "cell_type": "markdown",
   "id": "rotary-punch",
   "metadata": {},
   "source": [
    "So wage pairing three in scenario C satisies the restrictions.\n",
    "\n",
    "For $\\beta = 1.5$ and $\\lambda = 0.8$:\\\n",
    "Firm 1 offers $w_1 = 1$\\\n",
    "Firm 2 offers $w_2 = 10$\\\n",
    "High type players apply to firm 1 with probability $\\pi_h = 0$\n",
    "Low type players apply to firm 1 with probability: $\\pi_l = 2.01858731750029e-16$"
   ]
  },
  {
   "cell_type": "code",
   "execution_count": 98,
   "id": "structural-intranet",
   "metadata": {},
   "outputs": [
    {
     "data": {
      "text/plain": [
       "0"
      ]
     },
     "execution_count": 98,
     "metadata": {},
     "output_type": "execute_result"
    }
   ],
   "source": [
    "pi_h_C = pi_h_c\n",
    "pi_h_C"
   ]
  },
  {
   "cell_type": "code",
   "execution_count": 99,
   "id": "alternative-cambodia",
   "metadata": {},
   "outputs": [
    {
     "data": {
      "text/plain": [
       "2.01858731750029e-16"
      ]
     },
     "execution_count": 99,
     "metadata": {},
     "output_type": "execute_result"
    }
   ],
   "source": [
    "pi_l_C = pi_l_c.subs(beta == 1.5, w_1 == C_array[2][0].rhs(), w_2 == C_array[2][1].rhs())\n",
    "pi_l_C"
   ]
  },
  {
   "cell_type": "code",
   "execution_count": 100,
   "id": "simple-slope",
   "metadata": {},
   "outputs": [
    {
     "data": {
      "text/plain": [
       "True"
      ]
     },
     "execution_count": 100,
     "metadata": {},
     "output_type": "execute_result"
    }
   ],
   "source": [
    "bool((0.8*w_1 + (1-0.8)).subs(w_1 == C_array[2][0].rhs())<(C_array[2][1].rhs()))"
   ]
  },
  {
   "cell_type": "markdown",
   "id": "surprising-potential",
   "metadata": {},
   "source": [
    "So the condition we wished to show ($\\lambda w_1 + (1-\\lambda) < w_2$) holds true."
   ]
  },
  {
   "cell_type": "markdown",
   "id": "democratic-conditioning",
   "metadata": {},
   "source": [
    "## Altering the Parameters\n",
    "\n",
    "We now decrease $\\beta$ and return $\\lambda$ to its original value.\\\n",
    "$Y = 1, \\beta = 1.1, \\lambda = 0.4$"
   ]
  },
  {
   "cell_type": "code",
   "execution_count": 101,
   "id": "adolescent-transition",
   "metadata": {},
   "outputs": [],
   "source": [
    "Pi_1 = (Prob_1_h_simp*(Y*beta - w_1) + Prob_1_l_simp*(Y-w_1)).subs(gamma == 0.4, Y == 1, beta == 1.1)\n",
    "Pi_2 = (Prob_2_h_simp*(Y*beta - w_1) + Prob_2_l_simp*(Y-w_1)).subs(gamma == 0.4, Y == 1, beta == 1.1)"
   ]
  },
  {
   "cell_type": "code",
   "execution_count": 102,
   "id": "imperial-justice",
   "metadata": {},
   "outputs": [],
   "source": [
    "pi_h_a = 1\n",
    "pi_h_b = pi_h_s.subs(gamma == 0.4)\n",
    "pi_h_c = 0\n",
    "pi_l_a = pi_1_s.subs(gamma == 0.4)\n",
    "pi_l_b = pi_l_s.subs(gamma == 0.4)\n",
    "pi_l_c = pi_2_s.subs(gamma == 0.4)\n",
    "Pi_1_A = Pi_1.subs(pi_h == pi_h_a, pi_l == pi_l_a)\n",
    "Pi_2_A = Pi_2.subs(pi_h == pi_h_a, pi_l == pi_l_a)\n",
    "Pi_1_B = Pi_1.subs(pi_h == pi_h_b, pi_l == pi_l_b)\n",
    "Pi_2_B = Pi_2.subs(pi_h == pi_h_b, pi_l == pi_l_b)\n",
    "Pi_1_C = Pi_1.subs(pi_h == pi_h_c, pi_l == pi_l_c)\n",
    "Pi_2_C = Pi_2.subs(pi_h == pi_h_c, pi_l == pi_l_c)"
   ]
  },
  {
   "cell_type": "code",
   "execution_count": 103,
   "id": "interested-roller",
   "metadata": {},
   "outputs": [
    {
     "data": {
      "text/plain": [
       "0.800000000000000*w_1 > w_2"
      ]
     },
     "execution_count": 103,
     "metadata": {},
     "output_type": "execute_result"
    }
   ],
   "source": [
    "scenA.subs(gamma == 0.4)"
   ]
  },
  {
   "cell_type": "code",
   "execution_count": 104,
   "id": "indie-priest",
   "metadata": {},
   "outputs": [
    {
     "data": {
      "text/plain": [
       "0.800000000000000*w_1 < w_2"
      ]
     },
     "execution_count": 104,
     "metadata": {},
     "output_type": "execute_result"
    }
   ],
   "source": [
    "scenB1.subs(gamma == 0.4)"
   ]
  },
  {
   "cell_type": "code",
   "execution_count": 105,
   "id": "young-clearing",
   "metadata": {},
   "outputs": [
    {
     "data": {
      "text/plain": [
       "0.800000000000000*w_2 < w_1"
      ]
     },
     "execution_count": 105,
     "metadata": {},
     "output_type": "execute_result"
    }
   ],
   "source": [
    "scenB2.subs(gamma == 0.4)"
   ]
  },
  {
   "cell_type": "code",
   "execution_count": 106,
   "id": "thirty-electron",
   "metadata": {},
   "outputs": [
    {
     "data": {
      "text/plain": [
       "w_1 < 0.800000000000000*w_2"
      ]
     },
     "execution_count": 106,
     "metadata": {},
     "output_type": "execute_result"
    }
   ],
   "source": [
    "scenC.subs(gamma == 0.4)"
   ]
  },
  {
   "cell_type": "markdown",
   "id": "municipal-database",
   "metadata": {},
   "source": [
    "So we can now write out the complete expected profit functions for each firm, dependent on $w_1$ and $w_2$:\n",
    "\n",
    "**firm 1:**\\\n",
    "$\\begin{equation}\n",
    "  \\Pi_1(w_1, w_2)=\\left\\{\n",
    "  \\begin{array}{@{}ll@{}}\n",
    "    \\Pi_1(A) & \\text{if } \\frac{w_2}{w_1} \\leq 0.8\\\\\n",
    "    \\Pi_1(B) & \\text{if } 1.25 > \\frac{w_2}{w_1} > 0.8\\\\\n",
    "    \\Pi_1(C) & \\text{if } \\frac{w_2}{w_1} \\geq 1.25\\\\\n",
    "  \\end{array}\\right.\n",
    "\\end{equation}$\n",
    "\n",
    "**firm 2:**\\\n",
    "$\\begin{equation}\n",
    "  \\Pi_2(w_1, w_2)=\\left\\{\n",
    "  \\begin{array}{@{}ll@{}}\n",
    "    \\Pi_2(A) & \\text{if } \\frac{w_2}{w_1} \\leq 0.8\\\\\n",
    "    \\Pi_2(B) & \\text{if } 1.25 > \\frac{w_2}{w_1} > 0.8\\\\\n",
    "    \\Pi_2(C) & \\text{if } \\frac{w_2}{w_1} \\geq 1.25\\\\\n",
    "  \\end{array}\\right.\n",
    "\\end{equation}$"
   ]
  },
  {
   "cell_type": "code",
   "execution_count": 107,
   "id": "creative-being",
   "metadata": {},
   "outputs": [
    {
     "data": {
      "text/html": [
       "<html><script type=\"math/tex; mode=display\">\\newcommand{\\Bold}[1]{\\mathbf{#1}}\\left[\\left[w_{1} = 0, w_{2} = \\left(-\\frac{52}{15}\\right)\\right], \\left[w_{1} = 0, w_{2} = 0\\right], \\left[w_{1} = 1, w_{2} = \\left(\\frac{8}{5}\\right)\\right], \\left[w_{1} = 1, w_{2} = \\left(-1\\right)\\right], \\left[w_{1} = 1, w_{2} = \\left(-\\frac{2}{15}\\right)\\right]\\right]</script></html>"
      ],
      "text/latex": [
       "\\begin{math}\n",
       "\\newcommand{\\Bold}[1]{\\mathbf{#1}}\\left[\\left[w_{1} = 0, w_{2} = \\left(-\\frac{52}{15}\\right)\\right], \\left[w_{1} = 0, w_{2} = 0\\right], \\left[w_{1} = 1, w_{2} = \\left(\\frac{8}{5}\\right)\\right], \\left[w_{1} = 1, w_{2} = \\left(-1\\right)\\right], \\left[w_{1} = 1, w_{2} = \\left(-\\frac{2}{15}\\right)\\right]\\right]\n",
       "\\end{math}"
      ],
      "text/plain": [
       "[[w_1 == 0, w_2 == (-52/15)], [w_1 == 0, w_2 == 0], [w_1 == 1, w_2 == (8/5)], [w_1 == 1, w_2 == -1], [w_1 == 1, w_2 == (-2/15)]]"
      ]
     },
     "metadata": {},
     "output_type": "display_data"
    }
   ],
   "source": [
    "deriv_1A = derivative(Pi_1_A, w_1)\n",
    "deriv_2A = derivative(Pi_2_A, w_2)\n",
    "A_array = (solve((deriv_1A == 0, deriv_2A == 0), w_1, w_2))\n",
    "show(A_array)"
   ]
  },
  {
   "cell_type": "code",
   "execution_count": 108,
   "id": "smooth-authority",
   "metadata": {},
   "outputs": [
    {
     "data": {
      "text/plain": [
       "8/5"
      ]
     },
     "execution_count": 108,
     "metadata": {},
     "output_type": "execute_result"
    }
   ],
   "source": [
    "(A_array[2][1].rhs())/(A_array[2][0].rhs())"
   ]
  },
  {
   "cell_type": "markdown",
   "id": "substantial-board",
   "metadata": {},
   "source": [
    "Wage pairing three violates the restrictions for scenario A ($\\frac{w_2}{w_1} \\leq 0.8$)."
   ]
  },
  {
   "cell_type": "code",
   "execution_count": 109,
   "id": "greenhouse-sleep",
   "metadata": {},
   "outputs": [
    {
     "data": {
      "text/html": [
       "<html><script type=\"math/tex; mode=display\">\\newcommand{\\Bold}[1]{\\mathbf{#1}}\\left[\\left[w_{1} = 0, w_{2} = 0\\right], \\left[w_{1} = 0, w_{2} = \\left(\\frac{234}{125}\\right)\\right], \\left[w_{1} = \\left(-\\frac{3604}{275}\\right), w_{2} = \\left(-\\frac{106}{125}\\right)\\right], \\left[w_{1} = \\left(\\frac{287}{125}\\right), w_{2} = \\left(-\\frac{287}{125}\\right)\\right]\\right]</script></html>"
      ],
      "text/latex": [
       "\\begin{math}\n",
       "\\newcommand{\\Bold}[1]{\\mathbf{#1}}\\left[\\left[w_{1} = 0, w_{2} = 0\\right], \\left[w_{1} = 0, w_{2} = \\left(\\frac{234}{125}\\right)\\right], \\left[w_{1} = \\left(-\\frac{3604}{275}\\right), w_{2} = \\left(-\\frac{106}{125}\\right)\\right], \\left[w_{1} = \\left(\\frac{287}{125}\\right), w_{2} = \\left(-\\frac{287}{125}\\right)\\right]\\right]\n",
       "\\end{math}"
      ],
      "text/plain": [
       "[[w_1 == 0, w_2 == 0], [w_1 == 0, w_2 == (234/125)], [w_1 == (-3604/275), w_2 == (-106/125)], [w_1 == (287/125), w_2 == (-287/125)]]"
      ]
     },
     "metadata": {},
     "output_type": "display_data"
    }
   ],
   "source": [
    "deriv_1B = derivative(Pi_1_B, w_1)\n",
    "deriv_2B = derivative(Pi_2_B, w_2)\n",
    "B_array = (solve((deriv_1B == 0, deriv_2B == 0), w_1, w_2))\n",
    "show(B_array)"
   ]
  },
  {
   "cell_type": "markdown",
   "id": "mounted-merchant",
   "metadata": {},
   "source": [
    "This provides us with the same solution as the original scenario."
   ]
  },
  {
   "cell_type": "code",
   "execution_count": 110,
   "id": "thrown-resistance",
   "metadata": {},
   "outputs": [
    {
     "data": {
      "text/html": [
       "<html><script type=\"math/tex; mode=display\">\\newcommand{\\Bold}[1]{\\mathbf{#1}}\\left[\\left[w_{1} = 0, w_{2} = 0\\right], \\left[w_{1} = 0, w_{2} = \\left(-\\frac{16}{3}\\right)\\right], \\left[w_{1} = 1, w_{2} = \\left(\\frac{10}{3}\\right)\\right], \\left[w_{1} = 1, w_{2} = 0\\right], \\left[w_{1} = 1, w_{2} = \\left(-1\\right)\\right]\\right]</script></html>"
      ],
      "text/latex": [
       "\\begin{math}\n",
       "\\newcommand{\\Bold}[1]{\\mathbf{#1}}\\left[\\left[w_{1} = 0, w_{2} = 0\\right], \\left[w_{1} = 0, w_{2} = \\left(-\\frac{16}{3}\\right)\\right], \\left[w_{1} = 1, w_{2} = \\left(\\frac{10}{3}\\right)\\right], \\left[w_{1} = 1, w_{2} = 0\\right], \\left[w_{1} = 1, w_{2} = \\left(-1\\right)\\right]\\right]\n",
       "\\end{math}"
      ],
      "text/plain": [
       "[[w_1 == 0, w_2 == 0], [w_1 == 0, w_2 == (-16/3)], [w_1 == 1, w_2 == (10/3)], [w_1 == 1, w_2 == 0], [w_1 == 1, w_2 == -1]]"
      ]
     },
     "metadata": {},
     "output_type": "display_data"
    }
   ],
   "source": [
    "deriv_1C = derivative(Pi_1_C, w_1)\n",
    "deriv_2C = derivative(Pi_2_C, w_2)\n",
    "C_array = (solve((deriv_1C == 0, deriv_2C == 0), w_1, w_2))\n",
    "show(C_array)"
   ]
  },
  {
   "cell_type": "code",
   "execution_count": 111,
   "id": "double-miniature",
   "metadata": {},
   "outputs": [
    {
     "data": {
      "text/plain": [
       "10/3"
      ]
     },
     "execution_count": 111,
     "metadata": {},
     "output_type": "execute_result"
    }
   ],
   "source": [
    "C_array[2][1].rhs()/C_array[2][0].rhs()"
   ]
  },
  {
   "cell_type": "markdown",
   "id": "durable-conditioning",
   "metadata": {},
   "source": [
    "None of the wage pairings in scenario C are without violating restrictions.\n",
    "\n",
    "So, there is no pure strategy equilibrium in this setting."
   ]
  },
  {
   "cell_type": "markdown",
   "id": "roman-israeli",
   "metadata": {},
   "source": [
    "## Altering the Parameters\n",
    "\n",
    "We now reduce the base earnings for low workers, $Y$ from 1, such that $Y = 0.5$. We set $\\beta = 1.5$ and $\\lambda = 0.4$.\\"
   ]
  },
  {
   "cell_type": "code",
   "execution_count": 112,
   "id": "traditional-texture",
   "metadata": {},
   "outputs": [],
   "source": [
    "Pi_1 = (Prob_1_h_simp*(Y*beta - w_1) + Prob_1_l_simp*(Y-w_1)).subs(gamma == 0.4, Y == 0.5, beta == 1.5)\n",
    "Pi_2 = (Prob_2_h_simp*(Y*beta - w_1) + Prob_2_l_simp*(Y-w_1)).subs(gamma == 0.4, Y == 0.5, beta == 1.5)"
   ]
  },
  {
   "cell_type": "code",
   "execution_count": 113,
   "id": "supported-north",
   "metadata": {},
   "outputs": [],
   "source": [
    "pi_h_a = 1\n",
    "pi_h_b = pi_h_s.subs(gamma == 0.4)\n",
    "pi_h_c = 0\n",
    "pi_l_a = pi_1_s.subs(gamma == 0.4)\n",
    "pi_l_b = pi_l_s.subs(gamma == 0.4)\n",
    "pi_l_c = pi_2_s.subs(gamma == 0.4)\n",
    "Pi_1_A = Pi_1.subs(pi_h == pi_h_a, pi_l == pi_l_a)\n",
    "Pi_2_A = Pi_2.subs(pi_h == pi_h_a, pi_l == pi_l_a)\n",
    "Pi_1_B = Pi_1.subs(pi_h == pi_h_b, pi_l == pi_l_b)\n",
    "Pi_2_B = Pi_2.subs(pi_h == pi_h_b, pi_l == pi_l_b)\n",
    "Pi_1_C = Pi_1.subs(pi_h == pi_h_c, pi_l == pi_l_c)\n",
    "Pi_2_C = Pi_2.subs(pi_h == pi_h_c, pi_l == pi_l_c)"
   ]
  },
  {
   "cell_type": "code",
   "execution_count": 114,
   "id": "satisfactory-employee",
   "metadata": {},
   "outputs": [
    {
     "data": {
      "text/plain": [
       "0.800000000000000*w_1 > w_2"
      ]
     },
     "execution_count": 114,
     "metadata": {},
     "output_type": "execute_result"
    }
   ],
   "source": [
    "scenA.subs(gamma == 0.4)"
   ]
  },
  {
   "cell_type": "code",
   "execution_count": 115,
   "id": "utility-rough",
   "metadata": {},
   "outputs": [
    {
     "data": {
      "text/plain": [
       "0.800000000000000*w_1 < w_2"
      ]
     },
     "execution_count": 115,
     "metadata": {},
     "output_type": "execute_result"
    }
   ],
   "source": [
    "scenB1.subs(gamma == 0.4)"
   ]
  },
  {
   "cell_type": "code",
   "execution_count": 116,
   "id": "designing-accordance",
   "metadata": {},
   "outputs": [
    {
     "data": {
      "text/plain": [
       "0.800000000000000*w_2 < w_1"
      ]
     },
     "execution_count": 116,
     "metadata": {},
     "output_type": "execute_result"
    }
   ],
   "source": [
    "scenB2.subs(gamma == 0.4)"
   ]
  },
  {
   "cell_type": "code",
   "execution_count": 117,
   "id": "competitive-graham",
   "metadata": {},
   "outputs": [
    {
     "data": {
      "text/plain": [
       "w_1 < 0.800000000000000*w_2"
      ]
     },
     "execution_count": 117,
     "metadata": {},
     "output_type": "execute_result"
    }
   ],
   "source": [
    "scenC.subs(gamma == 0.4)"
   ]
  },
  {
   "cell_type": "markdown",
   "id": "powered-genesis",
   "metadata": {},
   "source": [
    "So we can now write out the complete expected profit functions for each firm, dependent on $w_1$ and $w_2$:\n",
    "\n",
    "**firm 1:**\\\n",
    "$\\begin{equation}\n",
    "  \\Pi_1(w_1, w_2)=\\left\\{\n",
    "  \\begin{array}{@{}ll@{}}\n",
    "    \\Pi_1(A) & \\text{if } \\frac{w_2}{w_1} \\leq 0.8\\\\\n",
    "    \\Pi_1(B) & \\text{if } 1.25 > \\frac{w_2}{w_1} > 0.8\\\\\n",
    "    \\Pi_1(C) & \\text{if } \\frac{w_2}{w_1} \\geq 1.25\\\\\n",
    "  \\end{array}\\right.\n",
    "\\end{equation}$\n",
    "\n",
    "**firm 2:**\\\n",
    "$\\begin{equation}\n",
    "  \\Pi_2(w_1, w_2)=\\left\\{\n",
    "  \\begin{array}{@{}ll@{}}\n",
    "    \\Pi_2(A) & \\text{if } \\frac{w_2}{w_1} \\leq 0.8\\\\\n",
    "    \\Pi_2(B) & \\text{if } 1.25 > \\frac{w_2}{w_1} > 0.8\\\\\n",
    "    \\Pi_2(C) & \\text{if } \\frac{w_2}{w_1} \\geq 1.25\\\\\n",
    "  \\end{array}\\right.\n",
    "\\end{equation}$"
   ]
  },
  {
   "cell_type": "code",
   "execution_count": 118,
   "id": "satisfied-premiere",
   "metadata": {},
   "outputs": [
    {
     "data": {
      "text/html": [
       "<html><script type=\"math/tex; mode=display\">\\newcommand{\\Bold}[1]{\\mathbf{#1}}\\left[\\left[w_{1} = 0, w_{2} = \\left(-\\frac{26}{15}\\right)\\right], \\left[w_{1} = 0, w_{2} = 0\\right], \\left[w_{1} = \\left(\\frac{1}{2}\\right), w_{2} = \\left(\\frac{4}{5}\\right)\\right], \\left[w_{1} = \\left(\\frac{1}{2}\\right), w_{2} = \\left(-\\frac{1}{2}\\right)\\right], \\left[w_{1} = \\left(\\frac{1}{2}\\right), w_{2} = \\left(-\\frac{1}{15}\\right)\\right]\\right]</script></html>"
      ],
      "text/latex": [
       "\\begin{math}\n",
       "\\newcommand{\\Bold}[1]{\\mathbf{#1}}\\left[\\left[w_{1} = 0, w_{2} = \\left(-\\frac{26}{15}\\right)\\right], \\left[w_{1} = 0, w_{2} = 0\\right], \\left[w_{1} = \\left(\\frac{1}{2}\\right), w_{2} = \\left(\\frac{4}{5}\\right)\\right], \\left[w_{1} = \\left(\\frac{1}{2}\\right), w_{2} = \\left(-\\frac{1}{2}\\right)\\right], \\left[w_{1} = \\left(\\frac{1}{2}\\right), w_{2} = \\left(-\\frac{1}{15}\\right)\\right]\\right]\n",
       "\\end{math}"
      ],
      "text/plain": [
       "[[w_1 == 0, w_2 == (-26/15)], [w_1 == 0, w_2 == 0], [w_1 == (1/2), w_2 == (4/5)], [w_1 == (1/2), w_2 == (-1/2)], [w_1 == (1/2), w_2 == (-1/15)]]"
      ]
     },
     "metadata": {},
     "output_type": "display_data"
    }
   ],
   "source": [
    "deriv_1A = derivative(Pi_1_A, w_1)\n",
    "deriv_2A = derivative(Pi_2_A, w_2)\n",
    "A_array = (solve((deriv_1A == 0, deriv_2A == 0), w_1, w_2))\n",
    "show(A_array)"
   ]
  },
  {
   "cell_type": "code",
   "execution_count": 119,
   "id": "continental-hands",
   "metadata": {},
   "outputs": [
    {
     "data": {
      "text/plain": [
       "False"
      ]
     },
     "execution_count": 119,
     "metadata": {},
     "output_type": "execute_result"
    }
   ],
   "source": [
    "bool([(A_array[2][1].rhs())/(A_array[2][0].rhs())] < [0.8])"
   ]
  },
  {
   "cell_type": "markdown",
   "id": "practical-shooting",
   "metadata": {},
   "source": [
    "Wage pairing three violates the restrictions for scenario A ($\\frac{w_2}{w_1} \\leq 0.8$)."
   ]
  },
  {
   "cell_type": "code",
   "execution_count": 120,
   "id": "practical-inclusion",
   "metadata": {},
   "outputs": [
    {
     "data": {
      "text/html": [
       "<html><script type=\"math/tex; mode=display\">\\newcommand{\\Bold}[1]{\\mathbf{#1}}\\left[\\left[w_{1} = 0, w_{2} = 0\\right], \\left[w_{1} = 0, w_{2} = \\left(\\frac{117}{25}\\right)\\right], \\left[w_{1} = \\left(\\frac{187}{50}\\right), w_{2} = \\left(-\\frac{187}{50}\\right)\\right], \\left[w_{1} = \\left(\\frac{658}{1055}\\right), w_{2} = \\left(\\frac{47}{25}\\right)\\right]\\right]</script></html>"
      ],
      "text/latex": [
       "\\begin{math}\n",
       "\\newcommand{\\Bold}[1]{\\mathbf{#1}}\\left[\\left[w_{1} = 0, w_{2} = 0\\right], \\left[w_{1} = 0, w_{2} = \\left(\\frac{117}{25}\\right)\\right], \\left[w_{1} = \\left(\\frac{187}{50}\\right), w_{2} = \\left(-\\frac{187}{50}\\right)\\right], \\left[w_{1} = \\left(\\frac{658}{1055}\\right), w_{2} = \\left(\\frac{47}{25}\\right)\\right]\\right]\n",
       "\\end{math}"
      ],
      "text/plain": [
       "[[w_1 == 0, w_2 == 0], [w_1 == 0, w_2 == (117/25)], [w_1 == (187/50), w_2 == (-187/50)], [w_1 == (658/1055), w_2 == (47/25)]]"
      ]
     },
     "metadata": {},
     "output_type": "display_data"
    }
   ],
   "source": [
    "deriv_1B = derivative(Pi_1_B, w_1)\n",
    "deriv_2B = derivative(Pi_2_B, w_2)\n",
    "B_array = (solve((deriv_1B == 0, deriv_2B == 0), w_1, w_2))\n",
    "show(B_array)"
   ]
  },
  {
   "cell_type": "code",
   "execution_count": 121,
   "id": "liquid-version",
   "metadata": {},
   "outputs": [
    {
     "data": {
      "text/plain": [
       "False"
      ]
     },
     "execution_count": 121,
     "metadata": {},
     "output_type": "execute_result"
    }
   ],
   "source": [
    "bool([(B_array[3][1].rhs())/(B_array[3][0].rhs())] < [1.25])"
   ]
  },
  {
   "cell_type": "markdown",
   "id": "sonic-isolation",
   "metadata": {},
   "source": [
    "Wage pairing four violates the restrictions for scenario B ($\\frac{w_2}{w_1} \\leq 1.25$)."
   ]
  },
  {
   "cell_type": "code",
   "execution_count": 122,
   "id": "purple-racing",
   "metadata": {},
   "outputs": [
    {
     "data": {
      "text/html": [
       "<html><script type=\"math/tex; mode=display\">\\newcommand{\\Bold}[1]{\\mathbf{#1}}\\left[\\left[w_{1} = 0, w_{2} = 0\\right], \\left[w_{1} = 0, w_{2} = \\left(-\\frac{8}{3}\\right)\\right], \\left[w_{1} = \\left(\\frac{1}{2}\\right), w_{2} = \\left(\\frac{5}{3}\\right)\\right], \\left[w_{1} = \\left(\\frac{1}{2}\\right), w_{2} = 0\\right], \\left[w_{1} = \\left(\\frac{1}{2}\\right), w_{2} = \\left(-\\frac{1}{2}\\right)\\right]\\right]</script></html>"
      ],
      "text/latex": [
       "\\begin{math}\n",
       "\\newcommand{\\Bold}[1]{\\mathbf{#1}}\\left[\\left[w_{1} = 0, w_{2} = 0\\right], \\left[w_{1} = 0, w_{2} = \\left(-\\frac{8}{3}\\right)\\right], \\left[w_{1} = \\left(\\frac{1}{2}\\right), w_{2} = \\left(\\frac{5}{3}\\right)\\right], \\left[w_{1} = \\left(\\frac{1}{2}\\right), w_{2} = 0\\right], \\left[w_{1} = \\left(\\frac{1}{2}\\right), w_{2} = \\left(-\\frac{1}{2}\\right)\\right]\\right]\n",
       "\\end{math}"
      ],
      "text/plain": [
       "[[w_1 == 0, w_2 == 0], [w_1 == 0, w_2 == (-8/3)], [w_1 == (1/2), w_2 == (5/3)], [w_1 == (1/2), w_2 == 0], [w_1 == (1/2), w_2 == (-1/2)]]"
      ]
     },
     "metadata": {},
     "output_type": "display_data"
    }
   ],
   "source": [
    "deriv_1C = derivative(Pi_1_C, w_1)\n",
    "deriv_2C = derivative(Pi_2_C, w_2)\n",
    "C_array = (solve((deriv_1C == 0, deriv_2C == 0), w_1, w_2))\n",
    "show(C_array)"
   ]
  },
  {
   "cell_type": "code",
   "execution_count": 123,
   "id": "cordless-turkish",
   "metadata": {},
   "outputs": [
    {
     "data": {
      "text/plain": [
       "True"
      ]
     },
     "execution_count": 123,
     "metadata": {},
     "output_type": "execute_result"
    }
   ],
   "source": [
    "bool([C_array[2][1].rhs()/C_array[2][0].rhs()] > [1.25])"
   ]
  },
  {
   "cell_type": "markdown",
   "id": "fifteen-poland",
   "metadata": {},
   "source": [
    "So wage pairing three in scenario C satisfies the restritions. We now establish the firms' profits."
   ]
  },
  {
   "cell_type": "code",
   "execution_count": 124,
   "id": "upper-photography",
   "metadata": {},
   "outputs": [
    {
     "data": {
      "text/plain": [
       "-0.000000000000000"
      ]
     },
     "execution_count": 124,
     "metadata": {},
     "output_type": "execute_result"
    }
   ],
   "source": [
    "Pi_1_C.subs(w_1 == C_array[2][0].rhs(), w_2 == C_array[2][1].rhs())"
   ]
  },
  {
   "cell_type": "code",
   "execution_count": 125,
   "id": "going-clone",
   "metadata": {},
   "outputs": [
    {
     "data": {
      "text/plain": [
       "0.160000000000000"
      ]
     },
     "execution_count": 125,
     "metadata": {},
     "output_type": "execute_result"
    }
   ],
   "source": [
    "Pi_2_C.subs(w_1 == C_array[2][0].rhs(), w_2 == C_array[2][1].rhs())"
   ]
  },
  {
   "cell_type": "markdown",
   "id": "figured-distributor",
   "metadata": {},
   "source": [
    "We find firm 1 makes zero profit, and firm 2 makes positive profit.\n",
    "\n",
    "We thus have the following solution:\n",
    "\n",
    "For $Y = 0.5, \\beta = 1.5$ and $\\lambda = 0.4$:\\\n",
    "Firm 1 offers $w_1 = 0.5$\\\n",
    "Firm 2 offers $w_2 = \\frac{5}{3}$\\\n",
    "High type players apply to firm 1 with probability $\\pi_h = 0$\n",
    "Low type players apply to firm 1 with probability: $\\pi_l = 0$"
   ]
  },
  {
   "cell_type": "code",
   "execution_count": 126,
   "id": "incoming-broad",
   "metadata": {},
   "outputs": [
    {
     "data": {
      "text/plain": [
       "0"
      ]
     },
     "execution_count": 126,
     "metadata": {},
     "output_type": "execute_result"
    }
   ],
   "source": [
    "pi_h_C = pi_h_c\n",
    "pi_h_C"
   ]
  },
  {
   "cell_type": "code",
   "execution_count": 127,
   "id": "tropical-georgia",
   "metadata": {
    "scrolled": true
   },
   "outputs": [
    {
     "data": {
      "text/plain": [
       "0.000000000000000"
      ]
     },
     "execution_count": 127,
     "metadata": {},
     "output_type": "execute_result"
    }
   ],
   "source": [
    "pi_l_C = pi_l_c.subs(w_1 == C_array[2][0].rhs(), w_2 == C_array[2][1].rhs())\n",
    "pi_l_C"
   ]
  },
  {
   "cell_type": "code",
   "execution_count": 128,
   "id": "vulnerable-plumbing",
   "metadata": {},
   "outputs": [
    {
     "data": {
      "text/plain": [
       "True"
      ]
     },
     "execution_count": 128,
     "metadata": {},
     "output_type": "execute_result"
    }
   ],
   "source": [
    "bool((0.4*w_1 + (1-0.4)).subs(w_1 == C_array[2][0].rhs())<(C_array[2][1].rhs()))"
   ]
  },
  {
   "cell_type": "markdown",
   "id": "sustained-fisher",
   "metadata": {},
   "source": [
    "So we again find the condition we wished to prove (reversing firms 1 and 2 since firm 2 has the larger revenue)."
   ]
  },
  {
   "cell_type": "markdown",
   "id": "premium-catalyst",
   "metadata": {},
   "source": [
    "## Altering the Parameters\n",
    "\n",
    "We now keep everything as before, but increase the value of $beta$, that is we increase the skill difference between low and high type workers.\\\n",
    "So we have $Y = 0.5, \\beta = 2$ and $\\lambda = 0.4$.\\"
   ]
  },
  {
   "cell_type": "code",
   "execution_count": 129,
   "id": "incorrect-green",
   "metadata": {},
   "outputs": [],
   "source": [
    "Pi_1 = (Prob_1_h_simp*(Y*beta - w_1) + Prob_1_l_simp*(Y-w_1)).subs(gamma == 0.4, Y == 0.5, beta == 2)\n",
    "Pi_2 = (Prob_2_h_simp*(Y*beta - w_1) + Prob_2_l_simp*(Y-w_1)).subs(gamma == 0.4, Y == 0.5, beta == 2)"
   ]
  },
  {
   "cell_type": "code",
   "execution_count": 130,
   "id": "chronic-version",
   "metadata": {},
   "outputs": [],
   "source": [
    "pi_h_a = 1\n",
    "pi_h_b = pi_h_s.subs(gamma == 0.4)\n",
    "pi_h_c = 0\n",
    "pi_l_a = pi_1_s.subs(gamma == 0.4)\n",
    "pi_l_b = pi_l_s.subs(gamma == 0.4)\n",
    "pi_l_c = pi_2_s.subs(gamma == 0.4)\n",
    "Pi_1_A = Pi_1.subs(pi_h == pi_h_a, pi_l == pi_l_a)\n",
    "Pi_2_A = Pi_2.subs(pi_h == pi_h_a, pi_l == pi_l_a)\n",
    "Pi_1_B = Pi_1.subs(pi_h == pi_h_b, pi_l == pi_l_b)\n",
    "Pi_2_B = Pi_2.subs(pi_h == pi_h_b, pi_l == pi_l_b)\n",
    "Pi_1_C = Pi_1.subs(pi_h == pi_h_c, pi_l == pi_l_c)\n",
    "Pi_2_C = Pi_2.subs(pi_h == pi_h_c, pi_l == pi_l_c)"
   ]
  },
  {
   "cell_type": "code",
   "execution_count": 131,
   "id": "latter-nursery",
   "metadata": {},
   "outputs": [
    {
     "data": {
      "text/plain": [
       "0.800000000000000*w_1 > w_2"
      ]
     },
     "execution_count": 131,
     "metadata": {},
     "output_type": "execute_result"
    }
   ],
   "source": [
    "scenA.subs(gamma == 0.4)"
   ]
  },
  {
   "cell_type": "code",
   "execution_count": 132,
   "id": "green-rebecca",
   "metadata": {},
   "outputs": [
    {
     "data": {
      "text/plain": [
       "0.800000000000000*w_1 < w_2"
      ]
     },
     "execution_count": 132,
     "metadata": {},
     "output_type": "execute_result"
    }
   ],
   "source": [
    "scenB1.subs(gamma == 0.4)"
   ]
  },
  {
   "cell_type": "code",
   "execution_count": 133,
   "id": "bridal-minister",
   "metadata": {},
   "outputs": [
    {
     "data": {
      "text/plain": [
       "0.800000000000000*w_2 < w_1"
      ]
     },
     "execution_count": 133,
     "metadata": {},
     "output_type": "execute_result"
    }
   ],
   "source": [
    "scenB2.subs(gamma == 0.4)"
   ]
  },
  {
   "cell_type": "code",
   "execution_count": 134,
   "id": "meaningful-drawing",
   "metadata": {},
   "outputs": [
    {
     "data": {
      "text/plain": [
       "w_1 < 0.800000000000000*w_2"
      ]
     },
     "execution_count": 134,
     "metadata": {},
     "output_type": "execute_result"
    }
   ],
   "source": [
    "scenC.subs(gamma == 0.4)"
   ]
  },
  {
   "cell_type": "markdown",
   "id": "subsequent-relay",
   "metadata": {},
   "source": [
    "So we can now write out the complete expected profit functions for each firm, dependent on $w_1$ and $w_2$:\n",
    "\n",
    "**firm 1:**\\\n",
    "$\\begin{equation}\n",
    "  \\Pi_1(w_1, w_2)=\\left\\{\n",
    "  \\begin{array}{@{}ll@{}}\n",
    "    \\Pi_1(A) & \\text{if } \\frac{w_2}{w_1} \\leq 0.8\\\\\n",
    "    \\Pi_1(B) & \\text{if } 1.25 > \\frac{w_2}{w_1} > 0.8\\\\\n",
    "    \\Pi_1(C) & \\text{if } \\frac{w_2}{w_1} \\geq 1.25\\\\\n",
    "  \\end{array}\\right.\n",
    "\\end{equation}$\n",
    "\n",
    "**firm 2:**\\\n",
    "$\\begin{equation}\n",
    "  \\Pi_2(w_1, w_2)=\\left\\{\n",
    "  \\begin{array}{@{}ll@{}}\n",
    "    \\Pi_2(A) & \\text{if } \\frac{w_2}{w_1} \\leq 0.8\\\\\n",
    "    \\Pi_2(B) & \\text{if } 1.25 > \\frac{w_2}{w_1} > 0.8\\\\\n",
    "    \\Pi_2(C) & \\text{if } \\frac{w_2}{w_1} \\geq 1.25\\\\\n",
    "  \\end{array}\\right.\n",
    "\\end{equation}$"
   ]
  },
  {
   "cell_type": "code",
   "execution_count": 135,
   "id": "approved-circulation",
   "metadata": {},
   "outputs": [
    {
     "data": {
      "text/html": [
       "<html><script type=\"math/tex; mode=display\">\\newcommand{\\Bold}[1]{\\mathbf{#1}}\\left[\\left[w_{1} = 0, w_{2} = \\left(-\\frac{26}{15}\\right)\\right], \\left[w_{1} = 0, w_{2} = 0\\right], \\left[w_{1} = \\left(\\frac{1}{2}\\right), w_{2} = \\left(\\frac{4}{5}\\right)\\right], \\left[w_{1} = \\left(\\frac{1}{2}\\right), w_{2} = \\left(-\\frac{1}{2}\\right)\\right], \\left[w_{1} = \\left(\\frac{1}{2}\\right), w_{2} = \\left(-\\frac{1}{15}\\right)\\right]\\right]</script></html>"
      ],
      "text/latex": [
       "\\begin{math}\n",
       "\\newcommand{\\Bold}[1]{\\mathbf{#1}}\\left[\\left[w_{1} = 0, w_{2} = \\left(-\\frac{26}{15}\\right)\\right], \\left[w_{1} = 0, w_{2} = 0\\right], \\left[w_{1} = \\left(\\frac{1}{2}\\right), w_{2} = \\left(\\frac{4}{5}\\right)\\right], \\left[w_{1} = \\left(\\frac{1}{2}\\right), w_{2} = \\left(-\\frac{1}{2}\\right)\\right], \\left[w_{1} = \\left(\\frac{1}{2}\\right), w_{2} = \\left(-\\frac{1}{15}\\right)\\right]\\right]\n",
       "\\end{math}"
      ],
      "text/plain": [
       "[[w_1 == 0, w_2 == (-26/15)], [w_1 == 0, w_2 == 0], [w_1 == (1/2), w_2 == (4/5)], [w_1 == (1/2), w_2 == (-1/2)], [w_1 == (1/2), w_2 == (-1/15)]]"
      ]
     },
     "metadata": {},
     "output_type": "display_data"
    }
   ],
   "source": [
    "deriv_1A = derivative(Pi_1_A, w_1)\n",
    "deriv_2A = derivative(Pi_2_A, w_2)\n",
    "A_array = (solve((deriv_1A == 0, deriv_2A == 0), w_1, w_2))\n",
    "show(A_array)"
   ]
  },
  {
   "cell_type": "code",
   "execution_count": 136,
   "id": "small-interview",
   "metadata": {},
   "outputs": [
    {
     "data": {
      "text/plain": [
       "False"
      ]
     },
     "execution_count": 136,
     "metadata": {},
     "output_type": "execute_result"
    }
   ],
   "source": [
    "bool([(A_array[2][1].rhs())/(A_array[2][0].rhs())] < [0.8])"
   ]
  },
  {
   "cell_type": "markdown",
   "id": "subject-clinic",
   "metadata": {},
   "source": [
    "Wage pairing three violates the restrictions for scenario A ($\\frac{w_2}{w_1} \\leq 0.8$)."
   ]
  },
  {
   "cell_type": "code",
   "execution_count": 137,
   "id": "shaped-percentage",
   "metadata": {},
   "outputs": [
    {
     "data": {
      "text/html": [
       "<html><script type=\"math/tex; mode=display\">\\newcommand{\\Bold}[1]{\\mathbf{#1}}\\left[\\left[w_{1} = 0, w_{2} = 0\\right], \\left[w_{1} = 0, w_{2} = \\left(\\frac{234}{25}\\right)\\right], \\left[w_{1} = \\left(\\frac{349}{50}\\right), w_{2} = \\left(-\\frac{349}{50}\\right)\\right], \\left[w_{1} = \\left(\\frac{2737}{2360}\\right), w_{2} = \\left(\\frac{119}{25}\\right)\\right]\\right]</script></html>"
      ],
      "text/latex": [
       "\\begin{math}\n",
       "\\newcommand{\\Bold}[1]{\\mathbf{#1}}\\left[\\left[w_{1} = 0, w_{2} = 0\\right], \\left[w_{1} = 0, w_{2} = \\left(\\frac{234}{25}\\right)\\right], \\left[w_{1} = \\left(\\frac{349}{50}\\right), w_{2} = \\left(-\\frac{349}{50}\\right)\\right], \\left[w_{1} = \\left(\\frac{2737}{2360}\\right), w_{2} = \\left(\\frac{119}{25}\\right)\\right]\\right]\n",
       "\\end{math}"
      ],
      "text/plain": [
       "[[w_1 == 0, w_2 == 0], [w_1 == 0, w_2 == (234/25)], [w_1 == (349/50), w_2 == (-349/50)], [w_1 == (2737/2360), w_2 == (119/25)]]"
      ]
     },
     "metadata": {},
     "output_type": "display_data"
    }
   ],
   "source": [
    "deriv_1B = derivative(Pi_1_B, w_1)\n",
    "deriv_2B = derivative(Pi_2_B, w_2)\n",
    "B_array = (solve((deriv_1B == 0, deriv_2B == 0), w_1, w_2))\n",
    "show(B_array)"
   ]
  },
  {
   "cell_type": "code",
   "execution_count": 138,
   "id": "lovely-entertainment",
   "metadata": {},
   "outputs": [
    {
     "data": {
      "text/plain": [
       "False"
      ]
     },
     "execution_count": 138,
     "metadata": {},
     "output_type": "execute_result"
    }
   ],
   "source": [
    "bool([(B_array[3][1].rhs())/(B_array[3][0].rhs())] < [1.25])"
   ]
  },
  {
   "cell_type": "markdown",
   "id": "unnecessary-hospital",
   "metadata": {},
   "source": [
    "Wage pairing four violates the restrictions for scenario B ($\\frac{w_2}{w_1} \\leq 1.25$)."
   ]
  },
  {
   "cell_type": "code",
   "execution_count": 139,
   "id": "invisible-amazon",
   "metadata": {},
   "outputs": [
    {
     "data": {
      "text/html": [
       "<html><script type=\"math/tex; mode=display\">\\newcommand{\\Bold}[1]{\\mathbf{#1}}\\left[\\left[w_{1} = 0, w_{2} = 0\\right], \\left[w_{1} = 0, w_{2} = \\left(-\\frac{8}{3}\\right)\\right], \\left[w_{1} = \\left(\\frac{1}{2}\\right), w_{2} = \\left(\\frac{5}{3}\\right)\\right], \\left[w_{1} = \\left(\\frac{1}{2}\\right), w_{2} = 0\\right], \\left[w_{1} = \\left(\\frac{1}{2}\\right), w_{2} = \\left(-\\frac{1}{2}\\right)\\right]\\right]</script></html>"
      ],
      "text/latex": [
       "\\begin{math}\n",
       "\\newcommand{\\Bold}[1]{\\mathbf{#1}}\\left[\\left[w_{1} = 0, w_{2} = 0\\right], \\left[w_{1} = 0, w_{2} = \\left(-\\frac{8}{3}\\right)\\right], \\left[w_{1} = \\left(\\frac{1}{2}\\right), w_{2} = \\left(\\frac{5}{3}\\right)\\right], \\left[w_{1} = \\left(\\frac{1}{2}\\right), w_{2} = 0\\right], \\left[w_{1} = \\left(\\frac{1}{2}\\right), w_{2} = \\left(-\\frac{1}{2}\\right)\\right]\\right]\n",
       "\\end{math}"
      ],
      "text/plain": [
       "[[w_1 == 0, w_2 == 0], [w_1 == 0, w_2 == (-8/3)], [w_1 == (1/2), w_2 == (5/3)], [w_1 == (1/2), w_2 == 0], [w_1 == (1/2), w_2 == (-1/2)]]"
      ]
     },
     "metadata": {},
     "output_type": "display_data"
    }
   ],
   "source": [
    "deriv_1C = derivative(Pi_1_C, w_1)\n",
    "deriv_2C = derivative(Pi_2_C, w_2)\n",
    "C_array = (solve((deriv_1C == 0, deriv_2C == 0), w_1, w_2))\n",
    "show(C_array)"
   ]
  },
  {
   "cell_type": "code",
   "execution_count": 140,
   "id": "criminal-contemporary",
   "metadata": {},
   "outputs": [
    {
     "data": {
      "text/plain": [
       "True"
      ]
     },
     "execution_count": 140,
     "metadata": {},
     "output_type": "execute_result"
    }
   ],
   "source": [
    "bool([C_array[2][1].rhs()/C_array[2][0].rhs()] > [1.25])"
   ]
  },
  {
   "cell_type": "markdown",
   "id": "composed-royalty",
   "metadata": {},
   "source": [
    "So, as in the previous model, wage pairing three in scenario C satisfies the restritions. We now establish the firms' profits."
   ]
  },
  {
   "cell_type": "code",
   "execution_count": 141,
   "id": "orange-building",
   "metadata": {},
   "outputs": [
    {
     "data": {
      "text/plain": [
       "-0.000000000000000"
      ]
     },
     "execution_count": 141,
     "metadata": {},
     "output_type": "execute_result"
    }
   ],
   "source": [
    "Pi_1_C.subs(w_1 == C_array[2][0].rhs(), w_2 == C_array[2][1].rhs())"
   ]
  },
  {
   "cell_type": "code",
   "execution_count": 142,
   "id": "applied-family",
   "metadata": {},
   "outputs": [
    {
     "data": {
      "text/plain": [
       "0.320000000000000"
      ]
     },
     "execution_count": 142,
     "metadata": {},
     "output_type": "execute_result"
    }
   ],
   "source": [
    "Pi_2_C.subs(w_1 == C_array[2][0].rhs(), w_2 == C_array[2][1].rhs())"
   ]
  },
  {
   "cell_type": "markdown",
   "id": "liquid-intensity",
   "metadata": {},
   "source": [
    "We find firm 1 makes zero profit, and firm 2 makes positive profit.\n",
    "\n",
    "We thus have the following solution:\n",
    "\n",
    "For $Y = 0.5, \\beta = 1.5$ and $\\lambda = 0.4$:\\\n",
    "Firm 1 offers $w_1 = 0.5$\\\n",
    "Firm 2 offers $w_2 = \\frac{5}{3}$\\\n",
    "High type players apply to firm 1 with probability $\\pi_h = 0$\n",
    "Low type players apply to firm 1 with probability: $\\pi_l = 0$"
   ]
  },
  {
   "cell_type": "code",
   "execution_count": 143,
   "id": "iraqi-anniversary",
   "metadata": {},
   "outputs": [
    {
     "data": {
      "text/plain": [
       "0"
      ]
     },
     "execution_count": 143,
     "metadata": {},
     "output_type": "execute_result"
    }
   ],
   "source": [
    "pi_h_C = pi_h_c\n",
    "pi_h_C"
   ]
  },
  {
   "cell_type": "code",
   "execution_count": 144,
   "id": "contemporary-officer",
   "metadata": {
    "scrolled": true
   },
   "outputs": [
    {
     "data": {
      "text/plain": [
       "0.000000000000000"
      ]
     },
     "execution_count": 144,
     "metadata": {},
     "output_type": "execute_result"
    }
   ],
   "source": [
    "pi_l_C = pi_l_c.subs(w_1 == C_array[2][0].rhs(), w_2 == C_array[2][1].rhs())\n",
    "pi_l_C"
   ]
  },
  {
   "cell_type": "code",
   "execution_count": 145,
   "id": "accessory-stability",
   "metadata": {},
   "outputs": [
    {
     "data": {
      "text/plain": [
       "True"
      ]
     },
     "execution_count": 145,
     "metadata": {},
     "output_type": "execute_result"
    }
   ],
   "source": [
    "bool((0.4*w_1 + (1-0.4)).subs(w_1 == C_array[2][0].rhs())<(C_array[2][1].rhs()))"
   ]
  },
  {
   "cell_type": "markdown",
   "id": "yellow-traveler",
   "metadata": {},
   "source": [
    "As before, we find the condition we wished to prove (again reversing firms 1 and 2 since firm 2 has the larger revenue)."
   ]
  },
  {
   "cell_type": "markdown",
   "id": "large-soviet",
   "metadata": {},
   "source": [
    "# Conclusion\n",
    "\n",
    "So we have established the strategies and best response functions for high and low type players, established the expected payoff models for firms 1 and 2 and examined the behaviour of these two firms when varying the parameters. \n",
    "\n",
    "We find increasing the probability of a worker being of high-type, increases the offered wages. When the variation in productivity between worker types is very small there is no pure strategy equilibrium, while increasing the productivity of high type workers, increases firm's profit.\n",
    "\n",
    "In instances where there is a pure strategy equilibrium, we find if the revenue of firm 1 is strictly larger than firm 2, then in the equilibrium firm 1 must set a strictly higher wage than firm 2 and that the wage that firm 1 sets will be such that $\\lambda w_1 + (1-\\lambda) \\leq w_2$. $\\square$"
   ]
  }
 ],
 "metadata": {
  "kernelspec": {
   "display_name": "SageMath 9.2",
   "language": "sage",
   "name": "sagemath"
  },
  "language_info": {
   "codemirror_mode": {
    "name": "ipython",
    "version": 3
   },
   "file_extension": ".py",
   "mimetype": "text/x-python",
   "name": "python",
   "nbconvert_exporter": "python",
   "pygments_lexer": "ipython3",
   "version": "3.7.9"
  }
 },
 "nbformat": 4,
 "nbformat_minor": 5
}
